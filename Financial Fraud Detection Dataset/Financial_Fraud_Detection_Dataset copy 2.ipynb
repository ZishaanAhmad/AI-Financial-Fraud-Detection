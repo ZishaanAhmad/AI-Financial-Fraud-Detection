{
  "cells": [
    {
      "cell_type": "code",
      "execution_count": 1,
      "metadata": {
        "id": "WNd_RtW7WQVN"
      },
      "outputs": [],
      "source": [
        "# Core Imports\n",
        "import pandas as pd\n",
        "import numpy as np\n",
        "import matplotlib.pyplot as plt\n",
        "import seaborn as sns\n",
        "import joblib\n",
        "import os\n",
        "from pathlib import Path\n",
        "\n",
        "# ML/Stats Tools\n",
        "from sklearn.model_selection import train_test_split, cross_val_score, ParameterGrid\n",
        "from sklearn.metrics import (classification_report, confusion_matrix, \n",
        "                           ConfusionMatrixDisplay, roc_auc_score, \n",
        "                           make_scorer, f1_score)\n",
        "from sklearn.ensemble import IsolationForest\n",
        "from sklearn.ensemble import RandomForestClassifier, GradientBoostingClassifier, AdaBoostClassifier\n",
        "# Libraries for selected models\n",
        "from lightgbm import LGBMClassifier\n",
        "from xgboost import XGBClassifier\n",
        "from catboost import CatBoostClassifier\n",
        "from imblearn.ensemble import BalancedRandomForestClassifier, EasyEnsembleClassifier\n",
        "\n",
        "from IPython.display import display\n"
      ]
    },
    {
      "cell_type": "code",
      "execution_count": 2,
      "metadata": {},
      "outputs": [],
      "source": [
        "# Create a models directory if it doesn't exist\n",
        "MODEL_DIR = \"new_models\"\n",
        "Path(MODEL_DIR).mkdir(parents=True, exist_ok=True)"
      ]
    },
    {
      "cell_type": "code",
      "execution_count": 3,
      "metadata": {
        "id": "4ReOTEayWQ_M"
      },
      "outputs": [],
      "source": [
        "# =============================================================================\n",
        "# Data Loading and Preprocessing\n",
        "# =============================================================================\n",
        "file_path = 'Synthetic_Financial_datasets_log.csv'\n",
        "df = pd.read_csv(file_path, low_memory=False)"
      ]
    },
    {
      "cell_type": "code",
      "execution_count": 4,
      "metadata": {
        "colab": {
          "base_uri": "https://localhost:8080/",
          "height": 226
        },
        "id": "GKQ_u9EbWQrW",
        "outputId": "78fda7ce-0a36-450c-c374-d7a226ead23f"
      },
      "outputs": [
        {
          "name": "stdout",
          "output_type": "stream",
          "text": [
            "Data shape: (6362620, 11)\n"
          ]
        },
        {
          "data": {
            "text/html": [
              "<div>\n",
              "<style scoped>\n",
              "    .dataframe tbody tr th:only-of-type {\n",
              "        vertical-align: middle;\n",
              "    }\n",
              "\n",
              "    .dataframe tbody tr th {\n",
              "        vertical-align: top;\n",
              "    }\n",
              "\n",
              "    .dataframe thead th {\n",
              "        text-align: right;\n",
              "    }\n",
              "</style>\n",
              "<table border=\"1\" class=\"dataframe\">\n",
              "  <thead>\n",
              "    <tr style=\"text-align: right;\">\n",
              "      <th></th>\n",
              "      <th>step</th>\n",
              "      <th>type</th>\n",
              "      <th>amount</th>\n",
              "      <th>nameOrig</th>\n",
              "      <th>oldbalanceOrg</th>\n",
              "      <th>newbalanceOrig</th>\n",
              "      <th>nameDest</th>\n",
              "      <th>oldbalanceDest</th>\n",
              "      <th>newbalanceDest</th>\n",
              "      <th>isFraud</th>\n",
              "      <th>isFlaggedFraud</th>\n",
              "    </tr>\n",
              "  </thead>\n",
              "  <tbody>\n",
              "    <tr>\n",
              "      <th>0</th>\n",
              "      <td>1</td>\n",
              "      <td>PAYMENT</td>\n",
              "      <td>9839.64</td>\n",
              "      <td>C1231006815</td>\n",
              "      <td>170136.0</td>\n",
              "      <td>160296.36</td>\n",
              "      <td>M1979787155</td>\n",
              "      <td>0.0</td>\n",
              "      <td>0.0</td>\n",
              "      <td>0</td>\n",
              "      <td>0</td>\n",
              "    </tr>\n",
              "    <tr>\n",
              "      <th>1</th>\n",
              "      <td>1</td>\n",
              "      <td>PAYMENT</td>\n",
              "      <td>1864.28</td>\n",
              "      <td>C1666544295</td>\n",
              "      <td>21249.0</td>\n",
              "      <td>19384.72</td>\n",
              "      <td>M2044282225</td>\n",
              "      <td>0.0</td>\n",
              "      <td>0.0</td>\n",
              "      <td>0</td>\n",
              "      <td>0</td>\n",
              "    </tr>\n",
              "    <tr>\n",
              "      <th>2</th>\n",
              "      <td>1</td>\n",
              "      <td>TRANSFER</td>\n",
              "      <td>181.00</td>\n",
              "      <td>C1305486145</td>\n",
              "      <td>181.0</td>\n",
              "      <td>0.00</td>\n",
              "      <td>C553264065</td>\n",
              "      <td>0.0</td>\n",
              "      <td>0.0</td>\n",
              "      <td>1</td>\n",
              "      <td>0</td>\n",
              "    </tr>\n",
              "    <tr>\n",
              "      <th>3</th>\n",
              "      <td>1</td>\n",
              "      <td>CASH_OUT</td>\n",
              "      <td>181.00</td>\n",
              "      <td>C840083671</td>\n",
              "      <td>181.0</td>\n",
              "      <td>0.00</td>\n",
              "      <td>C38997010</td>\n",
              "      <td>21182.0</td>\n",
              "      <td>0.0</td>\n",
              "      <td>1</td>\n",
              "      <td>0</td>\n",
              "    </tr>\n",
              "    <tr>\n",
              "      <th>4</th>\n",
              "      <td>1</td>\n",
              "      <td>PAYMENT</td>\n",
              "      <td>11668.14</td>\n",
              "      <td>C2048537720</td>\n",
              "      <td>41554.0</td>\n",
              "      <td>29885.86</td>\n",
              "      <td>M1230701703</td>\n",
              "      <td>0.0</td>\n",
              "      <td>0.0</td>\n",
              "      <td>0</td>\n",
              "      <td>0</td>\n",
              "    </tr>\n",
              "  </tbody>\n",
              "</table>\n",
              "</div>"
            ],
            "text/plain": [
              "   step      type    amount     nameOrig  oldbalanceOrg  newbalanceOrig  \\\n",
              "0     1   PAYMENT   9839.64  C1231006815       170136.0       160296.36   \n",
              "1     1   PAYMENT   1864.28  C1666544295        21249.0        19384.72   \n",
              "2     1  TRANSFER    181.00  C1305486145          181.0            0.00   \n",
              "3     1  CASH_OUT    181.00   C840083671          181.0            0.00   \n",
              "4     1   PAYMENT  11668.14  C2048537720        41554.0        29885.86   \n",
              "\n",
              "      nameDest  oldbalanceDest  newbalanceDest  isFraud  isFlaggedFraud  \n",
              "0  M1979787155             0.0             0.0        0               0  \n",
              "1  M2044282225             0.0             0.0        0               0  \n",
              "2   C553264065             0.0             0.0        1               0  \n",
              "3    C38997010         21182.0             0.0        1               0  \n",
              "4  M1230701703             0.0             0.0        0               0  "
            ]
          },
          "metadata": {},
          "output_type": "display_data"
        }
      ],
      "source": [
        "# Display basic info\n",
        "print(\"Data shape:\", df.shape)\n",
        "display(df.head())"
      ]
    },
    {
      "cell_type": "code",
      "execution_count": 5,
      "metadata": {
        "colab": {
          "base_uri": "https://localhost:8080/",
          "height": 320
        },
        "id": "6fixtyOMWZT_",
        "outputId": "412e4880-a51b-4c18-dff3-e17f0b40c48a"
      },
      "outputs": [
        {
          "data": {
            "text/html": [
              "<div>\n",
              "<style scoped>\n",
              "    .dataframe tbody tr th:only-of-type {\n",
              "        vertical-align: middle;\n",
              "    }\n",
              "\n",
              "    .dataframe tbody tr th {\n",
              "        vertical-align: top;\n",
              "    }\n",
              "\n",
              "    .dataframe thead th {\n",
              "        text-align: right;\n",
              "    }\n",
              "</style>\n",
              "<table border=\"1\" class=\"dataframe\">\n",
              "  <thead>\n",
              "    <tr style=\"text-align: right;\">\n",
              "      <th></th>\n",
              "      <th>step</th>\n",
              "      <th>amount</th>\n",
              "      <th>oldbalanceOrg</th>\n",
              "      <th>newbalanceOrig</th>\n",
              "      <th>oldbalanceDest</th>\n",
              "      <th>newbalanceDest</th>\n",
              "      <th>isFraud</th>\n",
              "      <th>isFlaggedFraud</th>\n",
              "    </tr>\n",
              "  </thead>\n",
              "  <tbody>\n",
              "    <tr>\n",
              "      <th>count</th>\n",
              "      <td>6.362620e+06</td>\n",
              "      <td>6.362620e+06</td>\n",
              "      <td>6.362620e+06</td>\n",
              "      <td>6.362620e+06</td>\n",
              "      <td>6.362620e+06</td>\n",
              "      <td>6.362620e+06</td>\n",
              "      <td>6.362620e+06</td>\n",
              "      <td>6.362620e+06</td>\n",
              "    </tr>\n",
              "    <tr>\n",
              "      <th>mean</th>\n",
              "      <td>2.433972e+02</td>\n",
              "      <td>1.798619e+05</td>\n",
              "      <td>8.338831e+05</td>\n",
              "      <td>8.551137e+05</td>\n",
              "      <td>1.100702e+06</td>\n",
              "      <td>1.224996e+06</td>\n",
              "      <td>1.290820e-03</td>\n",
              "      <td>2.514687e-06</td>\n",
              "    </tr>\n",
              "    <tr>\n",
              "      <th>std</th>\n",
              "      <td>1.423320e+02</td>\n",
              "      <td>6.038582e+05</td>\n",
              "      <td>2.888243e+06</td>\n",
              "      <td>2.924049e+06</td>\n",
              "      <td>3.399180e+06</td>\n",
              "      <td>3.674129e+06</td>\n",
              "      <td>3.590480e-02</td>\n",
              "      <td>1.585775e-03</td>\n",
              "    </tr>\n",
              "    <tr>\n",
              "      <th>min</th>\n",
              "      <td>1.000000e+00</td>\n",
              "      <td>0.000000e+00</td>\n",
              "      <td>0.000000e+00</td>\n",
              "      <td>0.000000e+00</td>\n",
              "      <td>0.000000e+00</td>\n",
              "      <td>0.000000e+00</td>\n",
              "      <td>0.000000e+00</td>\n",
              "      <td>0.000000e+00</td>\n",
              "    </tr>\n",
              "    <tr>\n",
              "      <th>25%</th>\n",
              "      <td>1.560000e+02</td>\n",
              "      <td>1.338957e+04</td>\n",
              "      <td>0.000000e+00</td>\n",
              "      <td>0.000000e+00</td>\n",
              "      <td>0.000000e+00</td>\n",
              "      <td>0.000000e+00</td>\n",
              "      <td>0.000000e+00</td>\n",
              "      <td>0.000000e+00</td>\n",
              "    </tr>\n",
              "    <tr>\n",
              "      <th>50%</th>\n",
              "      <td>2.390000e+02</td>\n",
              "      <td>7.487194e+04</td>\n",
              "      <td>1.420800e+04</td>\n",
              "      <td>0.000000e+00</td>\n",
              "      <td>1.327057e+05</td>\n",
              "      <td>2.146614e+05</td>\n",
              "      <td>0.000000e+00</td>\n",
              "      <td>0.000000e+00</td>\n",
              "    </tr>\n",
              "    <tr>\n",
              "      <th>75%</th>\n",
              "      <td>3.350000e+02</td>\n",
              "      <td>2.087215e+05</td>\n",
              "      <td>1.073152e+05</td>\n",
              "      <td>1.442584e+05</td>\n",
              "      <td>9.430367e+05</td>\n",
              "      <td>1.111909e+06</td>\n",
              "      <td>0.000000e+00</td>\n",
              "      <td>0.000000e+00</td>\n",
              "    </tr>\n",
              "    <tr>\n",
              "      <th>max</th>\n",
              "      <td>7.430000e+02</td>\n",
              "      <td>9.244552e+07</td>\n",
              "      <td>5.958504e+07</td>\n",
              "      <td>4.958504e+07</td>\n",
              "      <td>3.560159e+08</td>\n",
              "      <td>3.561793e+08</td>\n",
              "      <td>1.000000e+00</td>\n",
              "      <td>1.000000e+00</td>\n",
              "    </tr>\n",
              "  </tbody>\n",
              "</table>\n",
              "</div>"
            ],
            "text/plain": [
              "               step        amount  oldbalanceOrg  newbalanceOrig  \\\n",
              "count  6.362620e+06  6.362620e+06   6.362620e+06    6.362620e+06   \n",
              "mean   2.433972e+02  1.798619e+05   8.338831e+05    8.551137e+05   \n",
              "std    1.423320e+02  6.038582e+05   2.888243e+06    2.924049e+06   \n",
              "min    1.000000e+00  0.000000e+00   0.000000e+00    0.000000e+00   \n",
              "25%    1.560000e+02  1.338957e+04   0.000000e+00    0.000000e+00   \n",
              "50%    2.390000e+02  7.487194e+04   1.420800e+04    0.000000e+00   \n",
              "75%    3.350000e+02  2.087215e+05   1.073152e+05    1.442584e+05   \n",
              "max    7.430000e+02  9.244552e+07   5.958504e+07    4.958504e+07   \n",
              "\n",
              "       oldbalanceDest  newbalanceDest       isFraud  isFlaggedFraud  \n",
              "count    6.362620e+06    6.362620e+06  6.362620e+06    6.362620e+06  \n",
              "mean     1.100702e+06    1.224996e+06  1.290820e-03    2.514687e-06  \n",
              "std      3.399180e+06    3.674129e+06  3.590480e-02    1.585775e-03  \n",
              "min      0.000000e+00    0.000000e+00  0.000000e+00    0.000000e+00  \n",
              "25%      0.000000e+00    0.000000e+00  0.000000e+00    0.000000e+00  \n",
              "50%      1.327057e+05    2.146614e+05  0.000000e+00    0.000000e+00  \n",
              "75%      9.430367e+05    1.111909e+06  0.000000e+00    0.000000e+00  \n",
              "max      3.560159e+08    3.561793e+08  1.000000e+00    1.000000e+00  "
            ]
          },
          "execution_count": 5,
          "metadata": {},
          "output_type": "execute_result"
        }
      ],
      "source": [
        "df.describe()"
      ]
    },
    {
      "cell_type": "markdown",
      "metadata": {
        "id": "-nJ_qVWvXhH_"
      },
      "source": [
        "# DELETING 100% NULL NUMERIC COLUMNS"
      ]
    },
    {
      "cell_type": "code",
      "execution_count": 6,
      "metadata": {
        "id": "AVnh7EnOW1xN"
      },
      "outputs": [],
      "source": [
        "nan_col = []\n",
        "for i in df.columns:\n",
        "  if df[i].dtype == 'float64' and df[i].describe()['count'] == 0.0:\n",
        "    nan_col.append(i)\n",
        "# nan_col # NAN numeric columns"
      ]
    },
    {
      "cell_type": "code",
      "execution_count": 7,
      "metadata": {
        "id": "5Hj8o4OnW1uV"
      },
      "outputs": [
        {
          "name": "stdout",
          "output_type": "stream",
          "text": [
            "Dropped 0 null columns\n"
          ]
        }
      ],
      "source": [
        "#Drop 81 NAN numeric columns\n",
        "df.drop(nan_col, axis=1, inplace=True)\n",
        "print(f\"Dropped {len(nan_col)} null columns\")"
      ]
    },
    {
      "cell_type": "code",
      "execution_count": 8,
      "metadata": {
        "colab": {
          "base_uri": "https://localhost:8080/",
          "height": 132
        },
        "id": "A5cph19lW1rN",
        "outputId": "543871a2-2176-4746-eb71-43ac82162cee"
      },
      "outputs": [
        {
          "data": {
            "text/html": [
              "<div>\n",
              "<style scoped>\n",
              "    .dataframe tbody tr th:only-of-type {\n",
              "        vertical-align: middle;\n",
              "    }\n",
              "\n",
              "    .dataframe tbody tr th {\n",
              "        vertical-align: top;\n",
              "    }\n",
              "\n",
              "    .dataframe thead th {\n",
              "        text-align: right;\n",
              "    }\n",
              "</style>\n",
              "<table border=\"1\" class=\"dataframe\">\n",
              "  <thead>\n",
              "    <tr style=\"text-align: right;\">\n",
              "      <th></th>\n",
              "      <th>step</th>\n",
              "      <th>type</th>\n",
              "      <th>amount</th>\n",
              "      <th>nameOrig</th>\n",
              "      <th>oldbalanceOrg</th>\n",
              "      <th>newbalanceOrig</th>\n",
              "      <th>nameDest</th>\n",
              "      <th>oldbalanceDest</th>\n",
              "      <th>newbalanceDest</th>\n",
              "      <th>isFraud</th>\n",
              "      <th>isFlaggedFraud</th>\n",
              "    </tr>\n",
              "  </thead>\n",
              "  <tbody>\n",
              "    <tr>\n",
              "      <th>0</th>\n",
              "      <td>1</td>\n",
              "      <td>PAYMENT</td>\n",
              "      <td>9839.64</td>\n",
              "      <td>C1231006815</td>\n",
              "      <td>170136.0</td>\n",
              "      <td>160296.36</td>\n",
              "      <td>M1979787155</td>\n",
              "      <td>0.0</td>\n",
              "      <td>0.0</td>\n",
              "      <td>0</td>\n",
              "      <td>0</td>\n",
              "    </tr>\n",
              "    <tr>\n",
              "      <th>1</th>\n",
              "      <td>1</td>\n",
              "      <td>PAYMENT</td>\n",
              "      <td>1864.28</td>\n",
              "      <td>C1666544295</td>\n",
              "      <td>21249.0</td>\n",
              "      <td>19384.72</td>\n",
              "      <td>M2044282225</td>\n",
              "      <td>0.0</td>\n",
              "      <td>0.0</td>\n",
              "      <td>0</td>\n",
              "      <td>0</td>\n",
              "    </tr>\n",
              "    <tr>\n",
              "      <th>2</th>\n",
              "      <td>1</td>\n",
              "      <td>TRANSFER</td>\n",
              "      <td>181.00</td>\n",
              "      <td>C1305486145</td>\n",
              "      <td>181.0</td>\n",
              "      <td>0.00</td>\n",
              "      <td>C553264065</td>\n",
              "      <td>0.0</td>\n",
              "      <td>0.0</td>\n",
              "      <td>1</td>\n",
              "      <td>0</td>\n",
              "    </tr>\n",
              "    <tr>\n",
              "      <th>3</th>\n",
              "      <td>1</td>\n",
              "      <td>CASH_OUT</td>\n",
              "      <td>181.00</td>\n",
              "      <td>C840083671</td>\n",
              "      <td>181.0</td>\n",
              "      <td>0.00</td>\n",
              "      <td>C38997010</td>\n",
              "      <td>21182.0</td>\n",
              "      <td>0.0</td>\n",
              "      <td>1</td>\n",
              "      <td>0</td>\n",
              "    </tr>\n",
              "    <tr>\n",
              "      <th>4</th>\n",
              "      <td>1</td>\n",
              "      <td>PAYMENT</td>\n",
              "      <td>11668.14</td>\n",
              "      <td>C2048537720</td>\n",
              "      <td>41554.0</td>\n",
              "      <td>29885.86</td>\n",
              "      <td>M1230701703</td>\n",
              "      <td>0.0</td>\n",
              "      <td>0.0</td>\n",
              "      <td>0</td>\n",
              "      <td>0</td>\n",
              "    </tr>\n",
              "  </tbody>\n",
              "</table>\n",
              "</div>"
            ],
            "text/plain": [
              "   step      type    amount     nameOrig  oldbalanceOrg  newbalanceOrig  \\\n",
              "0     1   PAYMENT   9839.64  C1231006815       170136.0       160296.36   \n",
              "1     1   PAYMENT   1864.28  C1666544295        21249.0        19384.72   \n",
              "2     1  TRANSFER    181.00  C1305486145          181.0            0.00   \n",
              "3     1  CASH_OUT    181.00   C840083671          181.0            0.00   \n",
              "4     1   PAYMENT  11668.14  C2048537720        41554.0        29885.86   \n",
              "\n",
              "      nameDest  oldbalanceDest  newbalanceDest  isFraud  isFlaggedFraud  \n",
              "0  M1979787155             0.0             0.0        0               0  \n",
              "1  M2044282225             0.0             0.0        0               0  \n",
              "2   C553264065             0.0             0.0        1               0  \n",
              "3    C38997010         21182.0             0.0        1               0  \n",
              "4  M1230701703             0.0             0.0        0               0  "
            ]
          },
          "execution_count": 8,
          "metadata": {},
          "output_type": "execute_result"
        }
      ],
      "source": [
        "df.head()"
      ]
    },
    {
      "cell_type": "code",
      "execution_count": 9,
      "metadata": {
        "colab": {
          "base_uri": "https://localhost:8080/"
        },
        "id": "bC4i8ZOLW1oW",
        "outputId": "f5390ec9-b285-4b0a-c217-9cfdc69546f9"
      },
      "outputs": [
        {
          "data": {
            "text/plain": [
              "(6362620, 11)"
            ]
          },
          "execution_count": 9,
          "metadata": {},
          "output_type": "execute_result"
        }
      ],
      "source": [
        "df.shape"
      ]
    },
    {
      "cell_type": "markdown",
      "metadata": {
        "id": "TSSNYPwnXlLH"
      },
      "source": [
        "# Deleting columns with only 1 value\n",
        "because there will not be contributing in decision making"
      ]
    },
    {
      "cell_type": "code",
      "execution_count": 10,
      "metadata": {
        "colab": {
          "base_uri": "https://localhost:8080/"
        },
        "id": "tH-_SvvzXYO8",
        "outputId": "4de6817b-b177-47a3-da9c-1739a72599e6"
      },
      "outputs": [
        {
          "data": {
            "text/plain": [
              "[]"
            ]
          },
          "execution_count": 10,
          "metadata": {},
          "output_type": "execute_result"
        }
      ],
      "source": [
        "unique1_col = []\n",
        "for i in df.columns:\n",
        "  if df[i].nunique() == 1:\n",
        "    unique1_col.append(i)\n",
        "unique1_col # Having 1 unique columns"
      ]
    },
    {
      "cell_type": "code",
      "execution_count": 11,
      "metadata": {
        "colab": {
          "base_uri": "https://localhost:8080/"
        },
        "id": "Hw2IIGZ9XYMF",
        "outputId": "c341f550-894b-422a-c7a1-e54670935796"
      },
      "outputs": [
        {
          "name": "stdout",
          "output_type": "stream",
          "text": [
            "Dropped 0 single-value columns\n"
          ]
        },
        {
          "data": {
            "text/plain": [
              "(6362620, 11)"
            ]
          },
          "execution_count": 11,
          "metadata": {},
          "output_type": "execute_result"
        }
      ],
      "source": [
        "#Drop unique 1 value columns\n",
        "df.drop(unique1_col, axis=1, inplace=True)\n",
        "print(f\"Dropped {len(unique1_col)} single-value columns\")\n",
        "df.shape"
      ]
    },
    {
      "cell_type": "markdown",
      "metadata": {
        "id": "lcdOwvnAbUKD"
      },
      "source": [
        "# Deleting NULL values columns other than numeric"
      ]
    },
    {
      "cell_type": "code",
      "execution_count": 12,
      "metadata": {
        "colab": {
          "base_uri": "https://localhost:8080/"
        },
        "id": "anyqkCgRbVbl",
        "outputId": "c78ad1e7-08d6-49ea-be8e-9533274f78b0"
      },
      "outputs": [
        {
          "data": {
            "text/plain": [
              "[]"
            ]
          },
          "execution_count": 12,
          "metadata": {},
          "output_type": "execute_result"
        }
      ],
      "source": [
        "null90_col = []\n",
        "for i in df.columns:\n",
        "  if df[i].isnull().sum() * 100 / df.shape[0] >= 90.0:\n",
        "    null90_col.append(i)\n",
        "null90_col # Having 90% null columns"
      ]
    },
    {
      "cell_type": "code",
      "execution_count": 13,
      "metadata": {
        "colab": {
          "base_uri": "https://localhost:8080/"
        },
        "id": "6Rg4asaMbYK0",
        "outputId": "3fd973c8-65c8-4b59-cf7e-69988892856e"
      },
      "outputs": [
        {
          "name": "stdout",
          "output_type": "stream",
          "text": [
            "Dropped 0 90%-null columns\n"
          ]
        },
        {
          "data": {
            "text/plain": [
              "(6362620, 11)"
            ]
          },
          "execution_count": 13,
          "metadata": {},
          "output_type": "execute_result"
        }
      ],
      "source": [
        "#Drop 90% null value columns\n",
        "df.drop(null90_col, axis=1, inplace=True)\n",
        "print(f\"Dropped {len(null90_col)} 90%-null columns\")\n",
        "df.shape"
      ]
    },
    {
      "cell_type": "code",
      "execution_count": 14,
      "metadata": {
        "id": "03BwMaR6W1lN"
      },
      "outputs": [],
      "source": [
        "# Data Exploration Functions (Same as before)\n",
        "def stats_generate(df):\n",
        "    stats = []\n",
        "    for col in df.columns:\n",
        "        stats.append({\n",
        "            'Column Name': col,\n",
        "            'Unique_values': df[col].nunique(),\n",
        "            'Percentage of NULL values': df[col].isnull().sum() * 100 / df.shape[0],\n",
        "            'data type': df[col].dtype\n",
        "        })\n",
        "    return pd.DataFrame(stats)"
      ]
    },
    {
      "cell_type": "code",
      "execution_count": 15,
      "metadata": {},
      "outputs": [],
      "source": [
        "def Catergories(df, col):\n",
        "    print(f\"--- {col} ---\")\n",
        "    print(\"Unique values:\", df[col].unique())\n",
        "    print(\"Null values:\", df[col].isnull().sum())\n",
        "    df[col].value_counts().plot(kind='bar')\n",
        "    plt.title(col)\n",
        "    plt.ylabel('Count')\n",
        "    plt.show()"
      ]
    },
    {
      "cell_type": "code",
      "execution_count": 16,
      "metadata": {
        "colab": {
          "base_uri": "https://localhost:8080/",
          "height": 394
        },
        "id": "nZ3lRX7JXYVP",
        "outputId": "4237e681-3ed1-4571-d362-4df6d70ba176"
      },
      "outputs": [
        {
          "data": {
            "text/html": [
              "<div>\n",
              "<style scoped>\n",
              "    .dataframe tbody tr th:only-of-type {\n",
              "        vertical-align: middle;\n",
              "    }\n",
              "\n",
              "    .dataframe tbody tr th {\n",
              "        vertical-align: top;\n",
              "    }\n",
              "\n",
              "    .dataframe thead th {\n",
              "        text-align: right;\n",
              "    }\n",
              "</style>\n",
              "<table border=\"1\" class=\"dataframe\">\n",
              "  <thead>\n",
              "    <tr style=\"text-align: right;\">\n",
              "      <th></th>\n",
              "      <th>Column Name</th>\n",
              "      <th>Unique_values</th>\n",
              "      <th>Percentage of NULL values</th>\n",
              "      <th>data type</th>\n",
              "    </tr>\n",
              "  </thead>\n",
              "  <tbody>\n",
              "    <tr>\n",
              "      <th>0</th>\n",
              "      <td>step</td>\n",
              "      <td>743</td>\n",
              "      <td>0.0</td>\n",
              "      <td>int64</td>\n",
              "    </tr>\n",
              "    <tr>\n",
              "      <th>1</th>\n",
              "      <td>type</td>\n",
              "      <td>5</td>\n",
              "      <td>0.0</td>\n",
              "      <td>object</td>\n",
              "    </tr>\n",
              "    <tr>\n",
              "      <th>2</th>\n",
              "      <td>amount</td>\n",
              "      <td>5316900</td>\n",
              "      <td>0.0</td>\n",
              "      <td>float64</td>\n",
              "    </tr>\n",
              "    <tr>\n",
              "      <th>3</th>\n",
              "      <td>nameOrig</td>\n",
              "      <td>6353307</td>\n",
              "      <td>0.0</td>\n",
              "      <td>object</td>\n",
              "    </tr>\n",
              "    <tr>\n",
              "      <th>4</th>\n",
              "      <td>oldbalanceOrg</td>\n",
              "      <td>1845844</td>\n",
              "      <td>0.0</td>\n",
              "      <td>float64</td>\n",
              "    </tr>\n",
              "    <tr>\n",
              "      <th>5</th>\n",
              "      <td>newbalanceOrig</td>\n",
              "      <td>2682586</td>\n",
              "      <td>0.0</td>\n",
              "      <td>float64</td>\n",
              "    </tr>\n",
              "    <tr>\n",
              "      <th>6</th>\n",
              "      <td>nameDest</td>\n",
              "      <td>2722362</td>\n",
              "      <td>0.0</td>\n",
              "      <td>object</td>\n",
              "    </tr>\n",
              "    <tr>\n",
              "      <th>7</th>\n",
              "      <td>oldbalanceDest</td>\n",
              "      <td>3614697</td>\n",
              "      <td>0.0</td>\n",
              "      <td>float64</td>\n",
              "    </tr>\n",
              "    <tr>\n",
              "      <th>8</th>\n",
              "      <td>newbalanceDest</td>\n",
              "      <td>3555499</td>\n",
              "      <td>0.0</td>\n",
              "      <td>float64</td>\n",
              "    </tr>\n",
              "    <tr>\n",
              "      <th>9</th>\n",
              "      <td>isFraud</td>\n",
              "      <td>2</td>\n",
              "      <td>0.0</td>\n",
              "      <td>int64</td>\n",
              "    </tr>\n",
              "    <tr>\n",
              "      <th>10</th>\n",
              "      <td>isFlaggedFraud</td>\n",
              "      <td>2</td>\n",
              "      <td>0.0</td>\n",
              "      <td>int64</td>\n",
              "    </tr>\n",
              "  </tbody>\n",
              "</table>\n",
              "</div>"
            ],
            "text/plain": [
              "       Column Name  Unique_values  Percentage of NULL values data type\n",
              "0             step            743                        0.0     int64\n",
              "1             type              5                        0.0    object\n",
              "2           amount        5316900                        0.0   float64\n",
              "3         nameOrig        6353307                        0.0    object\n",
              "4    oldbalanceOrg        1845844                        0.0   float64\n",
              "5   newbalanceOrig        2682586                        0.0   float64\n",
              "6         nameDest        2722362                        0.0    object\n",
              "7   oldbalanceDest        3614697                        0.0   float64\n",
              "8   newbalanceDest        3555499                        0.0   float64\n",
              "9          isFraud              2                        0.0     int64\n",
              "10  isFlaggedFraud              2                        0.0     int64"
            ]
          },
          "execution_count": 16,
          "metadata": {},
          "output_type": "execute_result"
        }
      ],
      "source": [
        "Generated_Stats = stats_generate(df)\n",
        "Generated_Stats.head(50)"
      ]
    },
    {
      "cell_type": "code",
      "execution_count": 17,
      "metadata": {
        "colab": {
          "base_uri": "https://localhost:8080/",
          "height": 669
        },
        "id": "SEfOwq04XYR0",
        "outputId": "aa4f8b85-29cb-4529-8858-654dfd0b55f8"
      },
      "outputs": [
        {
          "name": "stdout",
          "output_type": "stream",
          "text": [
            "There are:\n",
            "11 columns without missing values\n",
            "0 columns with less than 10% of missing values\n",
            " 0 columns with missing values between 10% and 50%\n",
            " 0 columns with more than 50% of missing values\n"
          ]
        },
        {
          "data": {
            "image/png": "[encoded data removed]",
            "text/plain": [
              "<Figure size 800x800 with 1 Axes>"
            ]
          },
          "metadata": {},
          "output_type": "display_data"
        }
      ],
      "source": [
        "col= \"Percentage of NULL values\"\n",
        "analysis = (Generated_Stats[col] <= 10).sum()\n",
        "a = ((Generated_Stats[col]!=0) & (Generated_Stats[col]<=10)).sum()\n",
        "b = ((Generated_Stats[col]>10) & (Generated_Stats[col]<=50)).sum()\n",
        "c = (Generated_Stats[col]>50).sum()\n",
        "print(\"There are:\\n{} columns without missing values\\n{} columns with less than 10% of missing values\\n {} columns with missing values between 10% and 50%\\n {} columns with more than 50% of missing values\".format(analysis,a,b,c))\n",
        "\n",
        "labels =[\"No missing data\", \"Missing 0-10%\", \"Missing 10-50%\", \"Missing over 50% of data\"]\n",
        "fig1, ax1 = plt.subplots(figsize=(8,8))\n",
        "ax1.pie([analysis,a,b,c], autopct='%1.1f%%',labels=labels, textprops={'fontsize': 15})\n",
        "ax1.axis('equal')\n",
        "plt.show()"
      ]
    },
    {
      "cell_type": "code",
      "execution_count": 18,
      "metadata": {
        "colab": {
          "base_uri": "https://localhost:8080/",
          "height": 226
        },
        "id": "hFZO0FNVXYJO",
        "outputId": "abf74ae0-a7c0-48cf-a546-63b3bb1da8b8"
      },
      "outputs": [
        {
          "data": {
            "text/html": [
              "<div>\n",
              "<style scoped>\n",
              "    .dataframe tbody tr th:only-of-type {\n",
              "        vertical-align: middle;\n",
              "    }\n",
              "\n",
              "    .dataframe tbody tr th {\n",
              "        vertical-align: top;\n",
              "    }\n",
              "\n",
              "    .dataframe thead th {\n",
              "        text-align: right;\n",
              "    }\n",
              "</style>\n",
              "<table border=\"1\" class=\"dataframe\">\n",
              "  <thead>\n",
              "    <tr style=\"text-align: right;\">\n",
              "      <th></th>\n",
              "      <th>step</th>\n",
              "      <th>type</th>\n",
              "      <th>amount</th>\n",
              "      <th>nameOrig</th>\n",
              "      <th>oldbalanceOrg</th>\n",
              "      <th>newbalanceOrig</th>\n",
              "      <th>nameDest</th>\n",
              "      <th>oldbalanceDest</th>\n",
              "      <th>newbalanceDest</th>\n",
              "      <th>isFraud</th>\n",
              "      <th>isFlaggedFraud</th>\n",
              "    </tr>\n",
              "  </thead>\n",
              "  <tbody>\n",
              "    <tr>\n",
              "      <th>0</th>\n",
              "      <td>1</td>\n",
              "      <td>PAYMENT</td>\n",
              "      <td>9839.64</td>\n",
              "      <td>C1231006815</td>\n",
              "      <td>170136.0</td>\n",
              "      <td>160296.36</td>\n",
              "      <td>M1979787155</td>\n",
              "      <td>0.0</td>\n",
              "      <td>0.0</td>\n",
              "      <td>0</td>\n",
              "      <td>0</td>\n",
              "    </tr>\n",
              "    <tr>\n",
              "      <th>1</th>\n",
              "      <td>1</td>\n",
              "      <td>PAYMENT</td>\n",
              "      <td>1864.28</td>\n",
              "      <td>C1666544295</td>\n",
              "      <td>21249.0</td>\n",
              "      <td>19384.72</td>\n",
              "      <td>M2044282225</td>\n",
              "      <td>0.0</td>\n",
              "      <td>0.0</td>\n",
              "      <td>0</td>\n",
              "      <td>0</td>\n",
              "    </tr>\n",
              "    <tr>\n",
              "      <th>2</th>\n",
              "      <td>1</td>\n",
              "      <td>TRANSFER</td>\n",
              "      <td>181.00</td>\n",
              "      <td>C1305486145</td>\n",
              "      <td>181.0</td>\n",
              "      <td>0.00</td>\n",
              "      <td>C553264065</td>\n",
              "      <td>0.0</td>\n",
              "      <td>0.0</td>\n",
              "      <td>1</td>\n",
              "      <td>0</td>\n",
              "    </tr>\n",
              "    <tr>\n",
              "      <th>3</th>\n",
              "      <td>1</td>\n",
              "      <td>CASH_OUT</td>\n",
              "      <td>181.00</td>\n",
              "      <td>C840083671</td>\n",
              "      <td>181.0</td>\n",
              "      <td>0.00</td>\n",
              "      <td>C38997010</td>\n",
              "      <td>21182.0</td>\n",
              "      <td>0.0</td>\n",
              "      <td>1</td>\n",
              "      <td>0</td>\n",
              "    </tr>\n",
              "    <tr>\n",
              "      <th>4</th>\n",
              "      <td>1</td>\n",
              "      <td>PAYMENT</td>\n",
              "      <td>11668.14</td>\n",
              "      <td>C2048537720</td>\n",
              "      <td>41554.0</td>\n",
              "      <td>29885.86</td>\n",
              "      <td>M1230701703</td>\n",
              "      <td>0.0</td>\n",
              "      <td>0.0</td>\n",
              "      <td>0</td>\n",
              "      <td>0</td>\n",
              "    </tr>\n",
              "  </tbody>\n",
              "</table>\n",
              "</div>"
            ],
            "text/plain": [
              "   step      type    amount     nameOrig  oldbalanceOrg  newbalanceOrig  \\\n",
              "0     1   PAYMENT   9839.64  C1231006815       170136.0       160296.36   \n",
              "1     1   PAYMENT   1864.28  C1666544295        21249.0        19384.72   \n",
              "2     1  TRANSFER    181.00  C1305486145          181.0            0.00   \n",
              "3     1  CASH_OUT    181.00   C840083671          181.0            0.00   \n",
              "4     1   PAYMENT  11668.14  C2048537720        41554.0        29885.86   \n",
              "\n",
              "      nameDest  oldbalanceDest  newbalanceDest  isFraud  isFlaggedFraud  \n",
              "0  M1979787155             0.0             0.0        0               0  \n",
              "1  M2044282225             0.0             0.0        0               0  \n",
              "2   C553264065             0.0             0.0        1               0  \n",
              "3    C38997010         21182.0             0.0        1               0  \n",
              "4  M1230701703             0.0             0.0        0               0  "
            ]
          },
          "execution_count": 18,
          "metadata": {},
          "output_type": "execute_result"
        }
      ],
      "source": [
        "df.head()"
      ]
    },
    {
      "cell_type": "code",
      "execution_count": 19,
      "metadata": {
        "colab": {
          "base_uri": "https://localhost:8080/"
        },
        "id": "SiqssOsPXX_1",
        "outputId": "d1c33a61-b585-452c-88b2-0b91fa40de35"
      },
      "outputs": [
        {
          "data": {
            "text/plain": [
              "(6362620, 11)"
            ]
          },
          "execution_count": 19,
          "metadata": {},
          "output_type": "execute_result"
        }
      ],
      "source": [
        "df.shape"
      ]
    },
    {
      "cell_type": "code",
      "execution_count": 20,
      "metadata": {
        "colab": {
          "base_uri": "https://localhost:8080/",
          "height": 591
        },
        "id": "m59RpPf5XX8_",
        "outputId": "f7e7e76b-693e-4d4a-cd92-c637e0fc3079"
      },
      "outputs": [
        {
          "name": "stdout",
          "output_type": "stream",
          "text": [
            "--- type ---\n",
            "Unique values: ['PAYMENT' 'TRANSFER' 'CASH_OUT' 'DEBIT' 'CASH_IN']\n",
            "Null values: 0\n"
          ]
        },
        {
          "data": {
            "image/png": "[encoded data removed]",
            "text/plain": [
              "<Figure size 640x480 with 1 Axes>"
            ]
          },
          "metadata": {},
          "output_type": "display_data"
        }
      ],
      "source": [
        "Catergories(df,'type')"
      ]
    },
    {
      "cell_type": "code",
      "execution_count": 21,
      "metadata": {
        "colab": {
          "base_uri": "https://localhost:8080/",
          "height": 1000
        },
        "collapsed": true,
        "id": "oCHDQXWykxJ6",
        "outputId": "f0806f3f-9d0d-463d-ec89-f47b23fa91e9"
      },
      "outputs": [
        {
          "name": "stdout",
          "output_type": "stream",
          "text": [
            "--- step ---\n",
            "Unique values: [  1   2   3   4   5   6   7   8   9  10  11  12  13  14  15  16  17  18\n",
            "  19  20  21  22  23  24  25  26  27  28  29  30  31  32  33  34  35  36\n",
            "  37  38  39  40  41  42  43  44  45  46  47  48  49  50  51  52  53  54\n",
            "  55  56  57  58  59  60  61  62  63  64  65  66  67  68  69  70  71  72\n",
            "  73  74  75  76  77  78  79  80  81  82  83  84  85  86  87  88  89  90\n",
            "  91  92  93  94  95  96  97  98  99 100 101 102 103 104 105 106 107 108\n",
            " 109 110 111 112 113 114 115 116 117 118 119 120 121 122 123 124 125 126\n",
            " 127 128 129 130 131 132 133 134 135 136 137 138 139 140 141 142 143 144\n",
            " 145 146 147 148 149 150 151 152 153 154 155 156 157 158 159 160 161 162\n",
            " 163 164 165 166 167 168 169 170 171 172 173 174 175 176 177 178 179 180\n",
            " 181 182 183 184 185 186 187 188 189 190 191 192 193 194 195 196 197 198\n",
            " 199 200 201 202 203 204 205 206 207 208 209 210 211 212 213 214 215 216\n",
            " 217 218 219 220 221 222 223 224 225 226 227 228 229 230 231 232 233 234\n",
            " 235 236 237 238 239 240 241 242 243 244 245 246 247 248 249 250 251 252\n",
            " 253 254 255 256 257 258 259 260 261 262 263 264 265 266 267 268 269 270\n",
            " 271 272 273 274 275 276 277 278 279 280 281 282 283 284 285 286 287 288\n",
            " 289 290 291 292 293 294 295 296 297 298 299 300 301 302 303 304 305 306\n",
            " 307 308 309 310 311 312 313 314 315 316 317 318 319 320 321 322 323 324\n",
            " 325 326 327 328 329 330 331 332 333 334 335 336 337 338 339 340 341 342\n",
            " 343 344 345 346 347 348 349 350 351 352 353 354 355 356 357 358 359 360\n",
            " 361 362 363 364 365 366 367 368 369 370 371 372 373 374 375 376 377 378\n",
            " 379 380 381 382 383 384 385 386 387 388 389 390 391 392 393 394 395 396\n",
            " 397 398 399 400 401 402 403 404 405 406 407 408 409 410 411 412 413 414\n",
            " 415 416 417 418 419 420 421 422 423 424 425 426 427 428 429 430 431 432\n",
            " 433 434 435 436 437 438 439 440 441 442 443 444 445 446 447 448 449 450\n",
            " 451 452 453 454 455 456 457 458 459 460 461 462 463 464 465 466 467 468\n",
            " 469 470 471 472 473 474 475 476 477 478 479 480 481 482 483 484 485 486\n",
            " 487 488 489 490 491 492 493 494 495 496 497 498 499 500 501 502 503 504\n",
            " 505 506 507 508 509 510 511 512 513 514 515 516 517 518 519 520 521 522\n",
            " 523 524 525 526 527 528 529 530 531 532 533 534 535 536 537 538 539 540\n",
            " 541 542 543 544 545 546 547 548 549 550 551 552 553 554 555 556 557 558\n",
            " 559 560 561 562 563 564 565 566 567 568 569 570 571 572 573 574 575 576\n",
            " 577 578 579 580 581 582 583 584 585 586 587 588 589 590 591 592 593 594\n",
            " 595 596 597 598 599 600 601 602 603 604 605 606 607 608 609 610 611 612\n",
            " 613 614 615 616 617 618 619 620 621 622 623 624 625 626 627 628 629 630\n",
            " 631 632 633 634 635 636 637 638 639 640 641 642 643 644 645 646 647 648\n",
            " 649 650 651 652 653 654 655 656 657 658 659 660 661 662 663 664 665 666\n",
            " 667 668 669 670 671 672 673 674 675 676 677 678 679 680 681 682 683 684\n",
            " 685 686 687 688 689 690 691 692 693 694 695 696 697 698 699 700 701 702\n",
            " 703 704 705 706 707 708 709 710 711 712 713 714 715 716 717 718 719 720\n",
            " 721 722 723 724 725 726 727 728 729 730 731 732 733 734 735 736 737 738\n",
            " 739 740 741 742 743]\n",
            "Null values: 0\n"
          ]
        },
        {
          "data": {
            "image/png": "[encoded data removed]",
            "text/plain": [
              "<Figure size 640x480 with 1 Axes>"
            ]
          },
          "metadata": {},
          "output_type": "display_data"
        }
      ],
      "source": [
        "Catergories(df,'step')"
      ]
    },
    {
      "cell_type": "code",
      "execution_count": 22,
      "metadata": {
        "colab": {
          "base_uri": "https://localhost:8080/",
          "height": 525
        },
        "id": "AGhMF0L-mAKt",
        "outputId": "1103ae10-731a-4c0d-d8fb-6ac0c30b4438"
      },
      "outputs": [
        {
          "name": "stdout",
          "output_type": "stream",
          "text": [
            "--- isFraud ---\n",
            "Unique values: [0 1]\n",
            "Null values: 0\n"
          ]
        },
        {
          "data": {
            "image/png": "[encoded data removed]",
            "text/plain": [
              "<Figure size 640x480 with 1 Axes>"
            ]
          },
          "metadata": {},
          "output_type": "display_data"
        }
      ],
      "source": [
        "Catergories(df,'isFraud')"
      ]
    },
    {
      "cell_type": "code",
      "execution_count": 23,
      "metadata": {
        "colab": {
          "base_uri": "https://localhost:8080/",
          "height": 829
        },
        "id": "lRDhe1u-XX2v",
        "outputId": "2ce90172-cc7f-4e77-acb3-743c242d120f"
      },
      "outputs": [
        {
          "data": {
            "image/png": "[encoded data removed]",
            "text/plain": [
              "<Figure size 1000x1000 with 1 Axes>"
            ]
          },
          "metadata": {},
          "output_type": "display_data"
        }
      ],
      "source": [
        "col = 'type'\n",
        "df[col].value_counts().plot.pie(labels= df[col].unique() , labeldistance = 0.7,figsize=(10, 10))\n",
        "plt.title(col)\n",
        "plt.show()"
      ]
    },
    {
      "cell_type": "code",
      "execution_count": 24,
      "metadata": {
        "colab": {
          "base_uri": "https://localhost:8080/",
          "height": 226
        },
        "id": "TGMFB4g3XXz3",
        "outputId": "8cd396af-2ea0-4531-b5e4-f0f8d312dd9c"
      },
      "outputs": [
        {
          "data": {
            "text/html": [
              "<div>\n",
              "<style scoped>\n",
              "    .dataframe tbody tr th:only-of-type {\n",
              "        vertical-align: middle;\n",
              "    }\n",
              "\n",
              "    .dataframe tbody tr th {\n",
              "        vertical-align: top;\n",
              "    }\n",
              "\n",
              "    .dataframe thead th {\n",
              "        text-align: right;\n",
              "    }\n",
              "</style>\n",
              "<table border=\"1\" class=\"dataframe\">\n",
              "  <thead>\n",
              "    <tr style=\"text-align: right;\">\n",
              "      <th></th>\n",
              "      <th>step</th>\n",
              "      <th>type</th>\n",
              "      <th>amount</th>\n",
              "      <th>nameOrig</th>\n",
              "      <th>oldbalanceOrg</th>\n",
              "      <th>newbalanceOrig</th>\n",
              "      <th>nameDest</th>\n",
              "      <th>oldbalanceDest</th>\n",
              "      <th>newbalanceDest</th>\n",
              "      <th>isFraud</th>\n",
              "      <th>isFlaggedFraud</th>\n",
              "    </tr>\n",
              "  </thead>\n",
              "  <tbody>\n",
              "    <tr>\n",
              "      <th>0</th>\n",
              "      <td>1</td>\n",
              "      <td>PAYMENT</td>\n",
              "      <td>9839.64</td>\n",
              "      <td>C1231006815</td>\n",
              "      <td>170136.0</td>\n",
              "      <td>160296.36</td>\n",
              "      <td>M1979787155</td>\n",
              "      <td>0.0</td>\n",
              "      <td>0.0</td>\n",
              "      <td>0</td>\n",
              "      <td>0</td>\n",
              "    </tr>\n",
              "    <tr>\n",
              "      <th>1</th>\n",
              "      <td>1</td>\n",
              "      <td>PAYMENT</td>\n",
              "      <td>1864.28</td>\n",
              "      <td>C1666544295</td>\n",
              "      <td>21249.0</td>\n",
              "      <td>19384.72</td>\n",
              "      <td>M2044282225</td>\n",
              "      <td>0.0</td>\n",
              "      <td>0.0</td>\n",
              "      <td>0</td>\n",
              "      <td>0</td>\n",
              "    </tr>\n",
              "    <tr>\n",
              "      <th>2</th>\n",
              "      <td>1</td>\n",
              "      <td>TRANSFER</td>\n",
              "      <td>181.00</td>\n",
              "      <td>C1305486145</td>\n",
              "      <td>181.0</td>\n",
              "      <td>0.00</td>\n",
              "      <td>C553264065</td>\n",
              "      <td>0.0</td>\n",
              "      <td>0.0</td>\n",
              "      <td>1</td>\n",
              "      <td>0</td>\n",
              "    </tr>\n",
              "    <tr>\n",
              "      <th>3</th>\n",
              "      <td>1</td>\n",
              "      <td>CASH_OUT</td>\n",
              "      <td>181.00</td>\n",
              "      <td>C840083671</td>\n",
              "      <td>181.0</td>\n",
              "      <td>0.00</td>\n",
              "      <td>C38997010</td>\n",
              "      <td>21182.0</td>\n",
              "      <td>0.0</td>\n",
              "      <td>1</td>\n",
              "      <td>0</td>\n",
              "    </tr>\n",
              "    <tr>\n",
              "      <th>4</th>\n",
              "      <td>1</td>\n",
              "      <td>PAYMENT</td>\n",
              "      <td>11668.14</td>\n",
              "      <td>C2048537720</td>\n",
              "      <td>41554.0</td>\n",
              "      <td>29885.86</td>\n",
              "      <td>M1230701703</td>\n",
              "      <td>0.0</td>\n",
              "      <td>0.0</td>\n",
              "      <td>0</td>\n",
              "      <td>0</td>\n",
              "    </tr>\n",
              "  </tbody>\n",
              "</table>\n",
              "</div>"
            ],
            "text/plain": [
              "   step      type    amount     nameOrig  oldbalanceOrg  newbalanceOrig  \\\n",
              "0     1   PAYMENT   9839.64  C1231006815       170136.0       160296.36   \n",
              "1     1   PAYMENT   1864.28  C1666544295        21249.0        19384.72   \n",
              "2     1  TRANSFER    181.00  C1305486145          181.0            0.00   \n",
              "3     1  CASH_OUT    181.00   C840083671          181.0            0.00   \n",
              "4     1   PAYMENT  11668.14  C2048537720        41554.0        29885.86   \n",
              "\n",
              "      nameDest  oldbalanceDest  newbalanceDest  isFraud  isFlaggedFraud  \n",
              "0  M1979787155             0.0             0.0        0               0  \n",
              "1  M2044282225             0.0             0.0        0               0  \n",
              "2   C553264065             0.0             0.0        1               0  \n",
              "3    C38997010         21182.0             0.0        1               0  \n",
              "4  M1230701703             0.0             0.0        0               0  "
            ]
          },
          "execution_count": 24,
          "metadata": {},
          "output_type": "execute_result"
        }
      ],
      "source": [
        "df.head()"
      ]
    },
    {
      "cell_type": "code",
      "execution_count": 25,
      "metadata": {
        "id": "5V18SnKLXXo9"
      },
      "outputs": [],
      "source": [
        "def convertToCat(df,col):\n",
        "  df[col] = df[col].astype('category')\n",
        "  df[col]= df[col].cat.codes"
      ]
    },
    {
      "cell_type": "code",
      "execution_count": 26,
      "metadata": {
        "colab": {
          "base_uri": "https://localhost:8080/",
          "height": 226
        },
        "id": "V1d9_j0_XXlk",
        "outputId": "ca910907-a4fc-4f9c-eba5-5265bec9cd34"
      },
      "outputs": [
        {
          "data": {
            "text/html": [
              "<div>\n",
              "<style scoped>\n",
              "    .dataframe tbody tr th:only-of-type {\n",
              "        vertical-align: middle;\n",
              "    }\n",
              "\n",
              "    .dataframe tbody tr th {\n",
              "        vertical-align: top;\n",
              "    }\n",
              "\n",
              "    .dataframe thead th {\n",
              "        text-align: right;\n",
              "    }\n",
              "</style>\n",
              "<table border=\"1\" class=\"dataframe\">\n",
              "  <thead>\n",
              "    <tr style=\"text-align: right;\">\n",
              "      <th></th>\n",
              "      <th>step</th>\n",
              "      <th>type</th>\n",
              "      <th>amount</th>\n",
              "      <th>nameOrig</th>\n",
              "      <th>oldbalanceOrg</th>\n",
              "      <th>newbalanceOrig</th>\n",
              "      <th>nameDest</th>\n",
              "      <th>oldbalanceDest</th>\n",
              "      <th>newbalanceDest</th>\n",
              "      <th>isFraud</th>\n",
              "      <th>isFlaggedFraud</th>\n",
              "    </tr>\n",
              "  </thead>\n",
              "  <tbody>\n",
              "    <tr>\n",
              "      <th>0</th>\n",
              "      <td>1</td>\n",
              "      <td>3</td>\n",
              "      <td>9839.64</td>\n",
              "      <td>C1231006815</td>\n",
              "      <td>170136.0</td>\n",
              "      <td>160296.36</td>\n",
              "      <td>M1979787155</td>\n",
              "      <td>0.0</td>\n",
              "      <td>0.0</td>\n",
              "      <td>0</td>\n",
              "      <td>0</td>\n",
              "    </tr>\n",
              "    <tr>\n",
              "      <th>1</th>\n",
              "      <td>1</td>\n",
              "      <td>3</td>\n",
              "      <td>1864.28</td>\n",
              "      <td>C1666544295</td>\n",
              "      <td>21249.0</td>\n",
              "      <td>19384.72</td>\n",
              "      <td>M2044282225</td>\n",
              "      <td>0.0</td>\n",
              "      <td>0.0</td>\n",
              "      <td>0</td>\n",
              "      <td>0</td>\n",
              "    </tr>\n",
              "    <tr>\n",
              "      <th>2</th>\n",
              "      <td>1</td>\n",
              "      <td>4</td>\n",
              "      <td>181.00</td>\n",
              "      <td>C1305486145</td>\n",
              "      <td>181.0</td>\n",
              "      <td>0.00</td>\n",
              "      <td>C553264065</td>\n",
              "      <td>0.0</td>\n",
              "      <td>0.0</td>\n",
              "      <td>1</td>\n",
              "      <td>0</td>\n",
              "    </tr>\n",
              "    <tr>\n",
              "      <th>3</th>\n",
              "      <td>1</td>\n",
              "      <td>1</td>\n",
              "      <td>181.00</td>\n",
              "      <td>C840083671</td>\n",
              "      <td>181.0</td>\n",
              "      <td>0.00</td>\n",
              "      <td>C38997010</td>\n",
              "      <td>21182.0</td>\n",
              "      <td>0.0</td>\n",
              "      <td>1</td>\n",
              "      <td>0</td>\n",
              "    </tr>\n",
              "    <tr>\n",
              "      <th>4</th>\n",
              "      <td>1</td>\n",
              "      <td>3</td>\n",
              "      <td>11668.14</td>\n",
              "      <td>C2048537720</td>\n",
              "      <td>41554.0</td>\n",
              "      <td>29885.86</td>\n",
              "      <td>M1230701703</td>\n",
              "      <td>0.0</td>\n",
              "      <td>0.0</td>\n",
              "      <td>0</td>\n",
              "      <td>0</td>\n",
              "    </tr>\n",
              "  </tbody>\n",
              "</table>\n",
              "</div>"
            ],
            "text/plain": [
              "   step  type    amount     nameOrig  oldbalanceOrg  newbalanceOrig  \\\n",
              "0     1     3   9839.64  C1231006815       170136.0       160296.36   \n",
              "1     1     3   1864.28  C1666544295        21249.0        19384.72   \n",
              "2     1     4    181.00  C1305486145          181.0            0.00   \n",
              "3     1     1    181.00   C840083671          181.0            0.00   \n",
              "4     1     3  11668.14  C2048537720        41554.0        29885.86   \n",
              "\n",
              "      nameDest  oldbalanceDest  newbalanceDest  isFraud  isFlaggedFraud  \n",
              "0  M1979787155             0.0             0.0        0               0  \n",
              "1  M2044282225             0.0             0.0        0               0  \n",
              "2   C553264065             0.0             0.0        1               0  \n",
              "3    C38997010         21182.0             0.0        1               0  \n",
              "4  M1230701703             0.0             0.0        0               0  "
            ]
          },
          "execution_count": 26,
          "metadata": {},
          "output_type": "execute_result"
        }
      ],
      "source": [
        "categorical_Col= ['type']\n",
        "for i in categorical_Col:\n",
        "  convertToCat(df,i)\n",
        "\n",
        "df.head()"
      ]
    },
    {
      "cell_type": "code",
      "execution_count": 27,
      "metadata": {
        "colab": {
          "base_uri": "https://localhost:8080/"
        },
        "id": "3QVaNaj7XXgE",
        "outputId": "c90ee1a7-c4d0-4383-f719-d54a832eb6b9"
      },
      "outputs": [
        {
          "data": {
            "text/plain": [
              "(6362620, 11)"
            ]
          },
          "execution_count": 27,
          "metadata": {},
          "output_type": "execute_result"
        }
      ],
      "source": [
        "df.shape"
      ]
    },
    {
      "cell_type": "code",
      "execution_count": 28,
      "metadata": {
        "id": "KUue6r0xXXdN"
      },
      "outputs": [],
      "source": [
        "def correlation(col1,col2,col3):\n",
        "  sns.heatmap(df[[col1,col2,col3]].corr(method ='pearson'), cmap='RdBu_r', annot=True, center=0.5, vmin =0, vmax=1)\n",
        "  plt.title('Correlation between' +' '+col1+ '~'+' '+ col2 +'columns\\n')\n",
        "  plt.show()"
      ]
    },
    {
      "cell_type": "code",
      "execution_count": 29,
      "metadata": {
        "id": "UvASJ784vTpE"
      },
      "outputs": [],
      "source": [
        "def correlation2(col1,col2):\n",
        "  sns.heatmap(df[[col1,col2]].corr(method ='pearson'), cmap='RdBu_r', annot=True, center=0.5, vmin =0, vmax=1)\n",
        "  plt.title('Correlation between' +' '+col1+ '~'+' '+ col2 +'columns\\n')\n",
        "  plt.show()"
      ]
    },
    {
      "cell_type": "code",
      "execution_count": 30,
      "metadata": {
        "id": "TscSz4K7ve1e"
      },
      "outputs": [],
      "source": [
        "def correlation3(col1,col2,col3, col4):\n",
        "  sns.heatmap(df[[col1,col2,col3, col4]].corr(method ='pearson'), cmap='RdBu_r', annot=True, center=0.5, vmin =0, vmax=1)\n",
        "  plt.title('Correlation between' +' '+col1+ '~'+' '+ col2 +'columns\\n')\n",
        "  plt.show()"
      ]
    },
    {
      "cell_type": "code",
      "execution_count": 31,
      "metadata": {
        "colab": {
          "base_uri": "https://localhost:8080/",
          "height": 226
        },
        "id": "sZDsYytVW1iG",
        "outputId": "56fbbfaa-fb63-42db-eb1c-8a5a39512c6b"
      },
      "outputs": [
        {
          "data": {
            "text/html": [
              "<div>\n",
              "<style scoped>\n",
              "    .dataframe tbody tr th:only-of-type {\n",
              "        vertical-align: middle;\n",
              "    }\n",
              "\n",
              "    .dataframe tbody tr th {\n",
              "        vertical-align: top;\n",
              "    }\n",
              "\n",
              "    .dataframe thead th {\n",
              "        text-align: right;\n",
              "    }\n",
              "</style>\n",
              "<table border=\"1\" class=\"dataframe\">\n",
              "  <thead>\n",
              "    <tr style=\"text-align: right;\">\n",
              "      <th></th>\n",
              "      <th>step</th>\n",
              "      <th>type</th>\n",
              "      <th>amount</th>\n",
              "      <th>oldbalanceOrg</th>\n",
              "      <th>newbalanceOrig</th>\n",
              "      <th>oldbalanceDest</th>\n",
              "      <th>newbalanceDest</th>\n",
              "      <th>isFraud</th>\n",
              "      <th>isFlaggedFraud</th>\n",
              "    </tr>\n",
              "  </thead>\n",
              "  <tbody>\n",
              "    <tr>\n",
              "      <th>0</th>\n",
              "      <td>1</td>\n",
              "      <td>3</td>\n",
              "      <td>9839.64</td>\n",
              "      <td>170136.0</td>\n",
              "      <td>160296.36</td>\n",
              "      <td>0.0</td>\n",
              "      <td>0.0</td>\n",
              "      <td>0</td>\n",
              "      <td>0</td>\n",
              "    </tr>\n",
              "    <tr>\n",
              "      <th>1</th>\n",
              "      <td>1</td>\n",
              "      <td>3</td>\n",
              "      <td>1864.28</td>\n",
              "      <td>21249.0</td>\n",
              "      <td>19384.72</td>\n",
              "      <td>0.0</td>\n",
              "      <td>0.0</td>\n",
              "      <td>0</td>\n",
              "      <td>0</td>\n",
              "    </tr>\n",
              "    <tr>\n",
              "      <th>2</th>\n",
              "      <td>1</td>\n",
              "      <td>4</td>\n",
              "      <td>181.00</td>\n",
              "      <td>181.0</td>\n",
              "      <td>0.00</td>\n",
              "      <td>0.0</td>\n",
              "      <td>0.0</td>\n",
              "      <td>1</td>\n",
              "      <td>0</td>\n",
              "    </tr>\n",
              "    <tr>\n",
              "      <th>3</th>\n",
              "      <td>1</td>\n",
              "      <td>1</td>\n",
              "      <td>181.00</td>\n",
              "      <td>181.0</td>\n",
              "      <td>0.00</td>\n",
              "      <td>21182.0</td>\n",
              "      <td>0.0</td>\n",
              "      <td>1</td>\n",
              "      <td>0</td>\n",
              "    </tr>\n",
              "    <tr>\n",
              "      <th>4</th>\n",
              "      <td>1</td>\n",
              "      <td>3</td>\n",
              "      <td>11668.14</td>\n",
              "      <td>41554.0</td>\n",
              "      <td>29885.86</td>\n",
              "      <td>0.0</td>\n",
              "      <td>0.0</td>\n",
              "      <td>0</td>\n",
              "      <td>0</td>\n",
              "    </tr>\n",
              "  </tbody>\n",
              "</table>\n",
              "</div>"
            ],
            "text/plain": [
              "   step  type    amount  oldbalanceOrg  newbalanceOrig  oldbalanceDest  \\\n",
              "0     1     3   9839.64       170136.0       160296.36             0.0   \n",
              "1     1     3   1864.28        21249.0        19384.72             0.0   \n",
              "2     1     4    181.00          181.0            0.00             0.0   \n",
              "3     1     1    181.00          181.0            0.00         21182.0   \n",
              "4     1     3  11668.14        41554.0        29885.86             0.0   \n",
              "\n",
              "   newbalanceDest  isFraud  isFlaggedFraud  \n",
              "0             0.0        0               0  \n",
              "1             0.0        0               0  \n",
              "2             0.0        1               0  \n",
              "3             0.0        1               0  \n",
              "4             0.0        0               0  "
            ]
          },
          "execution_count": 31,
          "metadata": {},
          "output_type": "execute_result"
        }
      ],
      "source": [
        "df.drop(columns=[\"nameOrig\", \"nameDest\"], inplace=True)\n",
        "df.head()"
      ]
    },
    {
      "cell_type": "code",
      "execution_count": 32,
      "metadata": {
        "id": "ECm10sjAW1ee"
      },
      "outputs": [],
      "source": [
        "def get_skewwed_dataframe(df):\n",
        "    pd.options.display.float_format = '{:,.4f}'.format\n",
        "    sk_df = pd.DataFrame([{'column': c,\n",
        "                          'uniq': df[c].nunique(),\n",
        "                          'skewness': df[c].value_counts(normalize=True).values[0] * 100\n",
        "                          } for c in df.columns])\n",
        "    sk_df = sk_df.sort_values('skewness', ascending=False)\n",
        "    return sk_df"
      ]
    },
    {
      "cell_type": "code",
      "execution_count": 33,
      "metadata": {
        "id": "sJHMAuixW1YO"
      },
      "outputs": [],
      "source": [
        "_skewwed_data = get_skewwed_dataframe(df)"
      ]
    },
    {
      "cell_type": "code",
      "execution_count": 34,
      "metadata": {
        "colab": {
          "base_uri": "https://localhost:8080/",
          "height": 394
        },
        "id": "qvCISu4CW1P4",
        "outputId": "1830b3a3-161a-4d3f-e165-564cb94cf62b"
      },
      "outputs": [
        {
          "data": {
            "text/html": [
              "<div>\n",
              "<style scoped>\n",
              "    .dataframe tbody tr th:only-of-type {\n",
              "        vertical-align: middle;\n",
              "    }\n",
              "\n",
              "    .dataframe tbody tr th {\n",
              "        vertical-align: top;\n",
              "    }\n",
              "\n",
              "    .dataframe thead th {\n",
              "        text-align: right;\n",
              "    }\n",
              "</style>\n",
              "<table border=\"1\" class=\"dataframe\">\n",
              "  <thead>\n",
              "    <tr style=\"text-align: right;\">\n",
              "      <th></th>\n",
              "      <th>column</th>\n",
              "      <th>uniq</th>\n",
              "      <th>skewness</th>\n",
              "    </tr>\n",
              "  </thead>\n",
              "  <tbody>\n",
              "    <tr>\n",
              "      <th>8</th>\n",
              "      <td>isFlaggedFraud</td>\n",
              "      <td>2</td>\n",
              "      <td>99.9997</td>\n",
              "    </tr>\n",
              "    <tr>\n",
              "      <th>7</th>\n",
              "      <td>isFraud</td>\n",
              "      <td>2</td>\n",
              "      <td>99.8709</td>\n",
              "    </tr>\n",
              "    <tr>\n",
              "      <th>4</th>\n",
              "      <td>newbalanceOrig</td>\n",
              "      <td>2682586</td>\n",
              "      <td>56.7308</td>\n",
              "    </tr>\n",
              "    <tr>\n",
              "      <th>5</th>\n",
              "      <td>oldbalanceDest</td>\n",
              "      <td>3614697</td>\n",
              "      <td>42.5043</td>\n",
              "    </tr>\n",
              "    <tr>\n",
              "      <th>6</th>\n",
              "      <td>newbalanceDest</td>\n",
              "      <td>3555499</td>\n",
              "      <td>38.3401</td>\n",
              "    </tr>\n",
              "    <tr>\n",
              "      <th>1</th>\n",
              "      <td>type</td>\n",
              "      <td>5</td>\n",
              "      <td>35.1663</td>\n",
              "    </tr>\n",
              "    <tr>\n",
              "      <th>3</th>\n",
              "      <td>oldbalanceOrg</td>\n",
              "      <td>1845844</td>\n",
              "      <td>33.0438</td>\n",
              "    </tr>\n",
              "    <tr>\n",
              "      <th>0</th>\n",
              "      <td>step</td>\n",
              "      <td>743</td>\n",
              "      <td>0.8071</td>\n",
              "    </tr>\n",
              "    <tr>\n",
              "      <th>2</th>\n",
              "      <td>amount</td>\n",
              "      <td>5316900</td>\n",
              "      <td>0.0504</td>\n",
              "    </tr>\n",
              "  </tbody>\n",
              "</table>\n",
              "</div>"
            ],
            "text/plain": [
              "           column     uniq  skewness\n",
              "8  isFlaggedFraud        2   99.9997\n",
              "7         isFraud        2   99.8709\n",
              "4  newbalanceOrig  2682586   56.7308\n",
              "5  oldbalanceDest  3614697   42.5043\n",
              "6  newbalanceDest  3555499   38.3401\n",
              "1            type        5   35.1663\n",
              "3   oldbalanceOrg  1845844   33.0438\n",
              "0            step      743    0.8071\n",
              "2          amount  5316900    0.0504"
            ]
          },
          "execution_count": 34,
          "metadata": {},
          "output_type": "execute_result"
        }
      ],
      "source": [
        "_skewwed_data.head(11)"
      ]
    },
    {
      "cell_type": "code",
      "execution_count": 35,
      "metadata": {
        "colab": {
          "base_uri": "https://localhost:8080/"
        },
        "id": "ZYIVywNFX_3R",
        "outputId": "4fd9b79e-2119-40c0-efea-13861fbf8a23"
      },
      "outputs": [
        {
          "name": "stdout",
          "output_type": "stream",
          "text": [
            "🔍 Class Distribution:\n",
            "isFraud\n",
            "0   0.9987\n",
            "1   0.0013\n",
            "Name: proportion, dtype: float64\n"
          ]
        }
      ],
      "source": [
        "# Fill nulls if any\n",
        "df_model = df.fillna(0)\n",
        "\n",
        "# 🎯 Features & Target\n",
        "target = 'isFraud'\n",
        "features = [col for col in df_model.columns if col != target]\n",
        "\n",
        "X = df_model[features]\n",
        "y = df_model[target]\n",
        "\n",
        "# 🧪 Train-Test Split\n",
        "X_train, X_test, y_train, y_test = train_test_split(\n",
        "    X, y, test_size=0.2, stratify=y, random_state=42)\n",
        "\n",
        "# 📊 Class Ratio Check\n",
        "print(\"🔍 Class Distribution:\")\n",
        "print(y.value_counts(normalize=True))"
      ]
    },
    {
      "cell_type": "code",
      "execution_count": 36,
      "metadata": {
        "id": "72n0Vx9baM5q"
      },
      "outputs": [],
      "source": [
        "# 🧠 Custom F1 scorer\n",
        "f1_scorer = make_scorer(f1_score)\n",
        "\n",
        "# Initialize list to store all results\n",
        "all_results = []"
      ]
    },
    {
      "cell_type": "markdown",
      "metadata": {},
      "source": [
        "# Model Training & Hypertuning Function"
      ]
    },
    {
      "cell_type": "code",
      "execution_count": 37,
      "metadata": {},
      "outputs": [],
      "source": [
        "# # =============================================================================\n",
        "# # Model Training Functions with Persistence | GridSearchCV\n",
        "# # =============================================================================\n",
        "# def train_or_load_model(model_name, model, params, X_train, y_train, X_test, y_test):\n",
        "#     \"\"\"Train or load a model with persistence\"\"\"\n",
        "#     model_path = os.path.join(MODEL_DIR, f\"{model_name}.joblib\")\n",
        "    \n",
        "#     if os.path.exists(model_path):\n",
        "#         print(f\"⏩ Loading pre-trained {model_name} model...\")\n",
        "#         model = joblib.load(model_path)\n",
        "#         best_params = \"Loaded from file\"\n",
        "#     else:\n",
        "#         if params is None:\n",
        "#             print(f\"🛠️ Training {model_name} without GridSearchCV...\")\n",
        "#             model.fit(X_train, y_train)\n",
        "#             best_params = \"Default Params\"\n",
        "#         else:\n",
        "#             print(f\"🔍 Training {model_name} with GridSearchCV...\")\n",
        "#             grid = GridSearchCV(\n",
        "#                 model,\n",
        "#                 params,\n",
        "#                 scoring=f1_scorer,\n",
        "#                 cv=3,\n",
        "#                 n_jobs=1,\n",
        "#                 verbose=0\n",
        "#             )\n",
        "#             grid.fit(X_train, y_train)\n",
        "#             model = grid.best_estimator_\n",
        "#             best_params = grid.best_params_\n",
        "            \n",
        "#         joblib.dump(model, model_path)\n",
        "#         print(f\"💾 Saved {model_name} model\")\n",
        "    \n",
        "#     # Evaluate\n",
        "#     y_pred = model.predict(X_test)\n",
        "#     y_proba = model.predict_proba(X_test)[:, 1] if hasattr(model, \"predict_proba\") else None\n",
        "    \n",
        "#     results = {\n",
        "#         \"Model\": model_name,\n",
        "#         \"F1 Score\": round(f1_score(y_test, y_pred), 4),\n",
        "#         \"ROC-AUC\": round(roc_auc_score(y_test, y_proba), 4) if y_proba is not None else \"N/A\",\n",
        "#         \"Best Params\": best_params,\n",
        "#         \"Trained Model\": model\n",
        "#     }\n",
        "    \n",
        "#     all_results.append(results)\n",
        "#     display(pd.DataFrame([results]))\n",
        "    \n",
        "#     return model"
      ]
    },
    {
      "cell_type": "code",
      "execution_count": 38,
      "metadata": {},
      "outputs": [],
      "source": [
        "# --- Define manual CV tuning function ---\n",
        "def manual_cv_search_and_save(model_name, model_class, param_grid, X_train, y_train, X_test, y_test):\n",
        "    \"\"\"Manually loop through hyperparameter combinations, use CV to find best, and save.\"\"\"\n",
        "    model_path = os.path.join(MODEL_DIR, f\"{model_name}.joblib\")\n",
        "\n",
        "    if os.path.exists(model_path):\n",
        "        print(f\"⏩ Loading pre-trained {model_name} model...\")\n",
        "        best_model = joblib.load(model_path)\n",
        "    else:\n",
        "        print(f\"🔍 Performing manual CV for {model_name} with parameter combinations...\")\n",
        "        best_score = -1\n",
        "        best_params = None\n",
        "        best_model = None\n",
        "\n",
        "        for params in ParameterGrid(param_grid):\n",
        "            model = model_class(**params)\n",
        "            cv_scores = cross_val_score(model, X_train, y_train, scoring=f1_scorer, cv=5)\n",
        "            avg_score = cv_scores.mean()\n",
        "            print(f\"Params: {params} → Avg F1: {avg_score:.4f}\")\n",
        "            if avg_score > best_score:\n",
        "                best_score = avg_score\n",
        "                best_params = params\n",
        "\n",
        "        print(f\"✅ Best params: {best_params} with F1: {best_score:.4f}\")\n",
        "        best_model = model_class(**best_params)\n",
        "        best_model.fit(X_train, y_train)\n",
        "        joblib.dump(best_model, model_path)\n",
        "        print(f\"💾 Saved {model_name} model\")\n",
        "\n",
        "    # Evaluate\n",
        "    y_pred = best_model.predict(X_test)\n",
        "    y_proba = best_model.predict_proba(X_test)[:, 1] if hasattr(best_model, \"predict_proba\") else None\n",
        "\n",
        "    results = {\n",
        "        \"Model\": model_name,\n",
        "        \"F1 Score\": round(f1_score(y_test, y_pred), 4),\n",
        "        \"ROC-AUC\": round(roc_auc_score(y_test, y_proba), 4) if y_proba is not None else \"N/A\",\n",
        "        \"Best Params\": best_model.get_params(),\n",
        "        \"Trained Model\": best_model\n",
        "    }\n",
        "    all_results.append(results)\n",
        "    display(pd.DataFrame([results]))\n",
        "    return best_model"
      ]
    },
    {
      "cell_type": "markdown",
      "metadata": {},
      "source": [
        "# Model: XGBoost"
      ]
    },
    {
      "cell_type": "code",
      "execution_count": 39,
      "metadata": {
        "colab": {
          "base_uri": "https://localhost:8080/"
        },
        "id": "GEyTrGwl9ucM",
        "outputId": "a94c7abc-7304-4655-eecf-388f46f2a10d"
      },
      "outputs": [
        {
          "name": "stdout",
          "output_type": "stream",
          "text": [
            "\n",
            "================================================================================\n",
            "🚀 XGBoost Evaluation\n",
            "================================================================================\n",
            "⏩ Loading pre-trained XGBoost_ManualCV model...\n"
          ]
        },
        {
          "data": {
            "text/html": [
              "<div>\n",
              "<style scoped>\n",
              "    .dataframe tbody tr th:only-of-type {\n",
              "        vertical-align: middle;\n",
              "    }\n",
              "\n",
              "    .dataframe tbody tr th {\n",
              "        vertical-align: top;\n",
              "    }\n",
              "\n",
              "    .dataframe thead th {\n",
              "        text-align: right;\n",
              "    }\n",
              "</style>\n",
              "<table border=\"1\" class=\"dataframe\">\n",
              "  <thead>\n",
              "    <tr style=\"text-align: right;\">\n",
              "      <th></th>\n",
              "      <th>Model</th>\n",
              "      <th>F1 Score</th>\n",
              "      <th>ROC-AUC</th>\n",
              "      <th>Best Params</th>\n",
              "      <th>Trained Model</th>\n",
              "    </tr>\n",
              "  </thead>\n",
              "  <tbody>\n",
              "    <tr>\n",
              "      <th>0</th>\n",
              "      <td>XGBoost_ManualCV</td>\n",
              "      <td>0.8984</td>\n",
              "      <td>0.9995</td>\n",
              "      <td>{'objective': 'binary:logistic', 'base_score':...</td>\n",
              "      <td>XGBClassifier(base_score=None, booster=None, c...</td>\n",
              "    </tr>\n",
              "  </tbody>\n",
              "</table>\n",
              "</div>"
            ],
            "text/plain": [
              "              Model  F1 Score  ROC-AUC  \\\n",
              "0  XGBoost_ManualCV    0.8984   0.9995   \n",
              "\n",
              "                                         Best Params  \\\n",
              "0  {'objective': 'binary:logistic', 'base_score':...   \n",
              "\n",
              "                                       Trained Model  \n",
              "0  XGBClassifier(base_score=None, booster=None, c...  "
            ]
          },
          "metadata": {},
          "output_type": "display_data"
        }
      ],
      "source": [
        "# =============================================================================\n",
        "# XGBoost Model\n",
        "# =============================================================================\n",
        "print(\"\\n\" + \"=\"*80)\n",
        "print(\"🚀 XGBoost Evaluation\")\n",
        "print(\"=\"*80)\n",
        "\n",
        "# =============================================================================\n",
        "# GridSearchCV\n",
        "# =============================================================================\n",
        "\n",
        "\n",
        "# model_XGBoost = {\n",
        "#     \"model\": XGBClassifier(eval_metric='logloss', random_state=42),\n",
        "#     \"params\": {\n",
        "#         \"n_estimators\": [100, 500],\n",
        "#         \"learning_rate\": [0.01, 0.3],\n",
        "#         \"max_depth\": [3, 10],\n",
        "#         \"subsample\": [0.5, 1.0],\n",
        "#         \"colsample_bytree\": [0.5, 1.0],\n",
        "#         \"scale_pos_weight\": [1, 100]\n",
        "#     }\n",
        "# }\n",
        "\n",
        "# xgb_model = train_or_load_model(\n",
        "#     \"XGBoost\",\n",
        "#     model_XGBoost[\"model\"],\n",
        "#     model_XGBoost[\"params\"],\n",
        "#     X_train, y_train, X_test, y_test\n",
        "# )\n",
        "\n",
        "\n",
        "# =============================================================================\n",
        "# Only CV with Hyper paramount\n",
        "# =============================================================================\n",
        "\n",
        "\n",
        "xgb_clf = XGBClassifier(eval_metric='logloss', random_state=42)\n",
        "\n",
        "param_grid_xgb = {\n",
        "    \"n_estimators\": [100, 500],\n",
        "    \"learning_rate\": [0.01, 0.3],\n",
        "    \"max_depth\": [3, 10],\n",
        "    \"subsample\": [0.5, 1.0],\n",
        "    \"colsample_bytree\": [0.5, 1.0],\n",
        "    \"scale_pos_weight\": [1, 100]\n",
        "}\n",
        "\n",
        "xgb_model_manual = manual_cv_search_and_save(\n",
        "    \"XGBoost_ManualCV\", \n",
        "    xgb_clf.__class__, \n",
        "    param_grid_xgb, \n",
        "    X_train, y_train, X_test, y_test\n",
        ")\n"
      ]
    },
    {
      "cell_type": "markdown",
      "metadata": {},
      "source": [
        "# Model: CatBoost"
      ]
    },
    {
      "cell_type": "code",
      "execution_count": 40,
      "metadata": {},
      "outputs": [
        {
          "name": "stdout",
          "output_type": "stream",
          "text": [
            "⏩ Loading pre-trained CatBoost_balanced_ManualCV model...\n"
          ]
        },
        {
          "data": {
            "text/html": [
              "<div>\n",
              "<style scoped>\n",
              "    .dataframe tbody tr th:only-of-type {\n",
              "        vertical-align: middle;\n",
              "    }\n",
              "\n",
              "    .dataframe tbody tr th {\n",
              "        vertical-align: top;\n",
              "    }\n",
              "\n",
              "    .dataframe thead th {\n",
              "        text-align: right;\n",
              "    }\n",
              "</style>\n",
              "<table border=\"1\" class=\"dataframe\">\n",
              "  <thead>\n",
              "    <tr style=\"text-align: right;\">\n",
              "      <th></th>\n",
              "      <th>Model</th>\n",
              "      <th>F1 Score</th>\n",
              "      <th>ROC-AUC</th>\n",
              "      <th>Best Params</th>\n",
              "      <th>Trained Model</th>\n",
              "    </tr>\n",
              "  </thead>\n",
              "  <tbody>\n",
              "    <tr>\n",
              "      <th>0</th>\n",
              "      <td>CatBoost_balanced_ManualCV</td>\n",
              "      <td>0.9021</td>\n",
              "      <td>0.9998</td>\n",
              "      <td>{'iterations': 300, 'learning_rate': 0.1, 'dep...</td>\n",
              "      <td>&lt;catboost.core.CatBoostClassifier object at 0x...</td>\n",
              "    </tr>\n",
              "  </tbody>\n",
              "</table>\n",
              "</div>"
            ],
            "text/plain": [
              "                        Model  F1 Score  ROC-AUC  \\\n",
              "0  CatBoost_balanced_ManualCV    0.9021   0.9998   \n",
              "\n",
              "                                         Best Params  \\\n",
              "0  {'iterations': 300, 'learning_rate': 0.1, 'dep...   \n",
              "\n",
              "                                       Trained Model  \n",
              "0  <catboost.core.CatBoostClassifier object at 0x...  "
            ]
          },
          "metadata": {},
          "output_type": "display_data"
        }
      ],
      "source": [
        "# =============================================================================\n",
        "# CatBoost Model\n",
        "# =============================================================================\n",
        "\n",
        "# =============================================================================\n",
        "# Only CV with Hyper paramount\n",
        "# =============================================================================\n",
        "\n",
        "\n",
        "cat_clf = CatBoostClassifier(verbose=0, random_state=42, auto_class_weights='Balanced')\n",
        "\n",
        "param_grid_cat = {\n",
        "    \"iterations\": [100, 300],\n",
        "    \"learning_rate\": [0.01, 0.1],\n",
        "    \"depth\": [6, 10],\n",
        "    \"l2_leaf_reg\": [1, 3]\n",
        "}\n",
        "\n",
        "cat_model_manual = manual_cv_search_and_save(\n",
        "    \"CatBoost_balanced_ManualCV\", \n",
        "    cat_clf.__class__, \n",
        "    param_grid_cat, \n",
        "    X_train, y_train, X_test, y_test\n",
        ")"
      ]
    },
    {
      "cell_type": "markdown",
      "metadata": {},
      "source": [
        "# Model: Light GBM"
      ]
    },
    {
      "cell_type": "code",
      "execution_count": 41,
      "metadata": {},
      "outputs": [
        {
          "name": "stdout",
          "output_type": "stream",
          "text": [
            "\n",
            "================================================================================\n",
            "🚀 LightGBM Evaluation\n",
            "================================================================================\n",
            "⏩ Loading pre-trained LightGBM_balanced_ManualCV model...\n"
          ]
        },
        {
          "data": {
            "text/html": [
              "<div>\n",
              "<style scoped>\n",
              "    .dataframe tbody tr th:only-of-type {\n",
              "        vertical-align: middle;\n",
              "    }\n",
              "\n",
              "    .dataframe tbody tr th {\n",
              "        vertical-align: top;\n",
              "    }\n",
              "\n",
              "    .dataframe thead th {\n",
              "        text-align: right;\n",
              "    }\n",
              "</style>\n",
              "<table border=\"1\" class=\"dataframe\">\n",
              "  <thead>\n",
              "    <tr style=\"text-align: right;\">\n",
              "      <th></th>\n",
              "      <th>Model</th>\n",
              "      <th>F1 Score</th>\n",
              "      <th>ROC-AUC</th>\n",
              "      <th>Best Params</th>\n",
              "      <th>Trained Model</th>\n",
              "    </tr>\n",
              "  </thead>\n",
              "  <tbody>\n",
              "    <tr>\n",
              "      <th>0</th>\n",
              "      <td>LightGBM_balanced_ManualCV</td>\n",
              "      <td>0.5523</td>\n",
              "      <td>0.9228</td>\n",
              "      <td>{'boosting_type': 'gbdt', 'class_weight': None...</td>\n",
              "      <td>LGBMClassifier(colsample_bytree=0.6, learning_...</td>\n",
              "    </tr>\n",
              "  </tbody>\n",
              "</table>\n",
              "</div>"
            ],
            "text/plain": [
              "                        Model  F1 Score  ROC-AUC  \\\n",
              "0  LightGBM_balanced_ManualCV    0.5523   0.9228   \n",
              "\n",
              "                                         Best Params  \\\n",
              "0  {'boosting_type': 'gbdt', 'class_weight': None...   \n",
              "\n",
              "                                       Trained Model  \n",
              "0  LGBMClassifier(colsample_bytree=0.6, learning_...  "
            ]
          },
          "metadata": {},
          "output_type": "display_data"
        }
      ],
      "source": [
        "# =============================================================================\n",
        "# LightGBM Model\n",
        "# =============================================================================\n",
        "print(\"\\n\" + \"=\"*80)\n",
        "print(\"🚀 LightGBM Evaluation\")\n",
        "print(\"=\"*80)\n",
        "\n",
        "# =============================================================================\n",
        "# GridSearchCV\n",
        "# =============================================================================\n",
        "\n",
        "\n",
        "# model_LightGBM = {\n",
        "#     \"model\": LGBMClassifier(random_state=42),\n",
        "#     \"params\": {\n",
        "#         \"n_estimators\": [100, 500],\n",
        "#         \"learning_rate\": [0.01, 0.3],\n",
        "#         \"max_depth\": [3, 10],\n",
        "#         \"subsample\": [0.5, 1.0],\n",
        "#         \"colsample_bytree\": [0.5, 1.0],\n",
        "#         \"scale_pos_weight\": [1, 100]\n",
        "#     }\n",
        "# }\n",
        "\n",
        "# lgbm_model = train_or_load_model(\n",
        "#     \"LightGBM\",\n",
        "#     model_LightGBM[\"model\"],\n",
        "#     model_LightGBM[\"params\"],\n",
        "#     X_train, y_train, X_test, y_test\n",
        "# )\n",
        "\n",
        "\n",
        "# =============================================================================\n",
        "# Only CV with Hyper paramount\n",
        "# =============================================================================\n",
        "\n",
        "\n",
        "lgbm_clf = LGBMClassifier(random_state=42, is_unbalance=True)\n",
        "\n",
        "param_grid_lgbm = {\n",
        "    \"n_estimators\": [100, 300],\n",
        "    \"learning_rate\": [0.05, 0.1],\n",
        "    \"max_depth\": [-1, 10],\n",
        "    \"subsample\": [0.6, 1.0],\n",
        "    \"colsample_bytree\": [0.6, 1.0]\n",
        "}\n",
        "\n",
        "lgbm_model_manual = manual_cv_search_and_save(\n",
        "    \"LightGBM_balanced_ManualCV\", \n",
        "    lgbm_clf.__class__, \n",
        "    param_grid_lgbm, \n",
        "    X_train, y_train, X_test, y_test\n",
        ")\n"
      ]
    },
    {
      "cell_type": "markdown",
      "metadata": {},
      "source": [
        "# Model: AdaBoost"
      ]
    },
    {
      "cell_type": "code",
      "execution_count": 42,
      "metadata": {},
      "outputs": [
        {
          "name": "stdout",
          "output_type": "stream",
          "text": [
            "\n",
            "================================================================================\n",
            "🚀 AdaBoost Evaluation\n",
            "================================================================================\n",
            "⏩ Loading pre-trained AdaBoost_ManualCV model...\n"
          ]
        },
        {
          "name": "stderr",
          "output_type": "stream",
          "text": [
            "/Users/zeeshan.ahmad/My Github/AI-Finanacial-Fraud-Detection---EDA/venv-3.13/lib/python3.13/site-packages/sklearn/base.py:380: InconsistentVersionWarning: Trying to unpickle estimator DecisionTreeClassifier from version 1.7.1 when using version 1.6.1. This might lead to breaking code or invalid results. Use at your own risk. For more info please refer to:\n",
            "https://scikit-learn.org/stable/model_persistence.html#security-maintainability-limitations\n",
            "  warnings.warn(\n",
            "/Users/zeeshan.ahmad/My Github/AI-Finanacial-Fraud-Detection---EDA/venv-3.13/lib/python3.13/site-packages/sklearn/base.py:380: InconsistentVersionWarning: Trying to unpickle estimator AdaBoostClassifier from version 1.7.1 when using version 1.6.1. This might lead to breaking code or invalid results. Use at your own risk. For more info please refer to:\n",
            "https://scikit-learn.org/stable/model_persistence.html#security-maintainability-limitations\n",
            "  warnings.warn(\n"
          ]
        },
        {
          "data": {
            "text/html": [
              "<div>\n",
              "<style scoped>\n",
              "    .dataframe tbody tr th:only-of-type {\n",
              "        vertical-align: middle;\n",
              "    }\n",
              "\n",
              "    .dataframe tbody tr th {\n",
              "        vertical-align: top;\n",
              "    }\n",
              "\n",
              "    .dataframe thead th {\n",
              "        text-align: right;\n",
              "    }\n",
              "</style>\n",
              "<table border=\"1\" class=\"dataframe\">\n",
              "  <thead>\n",
              "    <tr style=\"text-align: right;\">\n",
              "      <th></th>\n",
              "      <th>Model</th>\n",
              "      <th>F1 Score</th>\n",
              "      <th>ROC-AUC</th>\n",
              "      <th>Best Params</th>\n",
              "      <th>Trained Model</th>\n",
              "    </tr>\n",
              "  </thead>\n",
              "  <tbody>\n",
              "    <tr>\n",
              "      <th>0</th>\n",
              "      <td>AdaBoost_ManualCV</td>\n",
              "      <td>0.6096</td>\n",
              "      <td>0.9970</td>\n",
              "      <td>{'algorithm': 'deprecated', 'estimator': None,...</td>\n",
              "      <td>(DecisionTreeClassifier(max_depth=1, random_st...</td>\n",
              "    </tr>\n",
              "  </tbody>\n",
              "</table>\n",
              "</div>"
            ],
            "text/plain": [
              "               Model  F1 Score  ROC-AUC  \\\n",
              "0  AdaBoost_ManualCV    0.6096   0.9970   \n",
              "\n",
              "                                         Best Params  \\\n",
              "0  {'algorithm': 'deprecated', 'estimator': None,...   \n",
              "\n",
              "                                       Trained Model  \n",
              "0  (DecisionTreeClassifier(max_depth=1, random_st...  "
            ]
          },
          "metadata": {},
          "output_type": "display_data"
        }
      ],
      "source": [
        "# =============================================================================\n",
        "# AdaBoost Model\n",
        "# =============================================================================\n",
        "print(\"\\n\" + \"=\"*80)\n",
        "print(\"🚀 AdaBoost Evaluation\")\n",
        "print(\"=\"*80)\n",
        "\n",
        "# =============================================================================\n",
        "# GridSearchCV\n",
        "# =============================================================================\n",
        "\n",
        "\n",
        "# model_AdaBoost = {\n",
        "#     \"model\": AdaBoostClassifier(random_state=42),\n",
        "#     \"params\": {\n",
        "#         \"n_estimators\": [50, 300],\n",
        "#         \"learning_rate\": [0.01, 1.0]\n",
        "#     }\n",
        "# }\n",
        "\n",
        "# ada_model = train_or_load_model(\n",
        "#     \"AdaBoost\",\n",
        "#     model_AdaBoost[\"model\"],\n",
        "#     model_AdaBoost[\"params\"],\n",
        "#     X_train, y_train, X_test, y_test\n",
        "# )\n",
        "\n",
        "\n",
        "# =============================================================================\n",
        "# Only CV with Hyper paramount\n",
        "# =============================================================================\n",
        "\n",
        "\n",
        "ada_clf = AdaBoostClassifier(random_state=42)\n",
        "\n",
        "param_grid_ada = {\n",
        "    \"n_estimators\": [50, 100],\n",
        "    \"learning_rate\": [0.5, 1.0]\n",
        "}\n",
        "\n",
        "ada_model_manual = manual_cv_search_and_save(\n",
        "    \"AdaBoost_ManualCV\", \n",
        "    ada_clf.__class__, \n",
        "    param_grid_ada, \n",
        "    X_train, y_train, X_test, y_test\n",
        ")\n"
      ]
    },
    {
      "cell_type": "markdown",
      "metadata": {},
      "source": [
        "# Model: Random Forest"
      ]
    },
    {
      "cell_type": "code",
      "execution_count": 43,
      "metadata": {},
      "outputs": [
        {
          "name": "stdout",
          "output_type": "stream",
          "text": [
            "\n",
            "================================================================================\n",
            "🚀 RandomForest Evaluation\n",
            "================================================================================\n",
            "⏩ Loading pre-trained RandomForest_ManualCV model...\n"
          ]
        },
        {
          "name": "stderr",
          "output_type": "stream",
          "text": [
            "/Users/zeeshan.ahmad/My Github/AI-Finanacial-Fraud-Detection---EDA/venv-3.13/lib/python3.13/site-packages/sklearn/base.py:380: InconsistentVersionWarning: Trying to unpickle estimator DecisionTreeClassifier from version 1.7.1 when using version 1.6.1. This might lead to breaking code or invalid results. Use at your own risk. For more info please refer to:\n",
            "https://scikit-learn.org/stable/model_persistence.html#security-maintainability-limitations\n",
            "  warnings.warn(\n",
            "/Users/zeeshan.ahmad/My Github/AI-Finanacial-Fraud-Detection---EDA/venv-3.13/lib/python3.13/site-packages/sklearn/base.py:380: InconsistentVersionWarning: Trying to unpickle estimator RandomForestClassifier from version 1.7.1 when using version 1.6.1. This might lead to breaking code or invalid results. Use at your own risk. For more info please refer to:\n",
            "https://scikit-learn.org/stable/model_persistence.html#security-maintainability-limitations\n",
            "  warnings.warn(\n"
          ]
        },
        {
          "data": {
            "text/html": [
              "<div>\n",
              "<style scoped>\n",
              "    .dataframe tbody tr th:only-of-type {\n",
              "        vertical-align: middle;\n",
              "    }\n",
              "\n",
              "    .dataframe tbody tr th {\n",
              "        vertical-align: top;\n",
              "    }\n",
              "\n",
              "    .dataframe thead th {\n",
              "        text-align: right;\n",
              "    }\n",
              "</style>\n",
              "<table border=\"1\" class=\"dataframe\">\n",
              "  <thead>\n",
              "    <tr style=\"text-align: right;\">\n",
              "      <th></th>\n",
              "      <th>Model</th>\n",
              "      <th>F1 Score</th>\n",
              "      <th>ROC-AUC</th>\n",
              "      <th>Best Params</th>\n",
              "      <th>Trained Model</th>\n",
              "    </tr>\n",
              "  </thead>\n",
              "  <tbody>\n",
              "    <tr>\n",
              "      <th>0</th>\n",
              "      <td>RandomForest_ManualCV</td>\n",
              "      <td>0.8784</td>\n",
              "      <td>0.9978</td>\n",
              "      <td>{'bootstrap': True, 'ccp_alpha': 0.0, 'class_w...</td>\n",
              "      <td>(DecisionTreeClassifier(max_features='log2', r...</td>\n",
              "    </tr>\n",
              "  </tbody>\n",
              "</table>\n",
              "</div>"
            ],
            "text/plain": [
              "                   Model  F1 Score  ROC-AUC  \\\n",
              "0  RandomForest_ManualCV    0.8784   0.9978   \n",
              "\n",
              "                                         Best Params  \\\n",
              "0  {'bootstrap': True, 'ccp_alpha': 0.0, 'class_w...   \n",
              "\n",
              "                                       Trained Model  \n",
              "0  (DecisionTreeClassifier(max_features='log2', r...  "
            ]
          },
          "metadata": {},
          "output_type": "display_data"
        }
      ],
      "source": [
        "# =============================================================================\n",
        "# RandomForest Model\n",
        "# =============================================================================\n",
        "print(\"\\n\" + \"=\"*80)\n",
        "print(\"🚀 RandomForest Evaluation\")\n",
        "print(\"=\"*80)\n",
        "\n",
        "# =============================================================================\n",
        "# GridSearchCV\n",
        "# =============================================================================\n",
        "\n",
        "# model_RandomForest = {\n",
        "#     \"model\": RandomForestClassifier(random_state=42),\n",
        "#     \"params\": {\n",
        "#         \"n_estimators\": [100, 500],\n",
        "#         \"max_depth\": [5, 20],\n",
        "#         \"max_features\": [\"sqrt\", \"log2\"]\n",
        "#     }\n",
        "# }\n",
        "\n",
        "# rf_model = train_or_load_model(\n",
        "#     \"RandomForest\",\n",
        "#     model_RandomForest[\"model\"],\n",
        "#     model_RandomForest[\"params\"],\n",
        "#     X_train, y_train, X_test, y_test\n",
        "# )\n",
        "\n",
        "\n",
        "# =============================================================================\n",
        "# Only CV with Hyper paramount\n",
        "# =============================================================================\n",
        "\n",
        "\n",
        "rf_clf = RandomForestClassifier(random_state=42)\n",
        "\n",
        "param_grid_rf = {\n",
        "    \"n_estimators\": [100, 200],\n",
        "    \"max_depth\": [None, 10],\n",
        "    \"max_features\": ['sqrt', 'log2']\n",
        "}\n",
        "\n",
        "rf_model_manual = manual_cv_search_and_save(\n",
        "    \"RandomForest_ManualCV\", \n",
        "    rf_clf.__class__, \n",
        "    param_grid_rf, \n",
        "    X_train, y_train, X_test, y_test\n",
        ")\n"
      ]
    },
    {
      "cell_type": "markdown",
      "metadata": {},
      "source": [
        "# Model: Balanced Random Forest"
      ]
    },
    {
      "cell_type": "code",
      "execution_count": 44,
      "metadata": {},
      "outputs": [
        {
          "name": "stdout",
          "output_type": "stream",
          "text": [
            "⏩ Loading pre-trained BalancedRandomForest_ManualCV model...\n"
          ]
        },
        {
          "data": {
            "text/html": [
              "<div>\n",
              "<style scoped>\n",
              "    .dataframe tbody tr th:only-of-type {\n",
              "        vertical-align: middle;\n",
              "    }\n",
              "\n",
              "    .dataframe tbody tr th {\n",
              "        vertical-align: top;\n",
              "    }\n",
              "\n",
              "    .dataframe thead th {\n",
              "        text-align: right;\n",
              "    }\n",
              "</style>\n",
              "<table border=\"1\" class=\"dataframe\">\n",
              "  <thead>\n",
              "    <tr style=\"text-align: right;\">\n",
              "      <th></th>\n",
              "      <th>Model</th>\n",
              "      <th>F1 Score</th>\n",
              "      <th>ROC-AUC</th>\n",
              "      <th>Best Params</th>\n",
              "      <th>Trained Model</th>\n",
              "    </tr>\n",
              "  </thead>\n",
              "  <tbody>\n",
              "    <tr>\n",
              "      <th>0</th>\n",
              "      <td>BalancedRandomForest_ManualCV</td>\n",
              "      <td>0.2341</td>\n",
              "      <td>0.9994</td>\n",
              "      <td>{'bootstrap': False, 'ccp_alpha': 0.0, 'class_...</td>\n",
              "      <td>(DecisionTreeClassifier(max_features='log2', r...</td>\n",
              "    </tr>\n",
              "  </tbody>\n",
              "</table>\n",
              "</div>"
            ],
            "text/plain": [
              "                           Model  F1 Score  ROC-AUC  \\\n",
              "0  BalancedRandomForest_ManualCV    0.2341   0.9994   \n",
              "\n",
              "                                         Best Params  \\\n",
              "0  {'bootstrap': False, 'ccp_alpha': 0.0, 'class_...   \n",
              "\n",
              "                                       Trained Model  \n",
              "0  (DecisionTreeClassifier(max_features='log2', r...  "
            ]
          },
          "metadata": {},
          "output_type": "display_data"
        }
      ],
      "source": [
        "brf_clf = BalancedRandomForestClassifier(random_state=42, n_jobs=-1)\n",
        "\n",
        "param_grid_brf = { \n",
        "    \"n_estimators\": [100, 300],\n",
        "    \"max_depth\": [None, 10],\n",
        "    \"max_features\": ['sqrt', 'log2']\n",
        "}\n",
        "\n",
        "brf_model_manual = manual_cv_search_and_save(\n",
        "    \"BalancedRandomForest_ManualCV\", \n",
        "    brf_clf.__class__, \n",
        "    param_grid_brf, \n",
        "    X_train, y_train, X_test, y_test\n",
        ")\n"
      ]
    },
    {
      "cell_type": "markdown",
      "metadata": {},
      "source": [
        "# Model: Easy Ensemble Classifier"
      ]
    },
    {
      "cell_type": "code",
      "execution_count": 45,
      "metadata": {},
      "outputs": [
        {
          "name": "stdout",
          "output_type": "stream",
          "text": [
            "⏩ Loading pre-trained EasyEnsemble_ManualCV model...\n"
          ]
        },
        {
          "data": {
            "text/html": [
              "<div>\n",
              "<style scoped>\n",
              "    .dataframe tbody tr th:only-of-type {\n",
              "        vertical-align: middle;\n",
              "    }\n",
              "\n",
              "    .dataframe tbody tr th {\n",
              "        vertical-align: top;\n",
              "    }\n",
              "\n",
              "    .dataframe thead th {\n",
              "        text-align: right;\n",
              "    }\n",
              "</style>\n",
              "<table border=\"1\" class=\"dataframe\">\n",
              "  <thead>\n",
              "    <tr style=\"text-align: right;\">\n",
              "      <th></th>\n",
              "      <th>Model</th>\n",
              "      <th>F1 Score</th>\n",
              "      <th>ROC-AUC</th>\n",
              "      <th>Best Params</th>\n",
              "      <th>Trained Model</th>\n",
              "    </tr>\n",
              "  </thead>\n",
              "  <tbody>\n",
              "    <tr>\n",
              "      <th>0</th>\n",
              "      <td>EasyEnsemble_ManualCV</td>\n",
              "      <td>0.0545</td>\n",
              "      <td>0.9956</td>\n",
              "      <td>{'estimator': None, 'n_estimators': 50, 'n_job...</td>\n",
              "      <td>((RandomUnderSampler(random_state=577612449), ...</td>\n",
              "    </tr>\n",
              "  </tbody>\n",
              "</table>\n",
              "</div>"
            ],
            "text/plain": [
              "                   Model  F1 Score  ROC-AUC  \\\n",
              "0  EasyEnsemble_ManualCV    0.0545   0.9956   \n",
              "\n",
              "                                         Best Params  \\\n",
              "0  {'estimator': None, 'n_estimators': 50, 'n_job...   \n",
              "\n",
              "                                       Trained Model  \n",
              "0  ((RandomUnderSampler(random_state=577612449), ...  "
            ]
          },
          "metadata": {},
          "output_type": "display_data"
        }
      ],
      "source": [
        "eec_clf = EasyEnsembleClassifier(random_state=42, n_jobs=-1)\n",
        "\n",
        "param_grid_eec = {\n",
        "    \"n_estimators\": [50, 100]\n",
        "}\n",
        "\n",
        "eec_model_manual = manual_cv_search_and_save(\n",
        "    \"EasyEnsemble_ManualCV\", \n",
        "    eec_clf.__class__, \n",
        "    param_grid_eec, \n",
        "    X_train, y_train, X_test, y_test\n",
        ")\n"
      ]
    },
    {
      "cell_type": "markdown",
      "metadata": {},
      "source": [
        "# Model: Isolation Forest"
      ]
    },
    {
      "cell_type": "code",
      "execution_count": 46,
      "metadata": {},
      "outputs": [
        {
          "data": {
            "text/html": [
              "<div>\n",
              "<style scoped>\n",
              "    .dataframe tbody tr th:only-of-type {\n",
              "        vertical-align: middle;\n",
              "    }\n",
              "\n",
              "    .dataframe tbody tr th {\n",
              "        vertical-align: top;\n",
              "    }\n",
              "\n",
              "    .dataframe thead th {\n",
              "        text-align: right;\n",
              "    }\n",
              "</style>\n",
              "<table border=\"1\" class=\"dataframe\">\n",
              "  <thead>\n",
              "    <tr style=\"text-align: right;\">\n",
              "      <th></th>\n",
              "      <th>Model</th>\n",
              "      <th>F1 Score</th>\n",
              "      <th>ROC-AUC</th>\n",
              "      <th>Best Params</th>\n",
              "      <th>Trained Model</th>\n",
              "    </tr>\n",
              "  </thead>\n",
              "  <tbody>\n",
              "    <tr>\n",
              "      <th>0</th>\n",
              "      <td>IsolationForest</td>\n",
              "      <td>0.0170</td>\n",
              "      <td>NaN</td>\n",
              "      <td>Default</td>\n",
              "      <td>(ExtraTreeRegressor(max_depth=8, max_features=...</td>\n",
              "    </tr>\n",
              "  </tbody>\n",
              "</table>\n",
              "</div>"
            ],
            "text/plain": [
              "             Model  F1 Score  ROC-AUC Best Params  \\\n",
              "0  IsolationForest    0.0170      NaN     Default   \n",
              "\n",
              "                                       Trained Model  \n",
              "0  (ExtraTreeRegressor(max_depth=8, max_features=...  "
            ]
          },
          "metadata": {},
          "output_type": "display_data"
        }
      ],
      "source": [
        "iso_model = IsolationForest(n_estimators=100, contamination=0.01, random_state=42)\n",
        "iso_model.fit(X_train)\n",
        "\n",
        "y_pred_iso = iso_model.predict(X_test)\n",
        "# Map -1 (anomaly) → 1 (fraud), 1 (normal) → 0\n",
        "y_pred_iso_mapped = np.where(y_pred_iso == -1, 1, 0)\n",
        "\n",
        "results_iso = {\n",
        "    \"Model\": \"IsolationForest\",\n",
        "    \"F1 Score\": round(f1_score(y_test, y_pred_iso_mapped), 4),\n",
        "    \"ROC-AUC\": np.nan,\n",
        "    \"Best Params\": \"Default\",\n",
        "    \"Trained Model\": iso_model\n",
        "}\n",
        "all_results.append(results_iso)\n",
        "display(pd.DataFrame([results_iso]))\n"
      ]
    },
    {
      "cell_type": "code",
      "execution_count": 47,
      "metadata": {},
      "outputs": [
        {
          "name": "stdout",
          "output_type": "stream",
          "text": [
            "\n",
            "================================================================================\n",
            "🏆 FINAL MODEL COMPARISON\n",
            "================================================================================\n"
          ]
        },
        {
          "data": {
            "text/html": [
              "<style type=\"text/css\">\n",
              "#T_e1144_row0_col0, #T_e1144_row0_col3, #T_e1144_row0_col4, #T_e1144_row1_col0, #T_e1144_row1_col3, #T_e1144_row1_col4, #T_e1144_row2_col0, #T_e1144_row2_col3, #T_e1144_row2_col4, #T_e1144_row3_col0, #T_e1144_row3_col3, #T_e1144_row3_col4, #T_e1144_row4_col0, #T_e1144_row4_col3, #T_e1144_row4_col4, #T_e1144_row5_col0, #T_e1144_row5_col3, #T_e1144_row5_col4, #T_e1144_row6_col0, #T_e1144_row6_col3, #T_e1144_row6_col4, #T_e1144_row7_col0, #T_e1144_row7_col3, #T_e1144_row7_col4 {\n",
              "  text-align: left;\n",
              "}\n",
              "#T_e1144_row0_col1, #T_e1144_row0_col2 {\n",
              "  background-color: yellow;\n",
              "  background-color: #004529;\n",
              "  color: #f1f1f1;\n",
              "  text-align: left;\n",
              "}\n",
              "#T_e1144_row1_col1, #T_e1144_row5_col2 {\n",
              "  background-color: #004629;\n",
              "  color: #f1f1f1;\n",
              "  text-align: left;\n",
              "}\n",
              "#T_e1144_row1_col2 {\n",
              "  background-color: #004529;\n",
              "  color: #f1f1f1;\n",
              "  text-align: left;\n",
              "}\n",
              "#T_e1144_row2_col1, #T_e1144_row2_col2 {\n",
              "  background-color: #004c2c;\n",
              "  color: #f1f1f1;\n",
              "  text-align: left;\n",
              "}\n",
              "#T_e1144_row3_col1 {\n",
              "  background-color: #369d54;\n",
              "  color: #f1f1f1;\n",
              "  text-align: left;\n",
              "}\n",
              "#T_e1144_row3_col2 {\n",
              "  background-color: #004f2d;\n",
              "  color: #f1f1f1;\n",
              "  text-align: left;\n",
              "}\n",
              "#T_e1144_row4_col1 {\n",
              "  background-color: #4ab062;\n",
              "  color: #f1f1f1;\n",
              "  text-align: left;\n",
              "}\n",
              "#T_e1144_row4_col2, #T_e1144_row7_col1 {\n",
              "  background-color: #ffffe5;\n",
              "  color: #000000;\n",
              "  text-align: left;\n",
              "}\n",
              "#T_e1144_row5_col1 {\n",
              "  background-color: #dbf1a4;\n",
              "  color: #000000;\n",
              "  text-align: left;\n",
              "}\n",
              "#T_e1144_row6_col1 {\n",
              "  background-color: #fcfed7;\n",
              "  color: #000000;\n",
              "  text-align: left;\n",
              "}\n",
              "#T_e1144_row6_col2 {\n",
              "  background-color: #00532f;\n",
              "  color: #f1f1f1;\n",
              "  text-align: left;\n",
              "}\n",
              "#T_e1144_row7_col2 {\n",
              "  background-color: #000000;\n",
              "  color: #f1f1f1;\n",
              "  text-align: left;\n",
              "}\n",
              "</style>\n",
              "<table id=\"T_e1144\">\n",
              "  <thead>\n",
              "    <tr>\n",
              "      <th class=\"blank level0\" >&nbsp;</th>\n",
              "      <th id=\"T_e1144_level0_col0\" class=\"col_heading level0 col0\" >Model</th>\n",
              "      <th id=\"T_e1144_level0_col1\" class=\"col_heading level0 col1\" >F1 Score</th>\n",
              "      <th id=\"T_e1144_level0_col2\" class=\"col_heading level0 col2\" >ROC-AUC</th>\n",
              "      <th id=\"T_e1144_level0_col3\" class=\"col_heading level0 col3\" >Best Params</th>\n",
              "      <th id=\"T_e1144_level0_col4\" class=\"col_heading level0 col4\" >Trained Model</th>\n",
              "    </tr>\n",
              "  </thead>\n",
              "  <tbody>\n",
              "    <tr>\n",
              "      <th id=\"T_e1144_level0_row0\" class=\"row_heading level0 row0\" >1</th>\n",
              "      <td id=\"T_e1144_row0_col0\" class=\"data row0 col0\" >CatBoost_balanced_ManualCV</td>\n",
              "      <td id=\"T_e1144_row0_col1\" class=\"data row0 col1\" >0.902100</td>\n",
              "      <td id=\"T_e1144_row0_col2\" class=\"data row0 col2\" >0.999800</td>\n",
              "      <td id=\"T_e1144_row0_col3\" class=\"data row0 col3\" >{'iterations': 300, 'learning_rate': 0.1, 'depth': 10, 'l2_leaf_reg': 1}</td>\n",
              "      <td id=\"T_e1144_row0_col4\" class=\"data row0 col4\" ><catboost.core.CatBoostClassifier object at 0x1530b0a50></td>\n",
              "    </tr>\n",
              "    <tr>\n",
              "      <th id=\"T_e1144_level0_row1\" class=\"row_heading level0 row1\" >0</th>\n",
              "      <td id=\"T_e1144_row1_col0\" class=\"data row1 col0\" >XGBoost_ManualCV</td>\n",
              "      <td id=\"T_e1144_row1_col1\" class=\"data row1 col1\" >0.898400</td>\n",
              "      <td id=\"T_e1144_row1_col2\" class=\"data row1 col2\" >0.999500</td>\n",
              "      <td id=\"T_e1144_row1_col3\" class=\"data row1 col3\" >{'objective': 'binary:logistic', 'base_score': None, 'booster': None, 'callbacks': None, 'colsample_bylevel': None, 'colsample_bynode': None, 'colsample_bytree': 1.0, 'device': None, 'early_stopping_rounds': None, 'enable_categorical': False, 'eval_metric': None, 'feature_types': None, 'feature_weights': None, 'gamma': None, 'grow_policy': None, 'importance_type': None, 'interaction_constraints': None, 'learning_rate': 0.3, 'max_bin': None, 'max_cat_threshold': None, 'max_cat_to_onehot': None, 'max_delta_step': None, 'max_depth': 10, 'max_leaves': None, 'min_child_weight': None, 'missing': nan, 'monotone_constraints': None, 'multi_strategy': None, 'n_estimators': 500, 'n_jobs': None, 'num_parallel_tree': None, 'random_state': None, 'reg_alpha': None, 'reg_lambda': None, 'sampling_method': None, 'scale_pos_weight': 100, 'subsample': 1.0, 'tree_method': None, 'validate_parameters': None, 'verbosity': None}</td>\n",
              "      <td id=\"T_e1144_row1_col4\" class=\"data row1 col4\" >XGBClassifier(base_score=None, booster=None, callbacks=None,\n",
              "              colsample_bylevel=None, colsample_bynode=None,\n",
              "              colsample_bytree=1.0, device=None, early_stopping_rounds=None,\n",
              "              enable_categorical=False, eval_metric=None, feature_types=None,\n",
              "              feature_weights=None, gamma=None, grow_policy=None,\n",
              "              importance_type=None, interaction_constraints=None,\n",
              "              learning_rate=0.3, max_bin=None, max_cat_threshold=None,\n",
              "              max_cat_to_onehot=None, max_delta_step=None, max_depth=10,\n",
              "              max_leaves=None, min_child_weight=None, missing=nan,\n",
              "              monotone_constraints=None, multi_strategy=None, n_estimators=500,\n",
              "              n_jobs=None, num_parallel_tree=None, ...)</td>\n",
              "    </tr>\n",
              "    <tr>\n",
              "      <th id=\"T_e1144_level0_row2\" class=\"row_heading level0 row2\" >4</th>\n",
              "      <td id=\"T_e1144_row2_col0\" class=\"data row2 col0\" >RandomForest_ManualCV</td>\n",
              "      <td id=\"T_e1144_row2_col1\" class=\"data row2 col1\" >0.878400</td>\n",
              "      <td id=\"T_e1144_row2_col2\" class=\"data row2 col2\" >0.997800</td>\n",
              "      <td id=\"T_e1144_row2_col3\" class=\"data row2 col3\" >{'bootstrap': True, 'ccp_alpha': 0.0, 'class_weight': None, 'criterion': 'gini', 'max_depth': None, 'max_features': 'log2', 'max_leaf_nodes': None, 'max_samples': None, 'min_impurity_decrease': 0.0, 'min_samples_leaf': 1, 'min_samples_split': 2, 'min_weight_fraction_leaf': 0.0, 'monotonic_cst': None, 'n_estimators': 200, 'n_jobs': None, 'oob_score': False, 'random_state': None, 'verbose': 0, 'warm_start': False}</td>\n",
              "      <td id=\"T_e1144_row2_col4\" class=\"data row2 col4\" >RandomForestClassifier(max_features='log2', n_estimators=200)</td>\n",
              "    </tr>\n",
              "    <tr>\n",
              "      <th id=\"T_e1144_level0_row3\" class=\"row_heading level0 row3\" >3</th>\n",
              "      <td id=\"T_e1144_row3_col0\" class=\"data row3 col0\" >AdaBoost_ManualCV</td>\n",
              "      <td id=\"T_e1144_row3_col1\" class=\"data row3 col1\" >0.609600</td>\n",
              "      <td id=\"T_e1144_row3_col2\" class=\"data row3 col2\" >0.997000</td>\n",
              "      <td id=\"T_e1144_row3_col3\" class=\"data row3 col3\" >{'algorithm': 'deprecated', 'estimator': None, 'learning_rate': 1.0, 'n_estimators': 100, 'random_state': None}</td>\n",
              "      <td id=\"T_e1144_row3_col4\" class=\"data row3 col4\" >AdaBoostClassifier(n_estimators=100)</td>\n",
              "    </tr>\n",
              "    <tr>\n",
              "      <th id=\"T_e1144_level0_row4\" class=\"row_heading level0 row4\" >2</th>\n",
              "      <td id=\"T_e1144_row4_col0\" class=\"data row4 col0\" >LightGBM_balanced_ManualCV</td>\n",
              "      <td id=\"T_e1144_row4_col1\" class=\"data row4 col1\" >0.552300</td>\n",
              "      <td id=\"T_e1144_row4_col2\" class=\"data row4 col2\" >0.922800</td>\n",
              "      <td id=\"T_e1144_row4_col3\" class=\"data row4 col3\" >{'boosting_type': 'gbdt', 'class_weight': None, 'colsample_bytree': 0.6, 'importance_type': 'split', 'learning_rate': 0.05, 'max_depth': 10, 'min_child_samples': 20, 'min_child_weight': 0.001, 'min_split_gain': 0.0, 'n_estimators': 100, 'n_jobs': None, 'num_leaves': 31, 'objective': None, 'random_state': None, 'reg_alpha': 0.0, 'reg_lambda': 0.0, 'subsample': 0.6, 'subsample_for_bin': 200000, 'subsample_freq': 0}</td>\n",
              "      <td id=\"T_e1144_row4_col4\" class=\"data row4 col4\" >LGBMClassifier(colsample_bytree=0.6, learning_rate=0.05, max_depth=10,\n",
              "               subsample=0.6)</td>\n",
              "    </tr>\n",
              "    <tr>\n",
              "      <th id=\"T_e1144_level0_row5\" class=\"row_heading level0 row5\" >5</th>\n",
              "      <td id=\"T_e1144_row5_col0\" class=\"data row5 col0\" >BalancedRandomForest_ManualCV</td>\n",
              "      <td id=\"T_e1144_row5_col1\" class=\"data row5 col1\" >0.234100</td>\n",
              "      <td id=\"T_e1144_row5_col2\" class=\"data row5 col2\" >0.999400</td>\n",
              "      <td id=\"T_e1144_row5_col3\" class=\"data row5 col3\" >{'bootstrap': False, 'ccp_alpha': 0.0, 'class_weight': None, 'criterion': 'gini', 'max_depth': None, 'max_features': 'log2', 'max_leaf_nodes': None, 'max_samples': None, 'min_impurity_decrease': 0.0, 'min_samples_leaf': 1, 'min_samples_split': 2, 'min_weight_fraction_leaf': 0.0, 'monotonic_cst': None, 'n_estimators': 100, 'n_jobs': None, 'oob_score': False, 'random_state': None, 'replacement': True, 'sampling_strategy': 'all', 'verbose': 0, 'warm_start': False}</td>\n",
              "      <td id=\"T_e1144_row5_col4\" class=\"data row5 col4\" >BalancedRandomForestClassifier(max_features='log2')</td>\n",
              "    </tr>\n",
              "    <tr>\n",
              "      <th id=\"T_e1144_level0_row6\" class=\"row_heading level0 row6\" >6</th>\n",
              "      <td id=\"T_e1144_row6_col0\" class=\"data row6 col0\" >EasyEnsemble_ManualCV</td>\n",
              "      <td id=\"T_e1144_row6_col1\" class=\"data row6 col1\" >0.054500</td>\n",
              "      <td id=\"T_e1144_row6_col2\" class=\"data row6 col2\" >0.995600</td>\n",
              "      <td id=\"T_e1144_row6_col3\" class=\"data row6 col3\" >{'estimator': None, 'n_estimators': 50, 'n_jobs': None, 'random_state': None, 'replacement': False, 'sampling_strategy': 'auto', 'verbose': 0, 'warm_start': False}</td>\n",
              "      <td id=\"T_e1144_row6_col4\" class=\"data row6 col4\" >EasyEnsembleClassifier(n_estimators=50)</td>\n",
              "    </tr>\n",
              "    <tr>\n",
              "      <th id=\"T_e1144_level0_row7\" class=\"row_heading level0 row7\" >7</th>\n",
              "      <td id=\"T_e1144_row7_col0\" class=\"data row7 col0\" >IsolationForest</td>\n",
              "      <td id=\"T_e1144_row7_col1\" class=\"data row7 col1\" >0.017000</td>\n",
              "      <td id=\"T_e1144_row7_col2\" class=\"data row7 col2\" >nan</td>\n",
              "      <td id=\"T_e1144_row7_col3\" class=\"data row7 col3\" >Default</td>\n",
              "      <td id=\"T_e1144_row7_col4\" class=\"data row7 col4\" >IsolationForest(contamination=0.01, random_state=42)</td>\n",
              "    </tr>\n",
              "  </tbody>\n",
              "</table>\n"
            ],
            "text/plain": [
              "<pandas.io.formats.style.Styler at 0x15cf13b60>"
            ]
          },
          "metadata": {},
          "output_type": "display_data"
        }
      ],
      "source": [
        "# =============================================================================\n",
        "# Final Results Comparison\n",
        "# =============================================================================\n",
        "print(\"\\n\" + \"=\"*80)\n",
        "print(\"🏆 FINAL MODEL COMPARISON\")\n",
        "print(\"=\"*80)\n",
        "\n",
        "# Create final results dataframe\n",
        "final_results_df = pd.DataFrame(all_results)\n",
        "\n",
        "# Sort by F1 Score\n",
        "final_results_df = final_results_df.sort_values('F1 Score', ascending=False)\n",
        "\n",
        "# Save final results\n",
        "joblib.dump(final_results_df, os.path.join(MODEL_DIR, \"final_results.joblib\"))\n",
        "\n",
        "# Display with styling\n",
        "def highlight_max(s):\n",
        "    is_max = s == s.max()\n",
        "    return ['background-color: yellow' if v else '' for v in is_max]\n",
        "\n",
        "styled_df = final_results_df.style.apply(highlight_max, subset=['F1 Score', 'ROC-AUC'])\\\n",
        "                                  .background_gradient(subset=['F1 Score', 'ROC-AUC'], cmap='YlGn')\\\n",
        "                                  .set_properties(**{'text-align': 'left'})\n",
        "\n",
        "display(styled_df)"
      ]
    },
    {
      "cell_type": "markdown",
      "metadata": {},
      "source": [
        "# Best Model Analysis"
      ]
    },
    {
      "cell_type": "code",
      "execution_count": 48,
      "metadata": {},
      "outputs": [
        {
          "name": "stdout",
          "output_type": "stream",
          "text": [
            "\n",
            "⭐ Best Model: CatBoost_balanced_ManualCV (F1: 0.9021)\n"
          ]
        }
      ],
      "source": [
        "# =============================================================================\n",
        "# Best Model Analysis\n",
        "# =============================================================================\n",
        "best_model_info = final_results_df.iloc[0]\n",
        "best_model = best_model_info['Trained Model']\n",
        "print(f\"\\n⭐ Best Model: {best_model_info['Model']} (F1: {best_model_info['F1 Score']})\")"
      ]
    },
    {
      "cell_type": "code",
      "execution_count": 49,
      "metadata": {
        "id": "QwRfs-NllZBJ"
      },
      "outputs": [
        {
          "data": {
            "image/png": "[encoded data removed]",
            "text/plain": [
              "<Figure size 640x480 with 2 Axes>"
            ]
          },
          "metadata": {},
          "output_type": "display_data"
        }
      ],
      "source": [
        "# Confusion Matrix\n",
        "y_pred = best_model.predict(X_test)\n",
        "cm = confusion_matrix(y_test, y_pred)\n",
        "ConfusionMatrixDisplay(cm, display_labels=[\"Not Fraud\", \"Fraud\"]).plot(cmap='Blues')\n",
        "plt.title(\"Confusion Matrix\")\n",
        "plt.show()"
      ]
    },
    {
      "cell_type": "code",
      "execution_count": 50,
      "metadata": {
        "id": "xfVXII5Yajbk"
      },
      "outputs": [
        {
          "ename": "ValueError",
          "evalue": "shape mismatch: objects cannot be broadcast to a single shape.  Mismatch is between arg 2 with shape (8,) and arg 3 with shape (10,).",
          "output_type": "error",
          "traceback": [
            "\u001b[31m---------------------------------------------------------------------------\u001b[39m",
            "\u001b[31mValueError\u001b[39m                                Traceback (most recent call last)",
            "\u001b[36mCell\u001b[39m\u001b[36m \u001b[39m\u001b[32mIn[50]\u001b[39m\u001b[32m, line 8\u001b[39m\n\u001b[32m      6\u001b[39m plt.figure(figsize=(\u001b[32m10\u001b[39m, \u001b[32m6\u001b[39m))\n\u001b[32m      7\u001b[39m plt.title(\u001b[33m\"\u001b[39m\u001b[33mTop 10 Feature Importances\u001b[39m\u001b[33m\"\u001b[39m)\n\u001b[32m----> \u001b[39m\u001b[32m8\u001b[39m \u001b[43mplt\u001b[49m\u001b[43m.\u001b[49m\u001b[43mbarh\u001b[49m\u001b[43m(\u001b[49m\u001b[38;5;28;43mrange\u001b[39;49m\u001b[43m(\u001b[49m\u001b[32;43m10\u001b[39;49m\u001b[43m)\u001b[49m\u001b[43m,\u001b[49m\u001b[43m \u001b[49m\u001b[43mimportances\u001b[49m\u001b[43m[\u001b[49m\u001b[43mindices\u001b[49m\u001b[43m]\u001b[49m\u001b[43m,\u001b[49m\u001b[43m \u001b[49m\u001b[43mcolor\u001b[49m\u001b[43m=\u001b[49m\u001b[33;43m'\u001b[39;49m\u001b[33;43mb\u001b[39;49m\u001b[33;43m'\u001b[39;49m\u001b[43m,\u001b[49m\u001b[43m \u001b[49m\u001b[43malign\u001b[49m\u001b[43m=\u001b[49m\u001b[33;43m'\u001b[39;49m\u001b[33;43mcenter\u001b[39;49m\u001b[33;43m'\u001b[39;49m\u001b[43m)\u001b[49m\n\u001b[32m      9\u001b[39m plt.yticks(\u001b[38;5;28mrange\u001b[39m(\u001b[32m10\u001b[39m), [features[i] \u001b[38;5;28;01mfor\u001b[39;00m i \u001b[38;5;129;01min\u001b[39;00m indices])\n\u001b[32m     10\u001b[39m plt.gca().invert_yaxis()\n",
            "\u001b[36mFile \u001b[39m\u001b[32m~/My Github/AI-Finanacial-Fraud-Detection---EDA/venv-3.13/lib/python3.13/site-packages/matplotlib/pyplot.py:3019\u001b[39m, in \u001b[36mbarh\u001b[39m\u001b[34m(y, width, height, left, align, data, **kwargs)\u001b[39m\n\u001b[32m   3008\u001b[39m \u001b[38;5;129m@_copy_docstring_and_deprecators\u001b[39m(Axes.barh)\n\u001b[32m   3009\u001b[39m \u001b[38;5;28;01mdef\u001b[39;00m\u001b[38;5;250m \u001b[39m\u001b[34mbarh\u001b[39m(\n\u001b[32m   3010\u001b[39m     y: \u001b[38;5;28mfloat\u001b[39m | ArrayLike,\n\u001b[32m   (...)\u001b[39m\u001b[32m   3017\u001b[39m     **kwargs,\n\u001b[32m   3018\u001b[39m ) -> BarContainer:\n\u001b[32m-> \u001b[39m\u001b[32m3019\u001b[39m     \u001b[38;5;28;01mreturn\u001b[39;00m \u001b[43mgca\u001b[49m\u001b[43m(\u001b[49m\u001b[43m)\u001b[49m\u001b[43m.\u001b[49m\u001b[43mbarh\u001b[49m\u001b[43m(\u001b[49m\n\u001b[32m   3020\u001b[39m \u001b[43m        \u001b[49m\u001b[43my\u001b[49m\u001b[43m,\u001b[49m\n\u001b[32m   3021\u001b[39m \u001b[43m        \u001b[49m\u001b[43mwidth\u001b[49m\u001b[43m,\u001b[49m\n\u001b[32m   3022\u001b[39m \u001b[43m        \u001b[49m\u001b[43mheight\u001b[49m\u001b[43m=\u001b[49m\u001b[43mheight\u001b[49m\u001b[43m,\u001b[49m\n\u001b[32m   3023\u001b[39m \u001b[43m        \u001b[49m\u001b[43mleft\u001b[49m\u001b[43m=\u001b[49m\u001b[43mleft\u001b[49m\u001b[43m,\u001b[49m\n\u001b[32m   3024\u001b[39m \u001b[43m        \u001b[49m\u001b[43malign\u001b[49m\u001b[43m=\u001b[49m\u001b[43malign\u001b[49m\u001b[43m,\u001b[49m\n\u001b[32m   3025\u001b[39m \u001b[43m        \u001b[49m\u001b[43m*\u001b[49m\u001b[43m*\u001b[49m\u001b[43m(\u001b[49m\u001b[43m{\u001b[49m\u001b[33;43m\"\u001b[39;49m\u001b[33;43mdata\u001b[39;49m\u001b[33;43m\"\u001b[39;49m\u001b[43m:\u001b[49m\u001b[43m \u001b[49m\u001b[43mdata\u001b[49m\u001b[43m}\u001b[49m\u001b[43m \u001b[49m\u001b[38;5;28;43;01mif\u001b[39;49;00m\u001b[43m \u001b[49m\u001b[43mdata\u001b[49m\u001b[43m \u001b[49m\u001b[38;5;129;43;01mis\u001b[39;49;00m\u001b[43m \u001b[49m\u001b[38;5;129;43;01mnot\u001b[39;49;00m\u001b[43m \u001b[49m\u001b[38;5;28;43;01mNone\u001b[39;49;00m\u001b[43m \u001b[49m\u001b[38;5;28;43;01melse\u001b[39;49;00m\u001b[43m \u001b[49m\u001b[43m{\u001b[49m\u001b[43m}\u001b[49m\u001b[43m)\u001b[49m\u001b[43m,\u001b[49m\n\u001b[32m   3026\u001b[39m \u001b[43m        \u001b[49m\u001b[43m*\u001b[49m\u001b[43m*\u001b[49m\u001b[43mkwargs\u001b[49m\u001b[43m,\u001b[49m\n\u001b[32m   3027\u001b[39m \u001b[43m    \u001b[49m\u001b[43m)\u001b[49m\n",
            "\u001b[36mFile \u001b[39m\u001b[32m~/My Github/AI-Finanacial-Fraud-Detection---EDA/venv-3.13/lib/python3.13/site-packages/matplotlib/axes/_axes.py:2834\u001b[39m, in \u001b[36mAxes.barh\u001b[39m\u001b[34m(self, y, width, height, left, align, data, **kwargs)\u001b[39m\n\u001b[32m   2704\u001b[39m \u001b[38;5;250m\u001b[39m\u001b[33mr\u001b[39m\u001b[33;03m\"\"\"\u001b[39;00m\n\u001b[32m   2705\u001b[39m \u001b[33;03mMake a horizontal bar plot.\u001b[39;00m\n\u001b[32m   2706\u001b[39m \n\u001b[32m   (...)\u001b[39m\u001b[32m   2831\u001b[39m \u001b[33;03m:doc:`/gallery/lines_bars_and_markers/horizontal_barchart_distribution`.\u001b[39;00m\n\u001b[32m   2832\u001b[39m \u001b[33;03m\"\"\"\u001b[39;00m\n\u001b[32m   2833\u001b[39m kwargs.setdefault(\u001b[33m'\u001b[39m\u001b[33morientation\u001b[39m\u001b[33m'\u001b[39m, \u001b[33m'\u001b[39m\u001b[33mhorizontal\u001b[39m\u001b[33m'\u001b[39m)\n\u001b[32m-> \u001b[39m\u001b[32m2834\u001b[39m patches = \u001b[38;5;28;43mself\u001b[39;49m\u001b[43m.\u001b[49m\u001b[43mbar\u001b[49m\u001b[43m(\u001b[49m\u001b[43mx\u001b[49m\u001b[43m=\u001b[49m\u001b[43mleft\u001b[49m\u001b[43m,\u001b[49m\u001b[43m \u001b[49m\u001b[43mheight\u001b[49m\u001b[43m=\u001b[49m\u001b[43mheight\u001b[49m\u001b[43m,\u001b[49m\u001b[43m \u001b[49m\u001b[43mwidth\u001b[49m\u001b[43m=\u001b[49m\u001b[43mwidth\u001b[49m\u001b[43m,\u001b[49m\u001b[43m \u001b[49m\u001b[43mbottom\u001b[49m\u001b[43m=\u001b[49m\u001b[43my\u001b[49m\u001b[43m,\u001b[49m\n\u001b[32m   2835\u001b[39m \u001b[43m                   \u001b[49m\u001b[43malign\u001b[49m\u001b[43m=\u001b[49m\u001b[43malign\u001b[49m\u001b[43m,\u001b[49m\u001b[43m \u001b[49m\u001b[43mdata\u001b[49m\u001b[43m=\u001b[49m\u001b[43mdata\u001b[49m\u001b[43m,\u001b[49m\u001b[43m \u001b[49m\u001b[43m*\u001b[49m\u001b[43m*\u001b[49m\u001b[43mkwargs\u001b[49m\u001b[43m)\u001b[49m\n\u001b[32m   2836\u001b[39m \u001b[38;5;28;01mreturn\u001b[39;00m patches\n",
            "\u001b[36mFile \u001b[39m\u001b[32m~/My Github/AI-Finanacial-Fraud-Detection---EDA/venv-3.13/lib/python3.13/site-packages/matplotlib/__init__.py:1521\u001b[39m, in \u001b[36m_preprocess_data.<locals>.inner\u001b[39m\u001b[34m(ax, data, *args, **kwargs)\u001b[39m\n\u001b[32m   1518\u001b[39m \u001b[38;5;129m@functools\u001b[39m.wraps(func)\n\u001b[32m   1519\u001b[39m \u001b[38;5;28;01mdef\u001b[39;00m\u001b[38;5;250m \u001b[39m\u001b[34minner\u001b[39m(ax, *args, data=\u001b[38;5;28;01mNone\u001b[39;00m, **kwargs):\n\u001b[32m   1520\u001b[39m     \u001b[38;5;28;01mif\u001b[39;00m data \u001b[38;5;129;01mis\u001b[39;00m \u001b[38;5;28;01mNone\u001b[39;00m:\n\u001b[32m-> \u001b[39m\u001b[32m1521\u001b[39m         \u001b[38;5;28;01mreturn\u001b[39;00m \u001b[43mfunc\u001b[49m\u001b[43m(\u001b[49m\n\u001b[32m   1522\u001b[39m \u001b[43m            \u001b[49m\u001b[43max\u001b[49m\u001b[43m,\u001b[49m\n\u001b[32m   1523\u001b[39m \u001b[43m            \u001b[49m\u001b[43m*\u001b[49m\u001b[38;5;28;43mmap\u001b[39;49m\u001b[43m(\u001b[49m\u001b[43mcbook\u001b[49m\u001b[43m.\u001b[49m\u001b[43msanitize_sequence\u001b[49m\u001b[43m,\u001b[49m\u001b[43m \u001b[49m\u001b[43margs\u001b[49m\u001b[43m)\u001b[49m\u001b[43m,\u001b[49m\n\u001b[32m   1524\u001b[39m \u001b[43m            \u001b[49m\u001b[43m*\u001b[49m\u001b[43m*\u001b[49m\u001b[43m{\u001b[49m\u001b[43mk\u001b[49m\u001b[43m:\u001b[49m\u001b[43m \u001b[49m\u001b[43mcbook\u001b[49m\u001b[43m.\u001b[49m\u001b[43msanitize_sequence\u001b[49m\u001b[43m(\u001b[49m\u001b[43mv\u001b[49m\u001b[43m)\u001b[49m\u001b[43m \u001b[49m\u001b[38;5;28;43;01mfor\u001b[39;49;00m\u001b[43m \u001b[49m\u001b[43mk\u001b[49m\u001b[43m,\u001b[49m\u001b[43m \u001b[49m\u001b[43mv\u001b[49m\u001b[43m \u001b[49m\u001b[38;5;129;43;01min\u001b[39;49;00m\u001b[43m \u001b[49m\u001b[43mkwargs\u001b[49m\u001b[43m.\u001b[49m\u001b[43mitems\u001b[49m\u001b[43m(\u001b[49m\u001b[43m)\u001b[49m\u001b[43m}\u001b[49m\u001b[43m)\u001b[49m\n\u001b[32m   1526\u001b[39m     bound = new_sig.bind(ax, *args, **kwargs)\n\u001b[32m   1527\u001b[39m     auto_label = (bound.arguments.get(label_namer)\n\u001b[32m   1528\u001b[39m                   \u001b[38;5;129;01mor\u001b[39;00m bound.kwargs.get(label_namer))\n",
            "\u001b[36mFile \u001b[39m\u001b[32m~/My Github/AI-Finanacial-Fraud-Detection---EDA/venv-3.13/lib/python3.13/site-packages/matplotlib/axes/_axes.py:2583\u001b[39m, in \u001b[36mAxes.bar\u001b[39m\u001b[34m(self, x, height, width, bottom, align, **kwargs)\u001b[39m\n\u001b[32m   2580\u001b[39m     \u001b[38;5;28;01mif\u001b[39;00m yerr \u001b[38;5;129;01mis\u001b[39;00m \u001b[38;5;129;01mnot\u001b[39;00m \u001b[38;5;28;01mNone\u001b[39;00m:\n\u001b[32m   2581\u001b[39m         yerr = \u001b[38;5;28mself\u001b[39m._convert_dx(yerr, y0, y, \u001b[38;5;28mself\u001b[39m.convert_yunits)\n\u001b[32m-> \u001b[39m\u001b[32m2583\u001b[39m x, height, width, y, linewidth, hatch = \u001b[43mnp\u001b[49m\u001b[43m.\u001b[49m\u001b[43mbroadcast_arrays\u001b[49m\u001b[43m(\u001b[49m\n\u001b[32m   2584\u001b[39m \u001b[43m    \u001b[49m\u001b[38;5;66;43;03m# Make args iterable too.\u001b[39;49;00m\n\u001b[32m   2585\u001b[39m \u001b[43m    \u001b[49m\u001b[43mnp\u001b[49m\u001b[43m.\u001b[49m\u001b[43matleast_1d\u001b[49m\u001b[43m(\u001b[49m\u001b[43mx\u001b[49m\u001b[43m)\u001b[49m\u001b[43m,\u001b[49m\u001b[43m \u001b[49m\u001b[43mheight\u001b[49m\u001b[43m,\u001b[49m\u001b[43m \u001b[49m\u001b[43mwidth\u001b[49m\u001b[43m,\u001b[49m\u001b[43m \u001b[49m\u001b[43my\u001b[49m\u001b[43m,\u001b[49m\u001b[43m \u001b[49m\u001b[43mlinewidth\u001b[49m\u001b[43m,\u001b[49m\u001b[43m \u001b[49m\u001b[43mhatch\u001b[49m\u001b[43m)\u001b[49m\n\u001b[32m   2587\u001b[39m \u001b[38;5;66;03m# Now that units have been converted, set the tick locations.\u001b[39;00m\n\u001b[32m   2588\u001b[39m \u001b[38;5;28;01mif\u001b[39;00m orientation == \u001b[33m'\u001b[39m\u001b[33mvertical\u001b[39m\u001b[33m'\u001b[39m:\n",
            "\u001b[36mFile \u001b[39m\u001b[32m~/My Github/AI-Finanacial-Fraud-Detection---EDA/venv-3.13/lib/python3.13/site-packages/numpy/lib/_stride_tricks_impl.py:544\u001b[39m, in \u001b[36mbroadcast_arrays\u001b[39m\u001b[34m(subok, *args)\u001b[39m\n\u001b[32m    537\u001b[39m \u001b[38;5;66;03m# nditer is not used here to avoid the limit of 32 arrays.\u001b[39;00m\n\u001b[32m    538\u001b[39m \u001b[38;5;66;03m# Otherwise, something like the following one-liner would suffice:\u001b[39;00m\n\u001b[32m    539\u001b[39m \u001b[38;5;66;03m# return np.nditer(args, flags=['multi_index', 'zerosize_ok'],\u001b[39;00m\n\u001b[32m    540\u001b[39m \u001b[38;5;66;03m#                  order='C').itviews\u001b[39;00m\n\u001b[32m    542\u001b[39m args = [np.array(_m, copy=\u001b[38;5;28;01mNone\u001b[39;00m, subok=subok) \u001b[38;5;28;01mfor\u001b[39;00m _m \u001b[38;5;129;01min\u001b[39;00m args]\n\u001b[32m--> \u001b[39m\u001b[32m544\u001b[39m shape = \u001b[43m_broadcast_shape\u001b[49m\u001b[43m(\u001b[49m\u001b[43m*\u001b[49m\u001b[43margs\u001b[49m\u001b[43m)\u001b[49m\n\u001b[32m    546\u001b[39m result = [array \u001b[38;5;28;01mif\u001b[39;00m array.shape == shape\n\u001b[32m    547\u001b[39m           \u001b[38;5;28;01melse\u001b[39;00m _broadcast_to(array, shape, subok=subok, readonly=\u001b[38;5;28;01mFalse\u001b[39;00m)\n\u001b[32m    548\u001b[39m                           \u001b[38;5;28;01mfor\u001b[39;00m array \u001b[38;5;129;01min\u001b[39;00m args]\n\u001b[32m    549\u001b[39m \u001b[38;5;28;01mreturn\u001b[39;00m \u001b[38;5;28mtuple\u001b[39m(result)\n",
            "\u001b[36mFile \u001b[39m\u001b[32m~/My Github/AI-Finanacial-Fraud-Detection---EDA/venv-3.13/lib/python3.13/site-packages/numpy/lib/_stride_tricks_impl.py:419\u001b[39m, in \u001b[36m_broadcast_shape\u001b[39m\u001b[34m(*args)\u001b[39m\n\u001b[32m    414\u001b[39m \u001b[38;5;250m\u001b[39m\u001b[33;03m\"\"\"Returns the shape of the arrays that would result from broadcasting the\u001b[39;00m\n\u001b[32m    415\u001b[39m \u001b[33;03msupplied arrays against each other.\u001b[39;00m\n\u001b[32m    416\u001b[39m \u001b[33;03m\"\"\"\u001b[39;00m\n\u001b[32m    417\u001b[39m \u001b[38;5;66;03m# use the old-iterator because np.nditer does not handle size 0 arrays\u001b[39;00m\n\u001b[32m    418\u001b[39m \u001b[38;5;66;03m# consistently\u001b[39;00m\n\u001b[32m--> \u001b[39m\u001b[32m419\u001b[39m b = \u001b[43mnp\u001b[49m\u001b[43m.\u001b[49m\u001b[43mbroadcast\u001b[49m\u001b[43m(\u001b[49m\u001b[43m*\u001b[49m\u001b[43margs\u001b[49m\u001b[43m[\u001b[49m\u001b[43m:\u001b[49m\u001b[32;43m32\u001b[39;49m\u001b[43m]\u001b[49m\u001b[43m)\u001b[49m\n\u001b[32m    420\u001b[39m \u001b[38;5;66;03m# unfortunately, it cannot handle 32 or more arguments directly\u001b[39;00m\n\u001b[32m    421\u001b[39m \u001b[38;5;28;01mfor\u001b[39;00m pos \u001b[38;5;129;01min\u001b[39;00m \u001b[38;5;28mrange\u001b[39m(\u001b[32m32\u001b[39m, \u001b[38;5;28mlen\u001b[39m(args), \u001b[32m31\u001b[39m):\n\u001b[32m    422\u001b[39m     \u001b[38;5;66;03m# ironically, np.broadcast does not properly handle np.broadcast\u001b[39;00m\n\u001b[32m    423\u001b[39m     \u001b[38;5;66;03m# objects (it treats them as scalars)\u001b[39;00m\n\u001b[32m    424\u001b[39m     \u001b[38;5;66;03m# use broadcasting to avoid allocating the full array\u001b[39;00m\n",
            "\u001b[31mValueError\u001b[39m: shape mismatch: objects cannot be broadcast to a single shape.  Mismatch is between arg 2 with shape (8,) and arg 3 with shape (10,)."
          ]
        },
        {
          "data": {
            "image/png": "[encoded data removed]",
            "text/plain": [
              "<Figure size 1000x600 with 1 Axes>"
            ]
          },
          "metadata": {},
          "output_type": "display_data"
        }
      ],
      "source": [
        "# Feature Importance (if available)\n",
        "if hasattr(best_model, \"feature_importances_\"):\n",
        "    importances = best_model.feature_importances_\n",
        "    indices = np.argsort(importances)[::-1][:10]\n",
        "    \n",
        "    plt.figure(figsize=(10, 6))\n",
        "    plt.title(\"Top 10 Feature Importances\")\n",
        "    plt.barh(range(10), importances[indices], color='b', align='center')\n",
        "    plt.yticks(range(10), [features[i] for i in indices])\n",
        "    plt.gca().invert_yaxis()\n",
        "    plt.show()"
      ]
    },
    {
      "cell_type": "code",
      "execution_count": 51,
      "metadata": {},
      "outputs": [
        {
          "name": "stdout",
          "output_type": "stream",
          "text": [
            "✅ Generating confusion matrix for top model: CatBoost_balanced_ManualCV\n"
          ]
        },
        {
          "data": {
            "text/plain": [
              "<sklearn.metrics._plot.confusion_matrix.ConfusionMatrixDisplay at 0x169921310>"
            ]
          },
          "execution_count": 51,
          "metadata": {},
          "output_type": "execute_result"
        },
        {
          "data": {
            "image/png": "[encoded data removed]",
            "text/plain": [
              "<Figure size 640x480 with 2 Axes>"
            ]
          },
          "metadata": {},
          "output_type": "display_data"
        }
      ],
      "source": [
        "from sklearn.metrics import confusion_matrix, ConfusionMatrixDisplay\n",
        "\n",
        "# Step 1: Get the top model from final_results_df (sorted by F1 Score)\n",
        "top_model_row = final_results_df.sort_values('F1 Score', ascending=False).iloc[0]\n",
        "top_model_name = top_model_row['Model']\n",
        "top_model = top_model_row['Trained Model']\n",
        "\n",
        "print(f\"✅ Generating confusion matrix for top model: {top_model_name}\")\n",
        "\n",
        "# Step 2: Predict on test set\n",
        "y_pred_top = top_model.predict(X_test)\n",
        "\n",
        "# Step 3: Compute and display confusion matrix\n",
        "cm = confusion_matrix(y_test, y_pred_top)\n",
        "disp = ConfusionMatrixDisplay(confusion_matrix=cm)\n",
        "disp.plot(cmap='Blues')\n"
      ]
    }
  ],
  "metadata": {
    "colab": {
      "provenance": []
    },
    "kernelspec": {
      "display_name": "venv-3.13 (3.13.5)",
      "language": "python",
      "name": "python3"
    },
    "language_info": {
      "codemirror_mode": {
        "name": "ipython",
        "version": 3
      },
      "file_extension": ".py",
      "mimetype": "text/x-python",
      "name": "python",
      "nbconvert_exporter": "python",
      "pygments_lexer": "ipython3",
      "version": "3.13.5"
    }
  },
  "nbformat": 4,
  "nbformat_minor": 0
}
