{
  "cells": [
    {
      "cell_type": "code",
      "execution_count": 663,
      "metadata": {
        "id": "WNd_RtW7WQVN"
      },
      "outputs": [],
      "source": [
        "# Import necessary libraries\n",
        "import pandas as pd\n",
        "import numpy as np\n",
        "import matplotlib.pyplot as plt\n",
        "import seaborn as sns\n",
        "import joblib\n",
        "import os\n",
        "from pathlib import Path\n",
        "from sklearn.model_selection import train_test_split, GridSearchCV, cross_val_score, ParameterGrid\n",
        "from sklearn.metrics import (classification_report, confusion_matrix, \n",
        "                           ConfusionMatrixDisplay, roc_auc_score, \n",
        "                           make_scorer, f1_score)\n",
        "from sklearn.ensemble import RandomForestClassifier, GradientBoostingClassifier, AdaBoostClassifier, ExtraTreesClassifier, HistGradientBoostingClassifier\n",
        "from sklearn.linear_model import LogisticRegression\n",
        "from sklearn.naive_bayes import GaussianNB\n",
        "from sklearn.neighbors import KNeighborsClassifier\n",
        "from sklearn.tree import DecisionTreeClassifier\n",
        "from lightgbm import LGBMClassifier\n",
        "from xgboost import XGBClassifier\n",
        "from catboost import CatBoostClassifier\n",
        "from IPython.display import display"
      ]
    },
    {
      "cell_type": "code",
      "execution_count": 664,
      "metadata": {},
      "outputs": [],
      "source": [
        "# Create a models directory if it doesn't exist\n",
        "MODEL_DIR = \"saved_models\"\n",
        "Path(MODEL_DIR).mkdir(parents=True, exist_ok=True)"
      ]
    },
    {
      "cell_type": "code",
      "execution_count": 665,
      "metadata": {
        "id": "4ReOTEayWQ_M"
      },
      "outputs": [],
      "source": [
        "# =============================================================================\n",
        "# Data Loading and Preprocessing\n",
        "# =============================================================================\n",
        "file_path = 'Synthetic_Financial_datasets_log.csv'\n",
        "df = pd.read_csv(file_path, low_memory=False)"
      ]
    },
    {
      "cell_type": "code",
      "execution_count": 666,
      "metadata": {
        "colab": {
          "base_uri": "https://localhost:8080/",
          "height": 226
        },
        "id": "GKQ_u9EbWQrW",
        "outputId": "78fda7ce-0a36-450c-c374-d7a226ead23f"
      },
      "outputs": [
        {
          "name": "stdout",
          "output_type": "stream",
          "text": [
            "Data shape: (6362620, 11)\n"
          ]
        },
        {
          "data": {
            "text/html": [
              "<div>\n",
              "<style scoped>\n",
              "    .dataframe tbody tr th:only-of-type {\n",
              "        vertical-align: middle;\n",
              "    }\n",
              "\n",
              "    .dataframe tbody tr th {\n",
              "        vertical-align: top;\n",
              "    }\n",
              "\n",
              "    .dataframe thead th {\n",
              "        text-align: right;\n",
              "    }\n",
              "</style>\n",
              "<table border=\"1\" class=\"dataframe\">\n",
              "  <thead>\n",
              "    <tr style=\"text-align: right;\">\n",
              "      <th></th>\n",
              "      <th>step</th>\n",
              "      <th>type</th>\n",
              "      <th>amount</th>\n",
              "      <th>nameOrig</th>\n",
              "      <th>oldbalanceOrg</th>\n",
              "      <th>newbalanceOrig</th>\n",
              "      <th>nameDest</th>\n",
              "      <th>oldbalanceDest</th>\n",
              "      <th>newbalanceDest</th>\n",
              "      <th>isFraud</th>\n",
              "      <th>isFlaggedFraud</th>\n",
              "    </tr>\n",
              "  </thead>\n",
              "  <tbody>\n",
              "    <tr>\n",
              "      <th>0</th>\n",
              "      <td>1</td>\n",
              "      <td>PAYMENT</td>\n",
              "      <td>9,839.6400</td>\n",
              "      <td>C1231006815</td>\n",
              "      <td>170,136.0000</td>\n",
              "      <td>160,296.3600</td>\n",
              "      <td>M1979787155</td>\n",
              "      <td>0.0000</td>\n",
              "      <td>0.0000</td>\n",
              "      <td>0</td>\n",
              "      <td>0</td>\n",
              "    </tr>\n",
              "    <tr>\n",
              "      <th>1</th>\n",
              "      <td>1</td>\n",
              "      <td>PAYMENT</td>\n",
              "      <td>1,864.2800</td>\n",
              "      <td>C1666544295</td>\n",
              "      <td>21,249.0000</td>\n",
              "      <td>19,384.7200</td>\n",
              "      <td>M2044282225</td>\n",
              "      <td>0.0000</td>\n",
              "      <td>0.0000</td>\n",
              "      <td>0</td>\n",
              "      <td>0</td>\n",
              "    </tr>\n",
              "    <tr>\n",
              "      <th>2</th>\n",
              "      <td>1</td>\n",
              "      <td>TRANSFER</td>\n",
              "      <td>181.0000</td>\n",
              "      <td>C1305486145</td>\n",
              "      <td>181.0000</td>\n",
              "      <td>0.0000</td>\n",
              "      <td>C553264065</td>\n",
              "      <td>0.0000</td>\n",
              "      <td>0.0000</td>\n",
              "      <td>1</td>\n",
              "      <td>0</td>\n",
              "    </tr>\n",
              "    <tr>\n",
              "      <th>3</th>\n",
              "      <td>1</td>\n",
              "      <td>CASH_OUT</td>\n",
              "      <td>181.0000</td>\n",
              "      <td>C840083671</td>\n",
              "      <td>181.0000</td>\n",
              "      <td>0.0000</td>\n",
              "      <td>C38997010</td>\n",
              "      <td>21,182.0000</td>\n",
              "      <td>0.0000</td>\n",
              "      <td>1</td>\n",
              "      <td>0</td>\n",
              "    </tr>\n",
              "    <tr>\n",
              "      <th>4</th>\n",
              "      <td>1</td>\n",
              "      <td>PAYMENT</td>\n",
              "      <td>11,668.1400</td>\n",
              "      <td>C2048537720</td>\n",
              "      <td>41,554.0000</td>\n",
              "      <td>29,885.8600</td>\n",
              "      <td>M1230701703</td>\n",
              "      <td>0.0000</td>\n",
              "      <td>0.0000</td>\n",
              "      <td>0</td>\n",
              "      <td>0</td>\n",
              "    </tr>\n",
              "  </tbody>\n",
              "</table>\n",
              "</div>"
            ],
            "text/plain": [
              "   step      type      amount     nameOrig  oldbalanceOrg  newbalanceOrig  \\\n",
              "0     1   PAYMENT  9,839.6400  C1231006815   170,136.0000    160,296.3600   \n",
              "1     1   PAYMENT  1,864.2800  C1666544295    21,249.0000     19,384.7200   \n",
              "2     1  TRANSFER    181.0000  C1305486145       181.0000          0.0000   \n",
              "3     1  CASH_OUT    181.0000   C840083671       181.0000          0.0000   \n",
              "4     1   PAYMENT 11,668.1400  C2048537720    41,554.0000     29,885.8600   \n",
              "\n",
              "      nameDest  oldbalanceDest  newbalanceDest  isFraud  isFlaggedFraud  \n",
              "0  M1979787155          0.0000          0.0000        0               0  \n",
              "1  M2044282225          0.0000          0.0000        0               0  \n",
              "2   C553264065          0.0000          0.0000        1               0  \n",
              "3    C38997010     21,182.0000          0.0000        1               0  \n",
              "4  M1230701703          0.0000          0.0000        0               0  "
            ]
          },
          "metadata": {},
          "output_type": "display_data"
        }
      ],
      "source": [
        "# Display basic info\n",
        "print(\"Data shape:\", df.shape)\n",
        "display(df.head())"
      ]
    },
    {
      "cell_type": "code",
      "execution_count": 667,
      "metadata": {
        "colab": {
          "base_uri": "https://localhost:8080/",
          "height": 320
        },
        "id": "6fixtyOMWZT_",
        "outputId": "412e4880-a51b-4c18-dff3-e17f0b40c48a"
      },
      "outputs": [
        {
          "data": {
            "text/html": [
              "<div>\n",
              "<style scoped>\n",
              "    .dataframe tbody tr th:only-of-type {\n",
              "        vertical-align: middle;\n",
              "    }\n",
              "\n",
              "    .dataframe tbody tr th {\n",
              "        vertical-align: top;\n",
              "    }\n",
              "\n",
              "    .dataframe thead th {\n",
              "        text-align: right;\n",
              "    }\n",
              "</style>\n",
              "<table border=\"1\" class=\"dataframe\">\n",
              "  <thead>\n",
              "    <tr style=\"text-align: right;\">\n",
              "      <th></th>\n",
              "      <th>step</th>\n",
              "      <th>amount</th>\n",
              "      <th>oldbalanceOrg</th>\n",
              "      <th>newbalanceOrig</th>\n",
              "      <th>oldbalanceDest</th>\n",
              "      <th>newbalanceDest</th>\n",
              "      <th>isFraud</th>\n",
              "      <th>isFlaggedFraud</th>\n",
              "    </tr>\n",
              "  </thead>\n",
              "  <tbody>\n",
              "    <tr>\n",
              "      <th>count</th>\n",
              "      <td>6,362,620.0000</td>\n",
              "      <td>6,362,620.0000</td>\n",
              "      <td>6,362,620.0000</td>\n",
              "      <td>6,362,620.0000</td>\n",
              "      <td>6,362,620.0000</td>\n",
              "      <td>6,362,620.0000</td>\n",
              "      <td>6,362,620.0000</td>\n",
              "      <td>6,362,620.0000</td>\n",
              "    </tr>\n",
              "    <tr>\n",
              "      <th>mean</th>\n",
              "      <td>243.3972</td>\n",
              "      <td>179,861.9035</td>\n",
              "      <td>833,883.1041</td>\n",
              "      <td>855,113.6686</td>\n",
              "      <td>1,100,701.6665</td>\n",
              "      <td>1,224,996.3982</td>\n",
              "      <td>0.0013</td>\n",
              "      <td>0.0000</td>\n",
              "    </tr>\n",
              "    <tr>\n",
              "      <th>std</th>\n",
              "      <td>142.3320</td>\n",
              "      <td>603,858.2315</td>\n",
              "      <td>2,888,242.6730</td>\n",
              "      <td>2,924,048.5030</td>\n",
              "      <td>3,399,180.1130</td>\n",
              "      <td>3,674,128.9421</td>\n",
              "      <td>0.0359</td>\n",
              "      <td>0.0016</td>\n",
              "    </tr>\n",
              "    <tr>\n",
              "      <th>min</th>\n",
              "      <td>1.0000</td>\n",
              "      <td>0.0000</td>\n",
              "      <td>0.0000</td>\n",
              "      <td>0.0000</td>\n",
              "      <td>0.0000</td>\n",
              "      <td>0.0000</td>\n",
              "      <td>0.0000</td>\n",
              "      <td>0.0000</td>\n",
              "    </tr>\n",
              "    <tr>\n",
              "      <th>25%</th>\n",
              "      <td>156.0000</td>\n",
              "      <td>13,389.5700</td>\n",
              "      <td>0.0000</td>\n",
              "      <td>0.0000</td>\n",
              "      <td>0.0000</td>\n",
              "      <td>0.0000</td>\n",
              "      <td>0.0000</td>\n",
              "      <td>0.0000</td>\n",
              "    </tr>\n",
              "    <tr>\n",
              "      <th>50%</th>\n",
              "      <td>239.0000</td>\n",
              "      <td>74,871.9400</td>\n",
              "      <td>14,208.0000</td>\n",
              "      <td>0.0000</td>\n",
              "      <td>132,705.6650</td>\n",
              "      <td>214,661.4400</td>\n",
              "      <td>0.0000</td>\n",
              "      <td>0.0000</td>\n",
              "    </tr>\n",
              "    <tr>\n",
              "      <th>75%</th>\n",
              "      <td>335.0000</td>\n",
              "      <td>208,721.4775</td>\n",
              "      <td>107,315.1750</td>\n",
              "      <td>144,258.4100</td>\n",
              "      <td>943,036.7075</td>\n",
              "      <td>1,111,909.2500</td>\n",
              "      <td>0.0000</td>\n",
              "      <td>0.0000</td>\n",
              "    </tr>\n",
              "    <tr>\n",
              "      <th>max</th>\n",
              "      <td>743.0000</td>\n",
              "      <td>92,445,516.6400</td>\n",
              "      <td>59,585,040.3700</td>\n",
              "      <td>49,585,040.3700</td>\n",
              "      <td>356,015,889.3500</td>\n",
              "      <td>356,179,278.9200</td>\n",
              "      <td>1.0000</td>\n",
              "      <td>1.0000</td>\n",
              "    </tr>\n",
              "  </tbody>\n",
              "</table>\n",
              "</div>"
            ],
            "text/plain": [
              "                step          amount   oldbalanceOrg  newbalanceOrig  \\\n",
              "count 6,362,620.0000  6,362,620.0000  6,362,620.0000  6,362,620.0000   \n",
              "mean        243.3972    179,861.9035    833,883.1041    855,113.6686   \n",
              "std         142.3320    603,858.2315  2,888,242.6730  2,924,048.5030   \n",
              "min           1.0000          0.0000          0.0000          0.0000   \n",
              "25%         156.0000     13,389.5700          0.0000          0.0000   \n",
              "50%         239.0000     74,871.9400     14,208.0000          0.0000   \n",
              "75%         335.0000    208,721.4775    107,315.1750    144,258.4100   \n",
              "max         743.0000 92,445,516.6400 59,585,040.3700 49,585,040.3700   \n",
              "\n",
              "        oldbalanceDest   newbalanceDest        isFraud  isFlaggedFraud  \n",
              "count   6,362,620.0000   6,362,620.0000 6,362,620.0000  6,362,620.0000  \n",
              "mean    1,100,701.6665   1,224,996.3982         0.0013          0.0000  \n",
              "std     3,399,180.1130   3,674,128.9421         0.0359          0.0016  \n",
              "min             0.0000           0.0000         0.0000          0.0000  \n",
              "25%             0.0000           0.0000         0.0000          0.0000  \n",
              "50%       132,705.6650     214,661.4400         0.0000          0.0000  \n",
              "75%       943,036.7075   1,111,909.2500         0.0000          0.0000  \n",
              "max   356,015,889.3500 356,179,278.9200         1.0000          1.0000  "
            ]
          },
          "execution_count": 667,
          "metadata": {},
          "output_type": "execute_result"
        }
      ],
      "source": [
        "df.describe()"
      ]
    },
    {
      "cell_type": "markdown",
      "metadata": {
        "id": "-nJ_qVWvXhH_"
      },
      "source": [
        "# DELETING 100% NULL NUMERIC COLUMNS"
      ]
    },
    {
      "cell_type": "code",
      "execution_count": 668,
      "metadata": {
        "id": "AVnh7EnOW1xN"
      },
      "outputs": [],
      "source": [
        "nan_col = []\n",
        "for i in df.columns:\n",
        "  if df[i].dtype == 'float64' and df[i].describe()['count'] == 0.0:\n",
        "    nan_col.append(i)\n",
        "# nan_col # NAN numeric columns"
      ]
    },
    {
      "cell_type": "code",
      "execution_count": 669,
      "metadata": {
        "id": "5Hj8o4OnW1uV"
      },
      "outputs": [
        {
          "name": "stdout",
          "output_type": "stream",
          "text": [
            "Dropped 0 null columns\n"
          ]
        }
      ],
      "source": [
        "#Drop 81 NAN numeric columns\n",
        "df.drop(nan_col, axis=1, inplace=True)\n",
        "print(f\"Dropped {len(nan_col)} null columns\")"
      ]
    },
    {
      "cell_type": "code",
      "execution_count": 670,
      "metadata": {
        "colab": {
          "base_uri": "https://localhost:8080/",
          "height": 132
        },
        "id": "A5cph19lW1rN",
        "outputId": "543871a2-2176-4746-eb71-43ac82162cee"
      },
      "outputs": [
        {
          "data": {
            "text/html": [
              "<div>\n",
              "<style scoped>\n",
              "    .dataframe tbody tr th:only-of-type {\n",
              "        vertical-align: middle;\n",
              "    }\n",
              "\n",
              "    .dataframe tbody tr th {\n",
              "        vertical-align: top;\n",
              "    }\n",
              "\n",
              "    .dataframe thead th {\n",
              "        text-align: right;\n",
              "    }\n",
              "</style>\n",
              "<table border=\"1\" class=\"dataframe\">\n",
              "  <thead>\n",
              "    <tr style=\"text-align: right;\">\n",
              "      <th></th>\n",
              "      <th>step</th>\n",
              "      <th>type</th>\n",
              "      <th>amount</th>\n",
              "      <th>nameOrig</th>\n",
              "      <th>oldbalanceOrg</th>\n",
              "      <th>newbalanceOrig</th>\n",
              "      <th>nameDest</th>\n",
              "      <th>oldbalanceDest</th>\n",
              "      <th>newbalanceDest</th>\n",
              "      <th>isFraud</th>\n",
              "      <th>isFlaggedFraud</th>\n",
              "    </tr>\n",
              "  </thead>\n",
              "  <tbody>\n",
              "    <tr>\n",
              "      <th>0</th>\n",
              "      <td>1</td>\n",
              "      <td>PAYMENT</td>\n",
              "      <td>9,839.6400</td>\n",
              "      <td>C1231006815</td>\n",
              "      <td>170,136.0000</td>\n",
              "      <td>160,296.3600</td>\n",
              "      <td>M1979787155</td>\n",
              "      <td>0.0000</td>\n",
              "      <td>0.0000</td>\n",
              "      <td>0</td>\n",
              "      <td>0</td>\n",
              "    </tr>\n",
              "    <tr>\n",
              "      <th>1</th>\n",
              "      <td>1</td>\n",
              "      <td>PAYMENT</td>\n",
              "      <td>1,864.2800</td>\n",
              "      <td>C1666544295</td>\n",
              "      <td>21,249.0000</td>\n",
              "      <td>19,384.7200</td>\n",
              "      <td>M2044282225</td>\n",
              "      <td>0.0000</td>\n",
              "      <td>0.0000</td>\n",
              "      <td>0</td>\n",
              "      <td>0</td>\n",
              "    </tr>\n",
              "    <tr>\n",
              "      <th>2</th>\n",
              "      <td>1</td>\n",
              "      <td>TRANSFER</td>\n",
              "      <td>181.0000</td>\n",
              "      <td>C1305486145</td>\n",
              "      <td>181.0000</td>\n",
              "      <td>0.0000</td>\n",
              "      <td>C553264065</td>\n",
              "      <td>0.0000</td>\n",
              "      <td>0.0000</td>\n",
              "      <td>1</td>\n",
              "      <td>0</td>\n",
              "    </tr>\n",
              "    <tr>\n",
              "      <th>3</th>\n",
              "      <td>1</td>\n",
              "      <td>CASH_OUT</td>\n",
              "      <td>181.0000</td>\n",
              "      <td>C840083671</td>\n",
              "      <td>181.0000</td>\n",
              "      <td>0.0000</td>\n",
              "      <td>C38997010</td>\n",
              "      <td>21,182.0000</td>\n",
              "      <td>0.0000</td>\n",
              "      <td>1</td>\n",
              "      <td>0</td>\n",
              "    </tr>\n",
              "    <tr>\n",
              "      <th>4</th>\n",
              "      <td>1</td>\n",
              "      <td>PAYMENT</td>\n",
              "      <td>11,668.1400</td>\n",
              "      <td>C2048537720</td>\n",
              "      <td>41,554.0000</td>\n",
              "      <td>29,885.8600</td>\n",
              "      <td>M1230701703</td>\n",
              "      <td>0.0000</td>\n",
              "      <td>0.0000</td>\n",
              "      <td>0</td>\n",
              "      <td>0</td>\n",
              "    </tr>\n",
              "  </tbody>\n",
              "</table>\n",
              "</div>"
            ],
            "text/plain": [
              "   step      type      amount     nameOrig  oldbalanceOrg  newbalanceOrig  \\\n",
              "0     1   PAYMENT  9,839.6400  C1231006815   170,136.0000    160,296.3600   \n",
              "1     1   PAYMENT  1,864.2800  C1666544295    21,249.0000     19,384.7200   \n",
              "2     1  TRANSFER    181.0000  C1305486145       181.0000          0.0000   \n",
              "3     1  CASH_OUT    181.0000   C840083671       181.0000          0.0000   \n",
              "4     1   PAYMENT 11,668.1400  C2048537720    41,554.0000     29,885.8600   \n",
              "\n",
              "      nameDest  oldbalanceDest  newbalanceDest  isFraud  isFlaggedFraud  \n",
              "0  M1979787155          0.0000          0.0000        0               0  \n",
              "1  M2044282225          0.0000          0.0000        0               0  \n",
              "2   C553264065          0.0000          0.0000        1               0  \n",
              "3    C38997010     21,182.0000          0.0000        1               0  \n",
              "4  M1230701703          0.0000          0.0000        0               0  "
            ]
          },
          "execution_count": 670,
          "metadata": {},
          "output_type": "execute_result"
        }
      ],
      "source": [
        "df.head()"
      ]
    },
    {
      "cell_type": "code",
      "execution_count": 671,
      "metadata": {
        "colab": {
          "base_uri": "https://localhost:8080/"
        },
        "id": "bC4i8ZOLW1oW",
        "outputId": "f5390ec9-b285-4b0a-c217-9cfdc69546f9"
      },
      "outputs": [
        {
          "data": {
            "text/plain": [
              "(6362620, 11)"
            ]
          },
          "execution_count": 671,
          "metadata": {},
          "output_type": "execute_result"
        }
      ],
      "source": [
        "df.shape"
      ]
    },
    {
      "cell_type": "markdown",
      "metadata": {
        "id": "TSSNYPwnXlLH"
      },
      "source": [
        "# Deleting columns with only 1 value\n",
        "because there will not be contributing in decision making"
      ]
    },
    {
      "cell_type": "code",
      "execution_count": 672,
      "metadata": {
        "colab": {
          "base_uri": "https://localhost:8080/"
        },
        "id": "tH-_SvvzXYO8",
        "outputId": "4de6817b-b177-47a3-da9c-1739a72599e6"
      },
      "outputs": [
        {
          "data": {
            "text/plain": [
              "[]"
            ]
          },
          "execution_count": 672,
          "metadata": {},
          "output_type": "execute_result"
        }
      ],
      "source": [
        "unique1_col = []\n",
        "for i in df.columns:\n",
        "  if df[i].nunique() == 1:\n",
        "    unique1_col.append(i)\n",
        "unique1_col # Having 1 unique columns"
      ]
    },
    {
      "cell_type": "code",
      "execution_count": 673,
      "metadata": {
        "colab": {
          "base_uri": "https://localhost:8080/"
        },
        "id": "Hw2IIGZ9XYMF",
        "outputId": "c341f550-894b-422a-c7a1-e54670935796"
      },
      "outputs": [
        {
          "name": "stdout",
          "output_type": "stream",
          "text": [
            "Dropped 0 single-value columns\n"
          ]
        },
        {
          "data": {
            "text/plain": [
              "(6362620, 11)"
            ]
          },
          "execution_count": 673,
          "metadata": {},
          "output_type": "execute_result"
        }
      ],
      "source": [
        "#Drop unique 1 value columns\n",
        "df.drop(unique1_col, axis=1, inplace=True)\n",
        "print(f\"Dropped {len(unique1_col)} single-value columns\")\n",
        "df.shape"
      ]
    },
    {
      "cell_type": "markdown",
      "metadata": {
        "id": "lcdOwvnAbUKD"
      },
      "source": [
        "# Deleting NULL values columns other than numeric"
      ]
    },
    {
      "cell_type": "code",
      "execution_count": 674,
      "metadata": {
        "colab": {
          "base_uri": "https://localhost:8080/"
        },
        "id": "anyqkCgRbVbl",
        "outputId": "c78ad1e7-08d6-49ea-be8e-9533274f78b0"
      },
      "outputs": [
        {
          "data": {
            "text/plain": [
              "[]"
            ]
          },
          "execution_count": 674,
          "metadata": {},
          "output_type": "execute_result"
        }
      ],
      "source": [
        "null90_col = []\n",
        "for i in df.columns:\n",
        "  if df[i].isnull().sum() * 100 / df.shape[0] >= 90.0:\n",
        "    null90_col.append(i)\n",
        "null90_col # Having 90% null columns"
      ]
    },
    {
      "cell_type": "code",
      "execution_count": 675,
      "metadata": {
        "colab": {
          "base_uri": "https://localhost:8080/"
        },
        "id": "6Rg4asaMbYK0",
        "outputId": "3fd973c8-65c8-4b59-cf7e-69988892856e"
      },
      "outputs": [
        {
          "name": "stdout",
          "output_type": "stream",
          "text": [
            "Dropped 0 90%-null columns\n"
          ]
        },
        {
          "data": {
            "text/plain": [
              "(6362620, 11)"
            ]
          },
          "execution_count": 675,
          "metadata": {},
          "output_type": "execute_result"
        }
      ],
      "source": [
        "#Drop 90% null value columns\n",
        "df.drop(null90_col, axis=1, inplace=True)\n",
        "print(f\"Dropped {len(null90_col)} 90%-null columns\")\n",
        "df.shape"
      ]
    },
    {
      "cell_type": "code",
      "execution_count": 676,
      "metadata": {
        "id": "03BwMaR6W1lN"
      },
      "outputs": [],
      "source": [
        "# Data Exploration Functions (Same as before)\n",
        "def stats_generate(df):\n",
        "    stats = []\n",
        "    for col in df.columns:\n",
        "        stats.append({\n",
        "            'Column Name': col,\n",
        "            'Unique_values': df[col].nunique(),\n",
        "            'Percentage of NULL values': df[col].isnull().sum() * 100 / df.shape[0],\n",
        "            'data type': df[col].dtype\n",
        "        })\n",
        "    return pd.DataFrame(stats)"
      ]
    },
    {
      "cell_type": "code",
      "execution_count": 677,
      "metadata": {},
      "outputs": [],
      "source": [
        "def Catergories(df, col):\n",
        "    print(f\"--- {col} ---\")\n",
        "    print(\"Unique values:\", df[col].unique())\n",
        "    print(\"Null values:\", df[col].isnull().sum())\n",
        "    df[col].value_counts().plot(kind='bar')\n",
        "    plt.title(col)\n",
        "    plt.ylabel('Count')\n",
        "    plt.show()"
      ]
    },
    {
      "cell_type": "code",
      "execution_count": 678,
      "metadata": {
        "colab": {
          "base_uri": "https://localhost:8080/",
          "height": 394
        },
        "id": "nZ3lRX7JXYVP",
        "outputId": "4237e681-3ed1-4571-d362-4df6d70ba176"
      },
      "outputs": [
        {
          "data": {
            "text/html": [
              "<div>\n",
              "<style scoped>\n",
              "    .dataframe tbody tr th:only-of-type {\n",
              "        vertical-align: middle;\n",
              "    }\n",
              "\n",
              "    .dataframe tbody tr th {\n",
              "        vertical-align: top;\n",
              "    }\n",
              "\n",
              "    .dataframe thead th {\n",
              "        text-align: right;\n",
              "    }\n",
              "</style>\n",
              "<table border=\"1\" class=\"dataframe\">\n",
              "  <thead>\n",
              "    <tr style=\"text-align: right;\">\n",
              "      <th></th>\n",
              "      <th>Column Name</th>\n",
              "      <th>Unique_values</th>\n",
              "      <th>Percentage of NULL values</th>\n",
              "      <th>data type</th>\n",
              "    </tr>\n",
              "  </thead>\n",
              "  <tbody>\n",
              "    <tr>\n",
              "      <th>0</th>\n",
              "      <td>step</td>\n",
              "      <td>743</td>\n",
              "      <td>0.0000</td>\n",
              "      <td>int64</td>\n",
              "    </tr>\n",
              "    <tr>\n",
              "      <th>1</th>\n",
              "      <td>type</td>\n",
              "      <td>5</td>\n",
              "      <td>0.0000</td>\n",
              "      <td>object</td>\n",
              "    </tr>\n",
              "    <tr>\n",
              "      <th>2</th>\n",
              "      <td>amount</td>\n",
              "      <td>5316900</td>\n",
              "      <td>0.0000</td>\n",
              "      <td>float64</td>\n",
              "    </tr>\n",
              "    <tr>\n",
              "      <th>3</th>\n",
              "      <td>nameOrig</td>\n",
              "      <td>6353307</td>\n",
              "      <td>0.0000</td>\n",
              "      <td>object</td>\n",
              "    </tr>\n",
              "    <tr>\n",
              "      <th>4</th>\n",
              "      <td>oldbalanceOrg</td>\n",
              "      <td>1845844</td>\n",
              "      <td>0.0000</td>\n",
              "      <td>float64</td>\n",
              "    </tr>\n",
              "    <tr>\n",
              "      <th>5</th>\n",
              "      <td>newbalanceOrig</td>\n",
              "      <td>2682586</td>\n",
              "      <td>0.0000</td>\n",
              "      <td>float64</td>\n",
              "    </tr>\n",
              "    <tr>\n",
              "      <th>6</th>\n",
              "      <td>nameDest</td>\n",
              "      <td>2722362</td>\n",
              "      <td>0.0000</td>\n",
              "      <td>object</td>\n",
              "    </tr>\n",
              "    <tr>\n",
              "      <th>7</th>\n",
              "      <td>oldbalanceDest</td>\n",
              "      <td>3614697</td>\n",
              "      <td>0.0000</td>\n",
              "      <td>float64</td>\n",
              "    </tr>\n",
              "    <tr>\n",
              "      <th>8</th>\n",
              "      <td>newbalanceDest</td>\n",
              "      <td>3555499</td>\n",
              "      <td>0.0000</td>\n",
              "      <td>float64</td>\n",
              "    </tr>\n",
              "    <tr>\n",
              "      <th>9</th>\n",
              "      <td>isFraud</td>\n",
              "      <td>2</td>\n",
              "      <td>0.0000</td>\n",
              "      <td>int64</td>\n",
              "    </tr>\n",
              "    <tr>\n",
              "      <th>10</th>\n",
              "      <td>isFlaggedFraud</td>\n",
              "      <td>2</td>\n",
              "      <td>0.0000</td>\n",
              "      <td>int64</td>\n",
              "    </tr>\n",
              "  </tbody>\n",
              "</table>\n",
              "</div>"
            ],
            "text/plain": [
              "       Column Name  Unique_values  Percentage of NULL values data type\n",
              "0             step            743                     0.0000     int64\n",
              "1             type              5                     0.0000    object\n",
              "2           amount        5316900                     0.0000   float64\n",
              "3         nameOrig        6353307                     0.0000    object\n",
              "4    oldbalanceOrg        1845844                     0.0000   float64\n",
              "5   newbalanceOrig        2682586                     0.0000   float64\n",
              "6         nameDest        2722362                     0.0000    object\n",
              "7   oldbalanceDest        3614697                     0.0000   float64\n",
              "8   newbalanceDest        3555499                     0.0000   float64\n",
              "9          isFraud              2                     0.0000     int64\n",
              "10  isFlaggedFraud              2                     0.0000     int64"
            ]
          },
          "execution_count": 678,
          "metadata": {},
          "output_type": "execute_result"
        }
      ],
      "source": [
        "Generated_Stats = stats_generate(df)\n",
        "Generated_Stats.head(50)"
      ]
    },
    {
      "cell_type": "code",
      "execution_count": 679,
      "metadata": {
        "colab": {
          "base_uri": "https://localhost:8080/",
          "height": 669
        },
        "id": "SEfOwq04XYR0",
        "outputId": "aa4f8b85-29cb-4529-8858-654dfd0b55f8"
      },
      "outputs": [
        {
          "name": "stdout",
          "output_type": "stream",
          "text": [
            "There are:\n",
            "11 columns without missing values\n",
            "0 columns with less than 10% of missing values\n",
            " 0 columns with missing values between 10% and 50%\n",
            " 0 columns with more than 50% of missing values\n"
          ]
        },
        {
          "data": {
            "image/png": "[encoded data removed]",
            "text/plain": [
              "<Figure size 800x800 with 1 Axes>"
            ]
          },
          "metadata": {},
          "output_type": "display_data"
        }
      ],
      "source": [
        "col= \"Percentage of NULL values\"\n",
        "analysis = (Generated_Stats[col] <= 10).sum()\n",
        "a = ((Generated_Stats[col]!=0) & (Generated_Stats[col]<=10)).sum()\n",
        "b = ((Generated_Stats[col]>10) & (Generated_Stats[col]<=50)).sum()\n",
        "c = (Generated_Stats[col]>50).sum()\n",
        "print(\"There are:\\n{} columns without missing values\\n{} columns with less than 10% of missing values\\n {} columns with missing values between 10% and 50%\\n {} columns with more than 50% of missing values\".format(analysis,a,b,c))\n",
        "\n",
        "labels =[\"No missing data\", \"Missing 0-10%\", \"Missing 10-50%\", \"Missing over 50% of data\"]\n",
        "fig1, ax1 = plt.subplots(figsize=(8,8))\n",
        "ax1.pie([analysis,a,b,c], autopct='%1.1f%%',labels=labels, textprops={'fontsize': 15})\n",
        "ax1.axis('equal')\n",
        "plt.show()"
      ]
    },
    {
      "cell_type": "code",
      "execution_count": 680,
      "metadata": {
        "colab": {
          "base_uri": "https://localhost:8080/",
          "height": 226
        },
        "id": "hFZO0FNVXYJO",
        "outputId": "abf74ae0-a7c0-48cf-a546-63b3bb1da8b8"
      },
      "outputs": [
        {
          "data": {
            "text/html": [
              "<div>\n",
              "<style scoped>\n",
              "    .dataframe tbody tr th:only-of-type {\n",
              "        vertical-align: middle;\n",
              "    }\n",
              "\n",
              "    .dataframe tbody tr th {\n",
              "        vertical-align: top;\n",
              "    }\n",
              "\n",
              "    .dataframe thead th {\n",
              "        text-align: right;\n",
              "    }\n",
              "</style>\n",
              "<table border=\"1\" class=\"dataframe\">\n",
              "  <thead>\n",
              "    <tr style=\"text-align: right;\">\n",
              "      <th></th>\n",
              "      <th>step</th>\n",
              "      <th>type</th>\n",
              "      <th>amount</th>\n",
              "      <th>nameOrig</th>\n",
              "      <th>oldbalanceOrg</th>\n",
              "      <th>newbalanceOrig</th>\n",
              "      <th>nameDest</th>\n",
              "      <th>oldbalanceDest</th>\n",
              "      <th>newbalanceDest</th>\n",
              "      <th>isFraud</th>\n",
              "      <th>isFlaggedFraud</th>\n",
              "    </tr>\n",
              "  </thead>\n",
              "  <tbody>\n",
              "    <tr>\n",
              "      <th>0</th>\n",
              "      <td>1</td>\n",
              "      <td>PAYMENT</td>\n",
              "      <td>9,839.6400</td>\n",
              "      <td>C1231006815</td>\n",
              "      <td>170,136.0000</td>\n",
              "      <td>160,296.3600</td>\n",
              "      <td>M1979787155</td>\n",
              "      <td>0.0000</td>\n",
              "      <td>0.0000</td>\n",
              "      <td>0</td>\n",
              "      <td>0</td>\n",
              "    </tr>\n",
              "    <tr>\n",
              "      <th>1</th>\n",
              "      <td>1</td>\n",
              "      <td>PAYMENT</td>\n",
              "      <td>1,864.2800</td>\n",
              "      <td>C1666544295</td>\n",
              "      <td>21,249.0000</td>\n",
              "      <td>19,384.7200</td>\n",
              "      <td>M2044282225</td>\n",
              "      <td>0.0000</td>\n",
              "      <td>0.0000</td>\n",
              "      <td>0</td>\n",
              "      <td>0</td>\n",
              "    </tr>\n",
              "    <tr>\n",
              "      <th>2</th>\n",
              "      <td>1</td>\n",
              "      <td>TRANSFER</td>\n",
              "      <td>181.0000</td>\n",
              "      <td>C1305486145</td>\n",
              "      <td>181.0000</td>\n",
              "      <td>0.0000</td>\n",
              "      <td>C553264065</td>\n",
              "      <td>0.0000</td>\n",
              "      <td>0.0000</td>\n",
              "      <td>1</td>\n",
              "      <td>0</td>\n",
              "    </tr>\n",
              "    <tr>\n",
              "      <th>3</th>\n",
              "      <td>1</td>\n",
              "      <td>CASH_OUT</td>\n",
              "      <td>181.0000</td>\n",
              "      <td>C840083671</td>\n",
              "      <td>181.0000</td>\n",
              "      <td>0.0000</td>\n",
              "      <td>C38997010</td>\n",
              "      <td>21,182.0000</td>\n",
              "      <td>0.0000</td>\n",
              "      <td>1</td>\n",
              "      <td>0</td>\n",
              "    </tr>\n",
              "    <tr>\n",
              "      <th>4</th>\n",
              "      <td>1</td>\n",
              "      <td>PAYMENT</td>\n",
              "      <td>11,668.1400</td>\n",
              "      <td>C2048537720</td>\n",
              "      <td>41,554.0000</td>\n",
              "      <td>29,885.8600</td>\n",
              "      <td>M1230701703</td>\n",
              "      <td>0.0000</td>\n",
              "      <td>0.0000</td>\n",
              "      <td>0</td>\n",
              "      <td>0</td>\n",
              "    </tr>\n",
              "  </tbody>\n",
              "</table>\n",
              "</div>"
            ],
            "text/plain": [
              "   step      type      amount     nameOrig  oldbalanceOrg  newbalanceOrig  \\\n",
              "0     1   PAYMENT  9,839.6400  C1231006815   170,136.0000    160,296.3600   \n",
              "1     1   PAYMENT  1,864.2800  C1666544295    21,249.0000     19,384.7200   \n",
              "2     1  TRANSFER    181.0000  C1305486145       181.0000          0.0000   \n",
              "3     1  CASH_OUT    181.0000   C840083671       181.0000          0.0000   \n",
              "4     1   PAYMENT 11,668.1400  C2048537720    41,554.0000     29,885.8600   \n",
              "\n",
              "      nameDest  oldbalanceDest  newbalanceDest  isFraud  isFlaggedFraud  \n",
              "0  M1979787155          0.0000          0.0000        0               0  \n",
              "1  M2044282225          0.0000          0.0000        0               0  \n",
              "2   C553264065          0.0000          0.0000        1               0  \n",
              "3    C38997010     21,182.0000          0.0000        1               0  \n",
              "4  M1230701703          0.0000          0.0000        0               0  "
            ]
          },
          "execution_count": 680,
          "metadata": {},
          "output_type": "execute_result"
        }
      ],
      "source": [
        "df.head()"
      ]
    },
    {
      "cell_type": "code",
      "execution_count": 681,
      "metadata": {
        "colab": {
          "base_uri": "https://localhost:8080/"
        },
        "id": "SiqssOsPXX_1",
        "outputId": "d1c33a61-b585-452c-88b2-0b91fa40de35"
      },
      "outputs": [
        {
          "data": {
            "text/plain": [
              "(6362620, 11)"
            ]
          },
          "execution_count": 681,
          "metadata": {},
          "output_type": "execute_result"
        }
      ],
      "source": [
        "df.shape"
      ]
    },
    {
      "cell_type": "code",
      "execution_count": 682,
      "metadata": {
        "colab": {
          "base_uri": "https://localhost:8080/",
          "height": 591
        },
        "id": "m59RpPf5XX8_",
        "outputId": "f7e7e76b-693e-4d4a-cd92-c637e0fc3079"
      },
      "outputs": [
        {
          "name": "stdout",
          "output_type": "stream",
          "text": [
            "--- type ---\n",
            "Unique values: ['PAYMENT' 'TRANSFER' 'CASH_OUT' 'DEBIT' 'CASH_IN']\n",
            "Null values: 0\n"
          ]
        },
        {
          "data": {
            "image/png": "[encoded data removed]",
            "text/plain": [
              "<Figure size 640x480 with 1 Axes>"
            ]
          },
          "metadata": {},
          "output_type": "display_data"
        }
      ],
      "source": [
        "Catergories(df,'type')"
      ]
    },
    {
      "cell_type": "code",
      "execution_count": 683,
      "metadata": {
        "colab": {
          "base_uri": "https://localhost:8080/",
          "height": 1000
        },
        "collapsed": true,
        "id": "oCHDQXWykxJ6",
        "outputId": "f0806f3f-9d0d-463d-ec89-f47b23fa91e9"
      },
      "outputs": [
        {
          "name": "stdout",
          "output_type": "stream",
          "text": [
            "--- step ---\n",
            "Unique values: [  1   2   3   4   5   6   7   8   9  10  11  12  13  14  15  16  17  18\n",
            "  19  20  21  22  23  24  25  26  27  28  29  30  31  32  33  34  35  36\n",
            "  37  38  39  40  41  42  43  44  45  46  47  48  49  50  51  52  53  54\n",
            "  55  56  57  58  59  60  61  62  63  64  65  66  67  68  69  70  71  72\n",
            "  73  74  75  76  77  78  79  80  81  82  83  84  85  86  87  88  89  90\n",
            "  91  92  93  94  95  96  97  98  99 100 101 102 103 104 105 106 107 108\n",
            " 109 110 111 112 113 114 115 116 117 118 119 120 121 122 123 124 125 126\n",
            " 127 128 129 130 131 132 133 134 135 136 137 138 139 140 141 142 143 144\n",
            " 145 146 147 148 149 150 151 152 153 154 155 156 157 158 159 160 161 162\n",
            " 163 164 165 166 167 168 169 170 171 172 173 174 175 176 177 178 179 180\n",
            " 181 182 183 184 185 186 187 188 189 190 191 192 193 194 195 196 197 198\n",
            " 199 200 201 202 203 204 205 206 207 208 209 210 211 212 213 214 215 216\n",
            " 217 218 219 220 221 222 223 224 225 226 227 228 229 230 231 232 233 234\n",
            " 235 236 237 238 239 240 241 242 243 244 245 246 247 248 249 250 251 252\n",
            " 253 254 255 256 257 258 259 260 261 262 263 264 265 266 267 268 269 270\n",
            " 271 272 273 274 275 276 277 278 279 280 281 282 283 284 285 286 287 288\n",
            " 289 290 291 292 293 294 295 296 297 298 299 300 301 302 303 304 305 306\n",
            " 307 308 309 310 311 312 313 314 315 316 317 318 319 320 321 322 323 324\n",
            " 325 326 327 328 329 330 331 332 333 334 335 336 337 338 339 340 341 342\n",
            " 343 344 345 346 347 348 349 350 351 352 353 354 355 356 357 358 359 360\n",
            " 361 362 363 364 365 366 367 368 369 370 371 372 373 374 375 376 377 378\n",
            " 379 380 381 382 383 384 385 386 387 388 389 390 391 392 393 394 395 396\n",
            " 397 398 399 400 401 402 403 404 405 406 407 408 409 410 411 412 413 414\n",
            " 415 416 417 418 419 420 421 422 423 424 425 426 427 428 429 430 431 432\n",
            " 433 434 435 436 437 438 439 440 441 442 443 444 445 446 447 448 449 450\n",
            " 451 452 453 454 455 456 457 458 459 460 461 462 463 464 465 466 467 468\n",
            " 469 470 471 472 473 474 475 476 477 478 479 480 481 482 483 484 485 486\n",
            " 487 488 489 490 491 492 493 494 495 496 497 498 499 500 501 502 503 504\n",
            " 505 506 507 508 509 510 511 512 513 514 515 516 517 518 519 520 521 522\n",
            " 523 524 525 526 527 528 529 530 531 532 533 534 535 536 537 538 539 540\n",
            " 541 542 543 544 545 546 547 548 549 550 551 552 553 554 555 556 557 558\n",
            " 559 560 561 562 563 564 565 566 567 568 569 570 571 572 573 574 575 576\n",
            " 577 578 579 580 581 582 583 584 585 586 587 588 589 590 591 592 593 594\n",
            " 595 596 597 598 599 600 601 602 603 604 605 606 607 608 609 610 611 612\n",
            " 613 614 615 616 617 618 619 620 621 622 623 624 625 626 627 628 629 630\n",
            " 631 632 633 634 635 636 637 638 639 640 641 642 643 644 645 646 647 648\n",
            " 649 650 651 652 653 654 655 656 657 658 659 660 661 662 663 664 665 666\n",
            " 667 668 669 670 671 672 673 674 675 676 677 678 679 680 681 682 683 684\n",
            " 685 686 687 688 689 690 691 692 693 694 695 696 697 698 699 700 701 702\n",
            " 703 704 705 706 707 708 709 710 711 712 713 714 715 716 717 718 719 720\n",
            " 721 722 723 724 725 726 727 728 729 730 731 732 733 734 735 736 737 738\n",
            " 739 740 741 742 743]\n",
            "Null values: 0\n"
          ]
        },
        {
          "data": {
            "image/png": "[encoded data removed]",
            "text/plain": [
              "<Figure size 640x480 with 1 Axes>"
            ]
          },
          "metadata": {},
          "output_type": "display_data"
        }
      ],
      "source": [
        "Catergories(df,'step')"
      ]
    },
    {
      "cell_type": "code",
      "execution_count": 684,
      "metadata": {
        "colab": {
          "base_uri": "https://localhost:8080/",
          "height": 525
        },
        "id": "AGhMF0L-mAKt",
        "outputId": "1103ae10-731a-4c0d-d8fb-6ac0c30b4438"
      },
      "outputs": [
        {
          "name": "stdout",
          "output_type": "stream",
          "text": [
            "--- isFraud ---\n",
            "Unique values: [0 1]\n",
            "Null values: 0\n"
          ]
        },
        {
          "data": {
            "image/png": "[encoded data removed]",
            "text/plain": [
              "<Figure size 640x480 with 1 Axes>"
            ]
          },
          "metadata": {},
          "output_type": "display_data"
        }
      ],
      "source": [
        "Catergories(df,'isFraud')"
      ]
    },
    {
      "cell_type": "code",
      "execution_count": 685,
      "metadata": {
        "colab": {
          "base_uri": "https://localhost:8080/",
          "height": 829
        },
        "id": "lRDhe1u-XX2v",
        "outputId": "2ce90172-cc7f-4e77-acb3-743c242d120f"
      },
      "outputs": [
        {
          "data": {
            "image/png": "[encoded data removed]",
            "text/plain": [
              "<Figure size 1000x1000 with 1 Axes>"
            ]
          },
          "metadata": {},
          "output_type": "display_data"
        }
      ],
      "source": [
        "col = 'type'\n",
        "df[col].value_counts().plot.pie(labels= df[col].unique() , labeldistance = 0.7,figsize=(10, 10))\n",
        "plt.title(col)\n",
        "plt.show()"
      ]
    },
    {
      "cell_type": "code",
      "execution_count": 686,
      "metadata": {
        "colab": {
          "base_uri": "https://localhost:8080/",
          "height": 226
        },
        "id": "TGMFB4g3XXz3",
        "outputId": "8cd396af-2ea0-4531-b5e4-f0f8d312dd9c"
      },
      "outputs": [
        {
          "data": {
            "text/html": [
              "<div>\n",
              "<style scoped>\n",
              "    .dataframe tbody tr th:only-of-type {\n",
              "        vertical-align: middle;\n",
              "    }\n",
              "\n",
              "    .dataframe tbody tr th {\n",
              "        vertical-align: top;\n",
              "    }\n",
              "\n",
              "    .dataframe thead th {\n",
              "        text-align: right;\n",
              "    }\n",
              "</style>\n",
              "<table border=\"1\" class=\"dataframe\">\n",
              "  <thead>\n",
              "    <tr style=\"text-align: right;\">\n",
              "      <th></th>\n",
              "      <th>step</th>\n",
              "      <th>type</th>\n",
              "      <th>amount</th>\n",
              "      <th>nameOrig</th>\n",
              "      <th>oldbalanceOrg</th>\n",
              "      <th>newbalanceOrig</th>\n",
              "      <th>nameDest</th>\n",
              "      <th>oldbalanceDest</th>\n",
              "      <th>newbalanceDest</th>\n",
              "      <th>isFraud</th>\n",
              "      <th>isFlaggedFraud</th>\n",
              "    </tr>\n",
              "  </thead>\n",
              "  <tbody>\n",
              "    <tr>\n",
              "      <th>0</th>\n",
              "      <td>1</td>\n",
              "      <td>PAYMENT</td>\n",
              "      <td>9,839.6400</td>\n",
              "      <td>C1231006815</td>\n",
              "      <td>170,136.0000</td>\n",
              "      <td>160,296.3600</td>\n",
              "      <td>M1979787155</td>\n",
              "      <td>0.0000</td>\n",
              "      <td>0.0000</td>\n",
              "      <td>0</td>\n",
              "      <td>0</td>\n",
              "    </tr>\n",
              "    <tr>\n",
              "      <th>1</th>\n",
              "      <td>1</td>\n",
              "      <td>PAYMENT</td>\n",
              "      <td>1,864.2800</td>\n",
              "      <td>C1666544295</td>\n",
              "      <td>21,249.0000</td>\n",
              "      <td>19,384.7200</td>\n",
              "      <td>M2044282225</td>\n",
              "      <td>0.0000</td>\n",
              "      <td>0.0000</td>\n",
              "      <td>0</td>\n",
              "      <td>0</td>\n",
              "    </tr>\n",
              "    <tr>\n",
              "      <th>2</th>\n",
              "      <td>1</td>\n",
              "      <td>TRANSFER</td>\n",
              "      <td>181.0000</td>\n",
              "      <td>C1305486145</td>\n",
              "      <td>181.0000</td>\n",
              "      <td>0.0000</td>\n",
              "      <td>C553264065</td>\n",
              "      <td>0.0000</td>\n",
              "      <td>0.0000</td>\n",
              "      <td>1</td>\n",
              "      <td>0</td>\n",
              "    </tr>\n",
              "    <tr>\n",
              "      <th>3</th>\n",
              "      <td>1</td>\n",
              "      <td>CASH_OUT</td>\n",
              "      <td>181.0000</td>\n",
              "      <td>C840083671</td>\n",
              "      <td>181.0000</td>\n",
              "      <td>0.0000</td>\n",
              "      <td>C38997010</td>\n",
              "      <td>21,182.0000</td>\n",
              "      <td>0.0000</td>\n",
              "      <td>1</td>\n",
              "      <td>0</td>\n",
              "    </tr>\n",
              "    <tr>\n",
              "      <th>4</th>\n",
              "      <td>1</td>\n",
              "      <td>PAYMENT</td>\n",
              "      <td>11,668.1400</td>\n",
              "      <td>C2048537720</td>\n",
              "      <td>41,554.0000</td>\n",
              "      <td>29,885.8600</td>\n",
              "      <td>M1230701703</td>\n",
              "      <td>0.0000</td>\n",
              "      <td>0.0000</td>\n",
              "      <td>0</td>\n",
              "      <td>0</td>\n",
              "    </tr>\n",
              "  </tbody>\n",
              "</table>\n",
              "</div>"
            ],
            "text/plain": [
              "   step      type      amount     nameOrig  oldbalanceOrg  newbalanceOrig  \\\n",
              "0     1   PAYMENT  9,839.6400  C1231006815   170,136.0000    160,296.3600   \n",
              "1     1   PAYMENT  1,864.2800  C1666544295    21,249.0000     19,384.7200   \n",
              "2     1  TRANSFER    181.0000  C1305486145       181.0000          0.0000   \n",
              "3     1  CASH_OUT    181.0000   C840083671       181.0000          0.0000   \n",
              "4     1   PAYMENT 11,668.1400  C2048537720    41,554.0000     29,885.8600   \n",
              "\n",
              "      nameDest  oldbalanceDest  newbalanceDest  isFraud  isFlaggedFraud  \n",
              "0  M1979787155          0.0000          0.0000        0               0  \n",
              "1  M2044282225          0.0000          0.0000        0               0  \n",
              "2   C553264065          0.0000          0.0000        1               0  \n",
              "3    C38997010     21,182.0000          0.0000        1               0  \n",
              "4  M1230701703          0.0000          0.0000        0               0  "
            ]
          },
          "execution_count": 686,
          "metadata": {},
          "output_type": "execute_result"
        }
      ],
      "source": [
        "df.head()"
      ]
    },
    {
      "cell_type": "code",
      "execution_count": 687,
      "metadata": {
        "id": "5V18SnKLXXo9"
      },
      "outputs": [],
      "source": [
        "def convertToCat(df,col):\n",
        "  df[col] = df[col].astype('category')\n",
        "  df[col]= df[col].cat.codes"
      ]
    },
    {
      "cell_type": "code",
      "execution_count": 688,
      "metadata": {
        "colab": {
          "base_uri": "https://localhost:8080/",
          "height": 226
        },
        "id": "V1d9_j0_XXlk",
        "outputId": "ca910907-a4fc-4f9c-eba5-5265bec9cd34"
      },
      "outputs": [
        {
          "data": {
            "text/html": [
              "<div>\n",
              "<style scoped>\n",
              "    .dataframe tbody tr th:only-of-type {\n",
              "        vertical-align: middle;\n",
              "    }\n",
              "\n",
              "    .dataframe tbody tr th {\n",
              "        vertical-align: top;\n",
              "    }\n",
              "\n",
              "    .dataframe thead th {\n",
              "        text-align: right;\n",
              "    }\n",
              "</style>\n",
              "<table border=\"1\" class=\"dataframe\">\n",
              "  <thead>\n",
              "    <tr style=\"text-align: right;\">\n",
              "      <th></th>\n",
              "      <th>step</th>\n",
              "      <th>type</th>\n",
              "      <th>amount</th>\n",
              "      <th>nameOrig</th>\n",
              "      <th>oldbalanceOrg</th>\n",
              "      <th>newbalanceOrig</th>\n",
              "      <th>nameDest</th>\n",
              "      <th>oldbalanceDest</th>\n",
              "      <th>newbalanceDest</th>\n",
              "      <th>isFraud</th>\n",
              "      <th>isFlaggedFraud</th>\n",
              "    </tr>\n",
              "  </thead>\n",
              "  <tbody>\n",
              "    <tr>\n",
              "      <th>0</th>\n",
              "      <td>1</td>\n",
              "      <td>3</td>\n",
              "      <td>9,839.6400</td>\n",
              "      <td>C1231006815</td>\n",
              "      <td>170,136.0000</td>\n",
              "      <td>160,296.3600</td>\n",
              "      <td>M1979787155</td>\n",
              "      <td>0.0000</td>\n",
              "      <td>0.0000</td>\n",
              "      <td>0</td>\n",
              "      <td>0</td>\n",
              "    </tr>\n",
              "    <tr>\n",
              "      <th>1</th>\n",
              "      <td>1</td>\n",
              "      <td>3</td>\n",
              "      <td>1,864.2800</td>\n",
              "      <td>C1666544295</td>\n",
              "      <td>21,249.0000</td>\n",
              "      <td>19,384.7200</td>\n",
              "      <td>M2044282225</td>\n",
              "      <td>0.0000</td>\n",
              "      <td>0.0000</td>\n",
              "      <td>0</td>\n",
              "      <td>0</td>\n",
              "    </tr>\n",
              "    <tr>\n",
              "      <th>2</th>\n",
              "      <td>1</td>\n",
              "      <td>4</td>\n",
              "      <td>181.0000</td>\n",
              "      <td>C1305486145</td>\n",
              "      <td>181.0000</td>\n",
              "      <td>0.0000</td>\n",
              "      <td>C553264065</td>\n",
              "      <td>0.0000</td>\n",
              "      <td>0.0000</td>\n",
              "      <td>1</td>\n",
              "      <td>0</td>\n",
              "    </tr>\n",
              "    <tr>\n",
              "      <th>3</th>\n",
              "      <td>1</td>\n",
              "      <td>1</td>\n",
              "      <td>181.0000</td>\n",
              "      <td>C840083671</td>\n",
              "      <td>181.0000</td>\n",
              "      <td>0.0000</td>\n",
              "      <td>C38997010</td>\n",
              "      <td>21,182.0000</td>\n",
              "      <td>0.0000</td>\n",
              "      <td>1</td>\n",
              "      <td>0</td>\n",
              "    </tr>\n",
              "    <tr>\n",
              "      <th>4</th>\n",
              "      <td>1</td>\n",
              "      <td>3</td>\n",
              "      <td>11,668.1400</td>\n",
              "      <td>C2048537720</td>\n",
              "      <td>41,554.0000</td>\n",
              "      <td>29,885.8600</td>\n",
              "      <td>M1230701703</td>\n",
              "      <td>0.0000</td>\n",
              "      <td>0.0000</td>\n",
              "      <td>0</td>\n",
              "      <td>0</td>\n",
              "    </tr>\n",
              "  </tbody>\n",
              "</table>\n",
              "</div>"
            ],
            "text/plain": [
              "   step  type      amount     nameOrig  oldbalanceOrg  newbalanceOrig  \\\n",
              "0     1     3  9,839.6400  C1231006815   170,136.0000    160,296.3600   \n",
              "1     1     3  1,864.2800  C1666544295    21,249.0000     19,384.7200   \n",
              "2     1     4    181.0000  C1305486145       181.0000          0.0000   \n",
              "3     1     1    181.0000   C840083671       181.0000          0.0000   \n",
              "4     1     3 11,668.1400  C2048537720    41,554.0000     29,885.8600   \n",
              "\n",
              "      nameDest  oldbalanceDest  newbalanceDest  isFraud  isFlaggedFraud  \n",
              "0  M1979787155          0.0000          0.0000        0               0  \n",
              "1  M2044282225          0.0000          0.0000        0               0  \n",
              "2   C553264065          0.0000          0.0000        1               0  \n",
              "3    C38997010     21,182.0000          0.0000        1               0  \n",
              "4  M1230701703          0.0000          0.0000        0               0  "
            ]
          },
          "execution_count": 688,
          "metadata": {},
          "output_type": "execute_result"
        }
      ],
      "source": [
        "categorical_Col= ['type']\n",
        "for i in categorical_Col:\n",
        "  convertToCat(df,i)\n",
        "\n",
        "df.head()"
      ]
    },
    {
      "cell_type": "code",
      "execution_count": 689,
      "metadata": {
        "colab": {
          "base_uri": "https://localhost:8080/"
        },
        "id": "3QVaNaj7XXgE",
        "outputId": "c90ee1a7-c4d0-4383-f719-d54a832eb6b9"
      },
      "outputs": [
        {
          "data": {
            "text/plain": [
              "(6362620, 11)"
            ]
          },
          "execution_count": 689,
          "metadata": {},
          "output_type": "execute_result"
        }
      ],
      "source": [
        "df.shape"
      ]
    },
    {
      "cell_type": "code",
      "execution_count": 690,
      "metadata": {
        "id": "KUue6r0xXXdN"
      },
      "outputs": [],
      "source": [
        "def correlation(col1,col2,col3):\n",
        "  sns.heatmap(df[[col1,col2,col3]].corr(method ='pearson'), cmap='RdBu_r', annot=True, center=0.5, vmin =0, vmax=1)\n",
        "  plt.title('Correlation between' +' '+col1+ '~'+' '+ col2 +'columns\\n')\n",
        "  plt.show()"
      ]
    },
    {
      "cell_type": "code",
      "execution_count": 691,
      "metadata": {
        "id": "UvASJ784vTpE"
      },
      "outputs": [],
      "source": [
        "def correlation2(col1,col2):\n",
        "  sns.heatmap(df[[col1,col2]].corr(method ='pearson'), cmap='RdBu_r', annot=True, center=0.5, vmin =0, vmax=1)\n",
        "  plt.title('Correlation between' +' '+col1+ '~'+' '+ col2 +'columns\\n')\n",
        "  plt.show()"
      ]
    },
    {
      "cell_type": "code",
      "execution_count": 692,
      "metadata": {
        "id": "TscSz4K7ve1e"
      },
      "outputs": [],
      "source": [
        "def correlation3(col1,col2,col3, col4):\n",
        "  sns.heatmap(df[[col1,col2,col3, col4]].corr(method ='pearson'), cmap='RdBu_r', annot=True, center=0.5, vmin =0, vmax=1)\n",
        "  plt.title('Correlation between' +' '+col1+ '~'+' '+ col2 +'columns\\n')\n",
        "  plt.show()"
      ]
    },
    {
      "cell_type": "code",
      "execution_count": 693,
      "metadata": {
        "colab": {
          "base_uri": "https://localhost:8080/",
          "height": 226
        },
        "id": "sZDsYytVW1iG",
        "outputId": "56fbbfaa-fb63-42db-eb1c-8a5a39512c6b"
      },
      "outputs": [
        {
          "data": {
            "text/html": [
              "<div>\n",
              "<style scoped>\n",
              "    .dataframe tbody tr th:only-of-type {\n",
              "        vertical-align: middle;\n",
              "    }\n",
              "\n",
              "    .dataframe tbody tr th {\n",
              "        vertical-align: top;\n",
              "    }\n",
              "\n",
              "    .dataframe thead th {\n",
              "        text-align: right;\n",
              "    }\n",
              "</style>\n",
              "<table border=\"1\" class=\"dataframe\">\n",
              "  <thead>\n",
              "    <tr style=\"text-align: right;\">\n",
              "      <th></th>\n",
              "      <th>step</th>\n",
              "      <th>type</th>\n",
              "      <th>amount</th>\n",
              "      <th>oldbalanceOrg</th>\n",
              "      <th>newbalanceOrig</th>\n",
              "      <th>oldbalanceDest</th>\n",
              "      <th>newbalanceDest</th>\n",
              "      <th>isFraud</th>\n",
              "      <th>isFlaggedFraud</th>\n",
              "    </tr>\n",
              "  </thead>\n",
              "  <tbody>\n",
              "    <tr>\n",
              "      <th>0</th>\n",
              "      <td>1</td>\n",
              "      <td>3</td>\n",
              "      <td>9,839.6400</td>\n",
              "      <td>170,136.0000</td>\n",
              "      <td>160,296.3600</td>\n",
              "      <td>0.0000</td>\n",
              "      <td>0.0000</td>\n",
              "      <td>0</td>\n",
              "      <td>0</td>\n",
              "    </tr>\n",
              "    <tr>\n",
              "      <th>1</th>\n",
              "      <td>1</td>\n",
              "      <td>3</td>\n",
              "      <td>1,864.2800</td>\n",
              "      <td>21,249.0000</td>\n",
              "      <td>19,384.7200</td>\n",
              "      <td>0.0000</td>\n",
              "      <td>0.0000</td>\n",
              "      <td>0</td>\n",
              "      <td>0</td>\n",
              "    </tr>\n",
              "    <tr>\n",
              "      <th>2</th>\n",
              "      <td>1</td>\n",
              "      <td>4</td>\n",
              "      <td>181.0000</td>\n",
              "      <td>181.0000</td>\n",
              "      <td>0.0000</td>\n",
              "      <td>0.0000</td>\n",
              "      <td>0.0000</td>\n",
              "      <td>1</td>\n",
              "      <td>0</td>\n",
              "    </tr>\n",
              "    <tr>\n",
              "      <th>3</th>\n",
              "      <td>1</td>\n",
              "      <td>1</td>\n",
              "      <td>181.0000</td>\n",
              "      <td>181.0000</td>\n",
              "      <td>0.0000</td>\n",
              "      <td>21,182.0000</td>\n",
              "      <td>0.0000</td>\n",
              "      <td>1</td>\n",
              "      <td>0</td>\n",
              "    </tr>\n",
              "    <tr>\n",
              "      <th>4</th>\n",
              "      <td>1</td>\n",
              "      <td>3</td>\n",
              "      <td>11,668.1400</td>\n",
              "      <td>41,554.0000</td>\n",
              "      <td>29,885.8600</td>\n",
              "      <td>0.0000</td>\n",
              "      <td>0.0000</td>\n",
              "      <td>0</td>\n",
              "      <td>0</td>\n",
              "    </tr>\n",
              "  </tbody>\n",
              "</table>\n",
              "</div>"
            ],
            "text/plain": [
              "   step  type      amount  oldbalanceOrg  newbalanceOrig  oldbalanceDest  \\\n",
              "0     1     3  9,839.6400   170,136.0000    160,296.3600          0.0000   \n",
              "1     1     3  1,864.2800    21,249.0000     19,384.7200          0.0000   \n",
              "2     1     4    181.0000       181.0000          0.0000          0.0000   \n",
              "3     1     1    181.0000       181.0000          0.0000     21,182.0000   \n",
              "4     1     3 11,668.1400    41,554.0000     29,885.8600          0.0000   \n",
              "\n",
              "   newbalanceDest  isFraud  isFlaggedFraud  \n",
              "0          0.0000        0               0  \n",
              "1          0.0000        0               0  \n",
              "2          0.0000        1               0  \n",
              "3          0.0000        1               0  \n",
              "4          0.0000        0               0  "
            ]
          },
          "execution_count": 693,
          "metadata": {},
          "output_type": "execute_result"
        }
      ],
      "source": [
        "df.drop(columns=[\"nameOrig\", \"nameDest\"], inplace=True)\n",
        "df.head()"
      ]
    },
    {
      "cell_type": "code",
      "execution_count": 694,
      "metadata": {
        "id": "ECm10sjAW1ee"
      },
      "outputs": [],
      "source": [
        "def get_skewwed_dataframe(df):\n",
        "    pd.options.display.float_format = '{:,.4f}'.format\n",
        "    sk_df = pd.DataFrame([{'column': c,\n",
        "                          'uniq': df[c].nunique(),\n",
        "                          'skewness': df[c].value_counts(normalize=True).values[0] * 100\n",
        "                          } for c in df.columns])\n",
        "    sk_df = sk_df.sort_values('skewness', ascending=False)\n",
        "    return sk_df"
      ]
    },
    {
      "cell_type": "code",
      "execution_count": 695,
      "metadata": {
        "id": "sJHMAuixW1YO"
      },
      "outputs": [],
      "source": [
        "_skewwed_data = get_skewwed_dataframe(df)"
      ]
    },
    {
      "cell_type": "code",
      "execution_count": 696,
      "metadata": {
        "colab": {
          "base_uri": "https://localhost:8080/",
          "height": 394
        },
        "id": "qvCISu4CW1P4",
        "outputId": "1830b3a3-161a-4d3f-e165-564cb94cf62b"
      },
      "outputs": [
        {
          "data": {
            "text/html": [
              "<div>\n",
              "<style scoped>\n",
              "    .dataframe tbody tr th:only-of-type {\n",
              "        vertical-align: middle;\n",
              "    }\n",
              "\n",
              "    .dataframe tbody tr th {\n",
              "        vertical-align: top;\n",
              "    }\n",
              "\n",
              "    .dataframe thead th {\n",
              "        text-align: right;\n",
              "    }\n",
              "</style>\n",
              "<table border=\"1\" class=\"dataframe\">\n",
              "  <thead>\n",
              "    <tr style=\"text-align: right;\">\n",
              "      <th></th>\n",
              "      <th>column</th>\n",
              "      <th>uniq</th>\n",
              "      <th>skewness</th>\n",
              "    </tr>\n",
              "  </thead>\n",
              "  <tbody>\n",
              "    <tr>\n",
              "      <th>8</th>\n",
              "      <td>isFlaggedFraud</td>\n",
              "      <td>2</td>\n",
              "      <td>99.9997</td>\n",
              "    </tr>\n",
              "    <tr>\n",
              "      <th>7</th>\n",
              "      <td>isFraud</td>\n",
              "      <td>2</td>\n",
              "      <td>99.8709</td>\n",
              "    </tr>\n",
              "    <tr>\n",
              "      <th>4</th>\n",
              "      <td>newbalanceOrig</td>\n",
              "      <td>2682586</td>\n",
              "      <td>56.7308</td>\n",
              "    </tr>\n",
              "    <tr>\n",
              "      <th>5</th>\n",
              "      <td>oldbalanceDest</td>\n",
              "      <td>3614697</td>\n",
              "      <td>42.5043</td>\n",
              "    </tr>\n",
              "    <tr>\n",
              "      <th>6</th>\n",
              "      <td>newbalanceDest</td>\n",
              "      <td>3555499</td>\n",
              "      <td>38.3401</td>\n",
              "    </tr>\n",
              "    <tr>\n",
              "      <th>1</th>\n",
              "      <td>type</td>\n",
              "      <td>5</td>\n",
              "      <td>35.1663</td>\n",
              "    </tr>\n",
              "    <tr>\n",
              "      <th>3</th>\n",
              "      <td>oldbalanceOrg</td>\n",
              "      <td>1845844</td>\n",
              "      <td>33.0438</td>\n",
              "    </tr>\n",
              "    <tr>\n",
              "      <th>0</th>\n",
              "      <td>step</td>\n",
              "      <td>743</td>\n",
              "      <td>0.8071</td>\n",
              "    </tr>\n",
              "    <tr>\n",
              "      <th>2</th>\n",
              "      <td>amount</td>\n",
              "      <td>5316900</td>\n",
              "      <td>0.0504</td>\n",
              "    </tr>\n",
              "  </tbody>\n",
              "</table>\n",
              "</div>"
            ],
            "text/plain": [
              "           column     uniq  skewness\n",
              "8  isFlaggedFraud        2   99.9997\n",
              "7         isFraud        2   99.8709\n",
              "4  newbalanceOrig  2682586   56.7308\n",
              "5  oldbalanceDest  3614697   42.5043\n",
              "6  newbalanceDest  3555499   38.3401\n",
              "1            type        5   35.1663\n",
              "3   oldbalanceOrg  1845844   33.0438\n",
              "0            step      743    0.8071\n",
              "2          amount  5316900    0.0504"
            ]
          },
          "execution_count": 696,
          "metadata": {},
          "output_type": "execute_result"
        }
      ],
      "source": [
        "_skewwed_data.head(11)"
      ]
    },
    {
      "cell_type": "code",
      "execution_count": 697,
      "metadata": {
        "colab": {
          "base_uri": "https://localhost:8080/"
        },
        "id": "ZYIVywNFX_3R",
        "outputId": "4fd9b79e-2119-40c0-efea-13861fbf8a23"
      },
      "outputs": [
        {
          "name": "stdout",
          "output_type": "stream",
          "text": [
            "🔍 Class Distribution:\n",
            "isFraud\n",
            "0   0.9987\n",
            "1   0.0013\n",
            "Name: proportion, dtype: float64\n"
          ]
        }
      ],
      "source": [
        "# Fill nulls if any\n",
        "df_model = df.fillna(0)\n",
        "\n",
        "# 🎯 Features & Target\n",
        "target = 'isFraud'\n",
        "features = [col for col in df_model.columns if col != target]\n",
        "\n",
        "X = df_model[features]\n",
        "y = df_model[target]\n",
        "\n",
        "# 🧪 Train-Test Split\n",
        "X_train, X_test, y_train, y_test = train_test_split(\n",
        "    X, y, test_size=0.2, stratify=y, random_state=42)\n",
        "\n",
        "# 📊 Class Ratio Check\n",
        "print(\"🔍 Class Distribution:\")\n",
        "print(y.value_counts(normalize=True))"
      ]
    },
    {
      "cell_type": "code",
      "execution_count": 698,
      "metadata": {
        "id": "72n0Vx9baM5q"
      },
      "outputs": [],
      "source": [
        "# 🧠 Custom F1 scorer\n",
        "f1_scorer = make_scorer(f1_score)\n",
        "\n",
        "# Initialize list to store all results\n",
        "all_results = []"
      ]
    },
    {
      "cell_type": "markdown",
      "metadata": {},
      "source": [
        "# Model Training & Hypertuning Function"
      ]
    },
    {
      "cell_type": "code",
      "execution_count": 699,
      "metadata": {},
      "outputs": [],
      "source": [
        "# # =============================================================================\n",
        "# # Model Training Functions with Persistence | GridSearchCV\n",
        "# # =============================================================================\n",
        "# def train_or_load_model(model_name, model, params, X_train, y_train, X_test, y_test):\n",
        "#     \"\"\"Train or load a model with persistence\"\"\"\n",
        "#     model_path = os.path.join(MODEL_DIR, f\"{model_name}.joblib\")\n",
        "    \n",
        "#     if os.path.exists(model_path):\n",
        "#         print(f\"⏩ Loading pre-trained {model_name} model...\")\n",
        "#         model = joblib.load(model_path)\n",
        "#         best_params = \"Loaded from file\"\n",
        "#     else:\n",
        "#         if params is None:\n",
        "#             print(f\"🛠️ Training {model_name} without GridSearchCV...\")\n",
        "#             model.fit(X_train, y_train)\n",
        "#             best_params = \"Default Params\"\n",
        "#         else:\n",
        "#             print(f\"🔍 Training {model_name} with GridSearchCV...\")\n",
        "#             grid = GridSearchCV(\n",
        "#                 model,\n",
        "#                 params,\n",
        "#                 scoring=f1_scorer,\n",
        "#                 cv=3,\n",
        "#                 n_jobs=1,\n",
        "#                 verbose=0\n",
        "#             )\n",
        "#             grid.fit(X_train, y_train)\n",
        "#             model = grid.best_estimator_\n",
        "#             best_params = grid.best_params_\n",
        "            \n",
        "#         joblib.dump(model, model_path)\n",
        "#         print(f\"💾 Saved {model_name} model\")\n",
        "    \n",
        "#     # Evaluate\n",
        "#     y_pred = model.predict(X_test)\n",
        "#     y_proba = model.predict_proba(X_test)[:, 1] if hasattr(model, \"predict_proba\") else None\n",
        "    \n",
        "#     results = {\n",
        "#         \"Model\": model_name,\n",
        "#         \"F1 Score\": round(f1_score(y_test, y_pred), 4),\n",
        "#         \"ROC-AUC\": round(roc_auc_score(y_test, y_proba), 4) if y_proba is not None else \"N/A\",\n",
        "#         \"Best Params\": best_params,\n",
        "#         \"Trained Model\": model\n",
        "#     }\n",
        "    \n",
        "#     all_results.append(results)\n",
        "#     display(pd.DataFrame([results]))\n",
        "    \n",
        "#     return model"
      ]
    },
    {
      "cell_type": "code",
      "execution_count": 700,
      "metadata": {},
      "outputs": [],
      "source": [
        "# --- Define manual CV tuning function ---\n",
        "def manual_cv_search_and_save(model_name, model_class, param_grid, X_train, y_train, X_test, y_test):\n",
        "    \"\"\"Manually loop through hyperparameter combinations, use CV to find best, and save.\"\"\"\n",
        "    model_path = os.path.join(MODEL_DIR, f\"{model_name}.joblib\")\n",
        "\n",
        "    if os.path.exists(model_path):\n",
        "        print(f\"⏩ Loading pre-trained {model_name} model...\")\n",
        "        best_model = joblib.load(model_path)\n",
        "    else:\n",
        "        print(f\"🔍 Performing manual CV for {model_name} with parameter combinations...\")\n",
        "        best_score = -1\n",
        "        best_params = None\n",
        "        best_model = None\n",
        "\n",
        "        for params in ParameterGrid(param_grid):\n",
        "            model = model_class(**params)\n",
        "            cv_scores = cross_val_score(model, X_train, y_train, scoring=f1_scorer, cv=5)\n",
        "            avg_score = cv_scores.mean()\n",
        "            print(f\"Params: {params} → Avg F1: {avg_score:.4f}\")\n",
        "            if avg_score > best_score:\n",
        "                best_score = avg_score\n",
        "                best_params = params\n",
        "\n",
        "        print(f\"✅ Best params: {best_params} with F1: {best_score:.4f}\")\n",
        "        best_model = model_class(**best_params)\n",
        "        best_model.fit(X_train, y_train)\n",
        "        joblib.dump(best_model, model_path)\n",
        "        print(f\"💾 Saved {model_name} model\")\n",
        "\n",
        "    # Evaluate\n",
        "    y_pred = best_model.predict(X_test)\n",
        "    y_proba = best_model.predict_proba(X_test)[:, 1] if hasattr(best_model, \"predict_proba\") else None\n",
        "\n",
        "    results = {\n",
        "        \"Model\": model_name,\n",
        "        \"F1 Score\": round(f1_score(y_test, y_pred), 4),\n",
        "        \"ROC-AUC\": round(roc_auc_score(y_test, y_proba), 4) if y_proba is not None else \"N/A\",\n",
        "        \"Best Params\": best_model.get_params(),\n",
        "        \"Trained Model\": best_model\n",
        "    }\n",
        "    all_results.append(results)\n",
        "    display(pd.DataFrame([results]))\n",
        "    return best_model"
      ]
    },
    {
      "cell_type": "markdown",
      "metadata": {},
      "source": [
        "# Model: XGBoost"
      ]
    },
    {
      "cell_type": "code",
      "execution_count": 701,
      "metadata": {
        "colab": {
          "base_uri": "https://localhost:8080/"
        },
        "id": "GEyTrGwl9ucM",
        "outputId": "a94c7abc-7304-4655-eecf-388f46f2a10d"
      },
      "outputs": [
        {
          "name": "stdout",
          "output_type": "stream",
          "text": [
            "\n",
            "================================================================================\n",
            "🚀 XGBoost Evaluation\n",
            "================================================================================\n",
            "⏩ Loading pre-trained XGBoost_ManualCV model...\n"
          ]
        },
        {
          "data": {
            "text/html": [
              "<div>\n",
              "<style scoped>\n",
              "    .dataframe tbody tr th:only-of-type {\n",
              "        vertical-align: middle;\n",
              "    }\n",
              "\n",
              "    .dataframe tbody tr th {\n",
              "        vertical-align: top;\n",
              "    }\n",
              "\n",
              "    .dataframe thead th {\n",
              "        text-align: right;\n",
              "    }\n",
              "</style>\n",
              "<table border=\"1\" class=\"dataframe\">\n",
              "  <thead>\n",
              "    <tr style=\"text-align: right;\">\n",
              "      <th></th>\n",
              "      <th>Model</th>\n",
              "      <th>F1 Score</th>\n",
              "      <th>ROC-AUC</th>\n",
              "      <th>Best Params</th>\n",
              "      <th>Trained Model</th>\n",
              "    </tr>\n",
              "  </thead>\n",
              "  <tbody>\n",
              "    <tr>\n",
              "      <th>0</th>\n",
              "      <td>XGBoost_ManualCV</td>\n",
              "      <td>0.8984</td>\n",
              "      <td>0.9995</td>\n",
              "      <td>{'objective': 'binary:logistic', 'base_score':...</td>\n",
              "      <td>XGBClassifier(base_score=None, booster=None, c...</td>\n",
              "    </tr>\n",
              "  </tbody>\n",
              "</table>\n",
              "</div>"
            ],
            "text/plain": [
              "              Model  F1 Score  ROC-AUC  \\\n",
              "0  XGBoost_ManualCV    0.8984   0.9995   \n",
              "\n",
              "                                         Best Params  \\\n",
              "0  {'objective': 'binary:logistic', 'base_score':...   \n",
              "\n",
              "                                       Trained Model  \n",
              "0  XGBClassifier(base_score=None, booster=None, c...  "
            ]
          },
          "metadata": {},
          "output_type": "display_data"
        }
      ],
      "source": [
        "# =============================================================================\n",
        "# XGBoost Model\n",
        "# =============================================================================\n",
        "print(\"\\n\" + \"=\"*80)\n",
        "print(\"🚀 XGBoost Evaluation\")\n",
        "print(\"=\"*80)\n",
        "\n",
        "# =============================================================================\n",
        "# GridSearchCV\n",
        "# =============================================================================\n",
        "\n",
        "\n",
        "# model_XGBoost = {\n",
        "#     \"model\": XGBClassifier(eval_metric='logloss', random_state=42),\n",
        "#     \"params\": {\n",
        "#         \"n_estimators\": [100, 500],\n",
        "#         \"learning_rate\": [0.01, 0.3],\n",
        "#         \"max_depth\": [3, 10],\n",
        "#         \"subsample\": [0.5, 1.0],\n",
        "#         \"colsample_bytree\": [0.5, 1.0],\n",
        "#         \"scale_pos_weight\": [1, 100]\n",
        "#     }\n",
        "# }\n",
        "\n",
        "# xgb_model = train_or_load_model(\n",
        "#     \"XGBoost\",\n",
        "#     model_XGBoost[\"model\"],\n",
        "#     model_XGBoost[\"params\"],\n",
        "#     X_train, y_train, X_test, y_test\n",
        "# )\n",
        "\n",
        "\n",
        "# =============================================================================\n",
        "# Only CV with Hyper paramount\n",
        "# =============================================================================\n",
        "\n",
        "\n",
        "xgb_clf = XGBClassifier(eval_metric='logloss', random_state=42)\n",
        "\n",
        "param_grid_xgb = {\n",
        "    \"n_estimators\": [100, 500],\n",
        "    \"learning_rate\": [0.01, 0.3],\n",
        "    \"max_depth\": [3, 10],\n",
        "    \"subsample\": [0.5, 1.0],\n",
        "    \"colsample_bytree\": [0.5, 1.0],\n",
        "    \"scale_pos_weight\": [1, 100]\n",
        "}\n",
        "\n",
        "xgb_model_manual = manual_cv_search_and_save(\n",
        "    \"XGBoost_ManualCV\", \n",
        "    xgb_clf.__class__, \n",
        "    param_grid_xgb, \n",
        "    X_train, y_train, X_test, y_test\n",
        ")\n"
      ]
    },
    {
      "cell_type": "markdown",
      "metadata": {},
      "source": [
        "# Model: CatBoost"
      ]
    },
    {
      "cell_type": "code",
      "execution_count": 702,
      "metadata": {},
      "outputs": [
        {
          "name": "stdout",
          "output_type": "stream",
          "text": [
            "⏩ Loading pre-trained CatBoost_ManualCV model...\n"
          ]
        },
        {
          "data": {
            "text/html": [
              "<div>\n",
              "<style scoped>\n",
              "    .dataframe tbody tr th:only-of-type {\n",
              "        vertical-align: middle;\n",
              "    }\n",
              "\n",
              "    .dataframe tbody tr th {\n",
              "        vertical-align: top;\n",
              "    }\n",
              "\n",
              "    .dataframe thead th {\n",
              "        text-align: right;\n",
              "    }\n",
              "</style>\n",
              "<table border=\"1\" class=\"dataframe\">\n",
              "  <thead>\n",
              "    <tr style=\"text-align: right;\">\n",
              "      <th></th>\n",
              "      <th>Model</th>\n",
              "      <th>F1 Score</th>\n",
              "      <th>ROC-AUC</th>\n",
              "      <th>Best Params</th>\n",
              "      <th>Trained Model</th>\n",
              "    </tr>\n",
              "  </thead>\n",
              "  <tbody>\n",
              "    <tr>\n",
              "      <th>0</th>\n",
              "      <td>CatBoost_ManualCV</td>\n",
              "      <td>0.9021</td>\n",
              "      <td>0.9998</td>\n",
              "      <td>{'iterations': 300, 'learning_rate': 0.1, 'dep...</td>\n",
              "      <td>&lt;catboost.core.CatBoostClassifier object at 0x...</td>\n",
              "    </tr>\n",
              "  </tbody>\n",
              "</table>\n",
              "</div>"
            ],
            "text/plain": [
              "               Model  F1 Score  ROC-AUC  \\\n",
              "0  CatBoost_ManualCV    0.9021   0.9998   \n",
              "\n",
              "                                         Best Params  \\\n",
              "0  {'iterations': 300, 'learning_rate': 0.1, 'dep...   \n",
              "\n",
              "                                       Trained Model  \n",
              "0  <catboost.core.CatBoostClassifier object at 0x...  "
            ]
          },
          "metadata": {},
          "output_type": "display_data"
        }
      ],
      "source": [
        "# =============================================================================\n",
        "# CatBoost Model\n",
        "# =============================================================================\n",
        "\n",
        "# =============================================================================\n",
        "# Only CV with Hyper paramount\n",
        "# =============================================================================\n",
        "\n",
        "\n",
        "cat_clf = CatBoostClassifier(verbose=0, random_state=42)\n",
        "\n",
        "param_grid_cat = {\n",
        "    \"iterations\": [100, 300],\n",
        "    \"learning_rate\": [0.01, 0.1],\n",
        "    \"depth\": [6, 10],\n",
        "    \"l2_leaf_reg\": [1, 3]\n",
        "}\n",
        "\n",
        "cat_model_manual = manual_cv_search_and_save(\n",
        "    \"CatBoost_ManualCV\", \n",
        "    cat_clf.__class__, \n",
        "    param_grid_cat, \n",
        "    X_train, y_train, X_test, y_test\n",
        ")"
      ]
    },
    {
      "cell_type": "markdown",
      "metadata": {},
      "source": [
        "# Model: Light GBM"
      ]
    },
    {
      "cell_type": "code",
      "execution_count": 703,
      "metadata": {},
      "outputs": [
        {
          "name": "stdout",
          "output_type": "stream",
          "text": [
            "\n",
            "================================================================================\n",
            "🚀 LightGBM Evaluation\n",
            "================================================================================\n",
            "⏩ Loading pre-trained LightGBM_ManualCV model...\n"
          ]
        },
        {
          "data": {
            "text/html": [
              "<div>\n",
              "<style scoped>\n",
              "    .dataframe tbody tr th:only-of-type {\n",
              "        vertical-align: middle;\n",
              "    }\n",
              "\n",
              "    .dataframe tbody tr th {\n",
              "        vertical-align: top;\n",
              "    }\n",
              "\n",
              "    .dataframe thead th {\n",
              "        text-align: right;\n",
              "    }\n",
              "</style>\n",
              "<table border=\"1\" class=\"dataframe\">\n",
              "  <thead>\n",
              "    <tr style=\"text-align: right;\">\n",
              "      <th></th>\n",
              "      <th>Model</th>\n",
              "      <th>F1 Score</th>\n",
              "      <th>ROC-AUC</th>\n",
              "      <th>Best Params</th>\n",
              "      <th>Trained Model</th>\n",
              "    </tr>\n",
              "  </thead>\n",
              "  <tbody>\n",
              "    <tr>\n",
              "      <th>0</th>\n",
              "      <td>LightGBM_ManualCV</td>\n",
              "      <td>0.5523</td>\n",
              "      <td>0.9228</td>\n",
              "      <td>{'boosting_type': 'gbdt', 'class_weight': None...</td>\n",
              "      <td>LGBMClassifier(colsample_bytree=0.6, learning_...</td>\n",
              "    </tr>\n",
              "  </tbody>\n",
              "</table>\n",
              "</div>"
            ],
            "text/plain": [
              "               Model  F1 Score  ROC-AUC  \\\n",
              "0  LightGBM_ManualCV    0.5523   0.9228   \n",
              "\n",
              "                                         Best Params  \\\n",
              "0  {'boosting_type': 'gbdt', 'class_weight': None...   \n",
              "\n",
              "                                       Trained Model  \n",
              "0  LGBMClassifier(colsample_bytree=0.6, learning_...  "
            ]
          },
          "metadata": {},
          "output_type": "display_data"
        }
      ],
      "source": [
        "# =============================================================================\n",
        "# LightGBM Model\n",
        "# =============================================================================\n",
        "print(\"\\n\" + \"=\"*80)\n",
        "print(\"🚀 LightGBM Evaluation\")\n",
        "print(\"=\"*80)\n",
        "\n",
        "# =============================================================================\n",
        "# GridSearchCV\n",
        "# =============================================================================\n",
        "\n",
        "\n",
        "# model_LightGBM = {\n",
        "#     \"model\": LGBMClassifier(random_state=42),\n",
        "#     \"params\": {\n",
        "#         \"n_estimators\": [100, 500],\n",
        "#         \"learning_rate\": [0.01, 0.3],\n",
        "#         \"max_depth\": [3, 10],\n",
        "#         \"subsample\": [0.5, 1.0],\n",
        "#         \"colsample_bytree\": [0.5, 1.0],\n",
        "#         \"scale_pos_weight\": [1, 100]\n",
        "#     }\n",
        "# }\n",
        "\n",
        "# lgbm_model = train_or_load_model(\n",
        "#     \"LightGBM\",\n",
        "#     model_LightGBM[\"model\"],\n",
        "#     model_LightGBM[\"params\"],\n",
        "#     X_train, y_train, X_test, y_test\n",
        "# )\n",
        "\n",
        "\n",
        "# =============================================================================\n",
        "# Only CV with Hyper paramount\n",
        "# =============================================================================\n",
        "\n",
        "\n",
        "lgbm_clf = LGBMClassifier(random_state=42)\n",
        "\n",
        "param_grid_lgbm = {\n",
        "    \"n_estimators\": [100, 300],\n",
        "    \"learning_rate\": [0.05, 0.1],\n",
        "    \"max_depth\": [-1, 10],\n",
        "    \"subsample\": [0.6, 1.0],\n",
        "    \"colsample_bytree\": [0.6, 1.0]\n",
        "}\n",
        "\n",
        "lgbm_model_manual = manual_cv_search_and_save(\n",
        "    \"LightGBM_ManualCV\", \n",
        "    lgbm_clf.__class__, \n",
        "    param_grid_lgbm, \n",
        "    X_train, y_train, X_test, y_test\n",
        ")\n"
      ]
    },
    {
      "cell_type": "markdown",
      "metadata": {},
      "source": [
        "# Model: RandomForest"
      ]
    },
    {
      "cell_type": "code",
      "execution_count": 704,
      "metadata": {
        "id": "lQrQkrOx94zU"
      },
      "outputs": [
        {
          "name": "stdout",
          "output_type": "stream",
          "text": [
            "\n",
            "================================================================================\n",
            "🚀 RandomForest Evaluation\n",
            "================================================================================\n",
            "⏩ Loading pre-trained RandomForest_ManualCV model...\n"
          ]
        },
        {
          "data": {
            "text/html": [
              "<div>\n",
              "<style scoped>\n",
              "    .dataframe tbody tr th:only-of-type {\n",
              "        vertical-align: middle;\n",
              "    }\n",
              "\n",
              "    .dataframe tbody tr th {\n",
              "        vertical-align: top;\n",
              "    }\n",
              "\n",
              "    .dataframe thead th {\n",
              "        text-align: right;\n",
              "    }\n",
              "</style>\n",
              "<table border=\"1\" class=\"dataframe\">\n",
              "  <thead>\n",
              "    <tr style=\"text-align: right;\">\n",
              "      <th></th>\n",
              "      <th>Model</th>\n",
              "      <th>F1 Score</th>\n",
              "      <th>ROC-AUC</th>\n",
              "      <th>Best Params</th>\n",
              "      <th>Trained Model</th>\n",
              "    </tr>\n",
              "  </thead>\n",
              "  <tbody>\n",
              "    <tr>\n",
              "      <th>0</th>\n",
              "      <td>RandomForest_ManualCV</td>\n",
              "      <td>0.8784</td>\n",
              "      <td>0.9978</td>\n",
              "      <td>{'bootstrap': True, 'ccp_alpha': 0.0, 'class_w...</td>\n",
              "      <td>(DecisionTreeClassifier(max_features='log2', r...</td>\n",
              "    </tr>\n",
              "  </tbody>\n",
              "</table>\n",
              "</div>"
            ],
            "text/plain": [
              "                   Model  F1 Score  ROC-AUC  \\\n",
              "0  RandomForest_ManualCV    0.8784   0.9978   \n",
              "\n",
              "                                         Best Params  \\\n",
              "0  {'bootstrap': True, 'ccp_alpha': 0.0, 'class_w...   \n",
              "\n",
              "                                       Trained Model  \n",
              "0  (DecisionTreeClassifier(max_features='log2', r...  "
            ]
          },
          "metadata": {},
          "output_type": "display_data"
        }
      ],
      "source": [
        "# =============================================================================\n",
        "# RandomForest Model\n",
        "# =============================================================================\n",
        "print(\"\\n\" + \"=\"*80)\n",
        "print(\"🚀 RandomForest Evaluation\")\n",
        "print(\"=\"*80)\n",
        "\n",
        "# =============================================================================\n",
        "# GridSearchCV\n",
        "# =============================================================================\n",
        "\n",
        "# model_RandomForest = {\n",
        "#     \"model\": RandomForestClassifier(random_state=42),\n",
        "#     \"params\": {\n",
        "#         \"n_estimators\": [100, 500],\n",
        "#         \"max_depth\": [5, 20],\n",
        "#         \"max_features\": [\"sqrt\", \"log2\"]\n",
        "#     }\n",
        "# }\n",
        "\n",
        "# rf_model = train_or_load_model(\n",
        "#     \"RandomForest\",\n",
        "#     model_RandomForest[\"model\"],\n",
        "#     model_RandomForest[\"params\"],\n",
        "#     X_train, y_train, X_test, y_test\n",
        "# )\n",
        "\n",
        "\n",
        "# =============================================================================\n",
        "# Only CV with Hyper paramount\n",
        "# =============================================================================\n",
        "\n",
        "\n",
        "rf_clf = RandomForestClassifier(random_state=42)\n",
        "\n",
        "param_grid_rf = {\n",
        "    \"n_estimators\": [100, 200],\n",
        "    \"max_depth\": [None, 10],\n",
        "    \"max_features\": ['sqrt', 'log2']\n",
        "}\n",
        "\n",
        "rf_model_manual = manual_cv_search_and_save(\n",
        "    \"RandomForest_ManualCV\", \n",
        "    rf_clf.__class__, \n",
        "    param_grid_rf, \n",
        "    X_train, y_train, X_test, y_test\n",
        ")\n"
      ]
    },
    {
      "cell_type": "markdown",
      "metadata": {},
      "source": [
        "# Model: GradientBoosting"
      ]
    },
    {
      "cell_type": "code",
      "execution_count": null,
      "metadata": {},
      "outputs": [
        {
          "name": "stdout",
          "output_type": "stream",
          "text": [
            "\n",
            "================================================================================\n",
            "🚀 GradientBoosting Evaluation\n",
            "================================================================================\n",
            "🔍 Performing manual CV for GradientBoosting_ManualCV with parameter combinations...\n",
            "Params: {'learning_rate': 0.05, 'max_depth': 3, 'n_estimators': 100} → Avg F1: 0.6234\n",
            "Params: {'learning_rate': 0.05, 'max_depth': 3, 'n_estimators': 200} → Avg F1: 0.5794\n",
            "Params: {'learning_rate': 0.05, 'max_depth': 5, 'n_estimators': 100} → Avg F1: 0.6966\n"
          ]
        }
      ],
      "source": [
        "# =============================================================================\n",
        "# GradientBoosting Model\n",
        "# =============================================================================\n",
        "print(\"\\n\" + \"=\"*80)\n",
        "print(\"🚀 GradientBoosting Evaluation\")\n",
        "print(\"=\"*80)\n",
        "\n",
        "# =============================================================================\n",
        "# GridSearchCV\n",
        "# =============================================================================\n",
        "\n",
        "\n",
        "# model_GradientBoosting = {\n",
        "#     \"model\": GradientBoostingClassifier(random_state=42),\n",
        "#     \"params\": {\n",
        "#         \"n_estimators\": [100, 300],\n",
        "#         \"learning_rate\": [0.01, 0.2],\n",
        "#         \"max_depth\": [3, 10],\n",
        "#         \"subsample\": [0.5, 1.0]\n",
        "#     }\n",
        "# }\n",
        "\n",
        "# gb_model = train_or_load_model(\n",
        "#     \"GradientBoosting\",\n",
        "#     model_GradientBoosting[\"model\"],\n",
        "#     model_GradientBoosting[\"params\"],\n",
        "#     X_train, y_train, X_test, y_test\n",
        "# )\n",
        "\n",
        "\n",
        "# =============================================================================\n",
        "# Only CV with Hyper paramount\n",
        "# =============================================================================\n",
        "\n",
        "\n",
        "gb_clf = GradientBoostingClassifier(random_state=42)\n",
        "\n",
        "param_grid_gb = {\n",
        "    \"n_estimators\": [100, 200],\n",
        "    \"learning_rate\": [0.05, 0.1],\n",
        "    \"max_depth\": [3, 5]\n",
        "}\n",
        "\n",
        "gb_model_manual = manual_cv_search_and_save(\n",
        "    \"GradientBoosting_ManualCV\", \n",
        "    gb_clf.__class__, \n",
        "    param_grid_gb, \n",
        "    X_train, y_train, X_test, y_test\n",
        ")\n",
        "\n"
      ]
    },
    {
      "cell_type": "markdown",
      "metadata": {},
      "source": [
        "# Model: AdaBoost"
      ]
    },
    {
      "cell_type": "code",
      "execution_count": null,
      "metadata": {
        "id": "PDd6iQ2o-GsH"
      },
      "outputs": [],
      "source": [
        "# =============================================================================\n",
        "# AdaBoost Model\n",
        "# =============================================================================\n",
        "print(\"\\n\" + \"=\"*80)\n",
        "print(\"🚀 AdaBoost Evaluation\")\n",
        "print(\"=\"*80)\n",
        "\n",
        "# =============================================================================\n",
        "# GridSearchCV\n",
        "# =============================================================================\n",
        "\n",
        "\n",
        "# model_AdaBoost = {\n",
        "#     \"model\": AdaBoostClassifier(random_state=42),\n",
        "#     \"params\": {\n",
        "#         \"n_estimators\": [50, 300],\n",
        "#         \"learning_rate\": [0.01, 1.0]\n",
        "#     }\n",
        "# }\n",
        "\n",
        "# ada_model = train_or_load_model(\n",
        "#     \"AdaBoost\",\n",
        "#     model_AdaBoost[\"model\"],\n",
        "#     model_AdaBoost[\"params\"],\n",
        "#     X_train, y_train, X_test, y_test\n",
        "# )\n",
        "\n",
        "\n",
        "# =============================================================================\n",
        "# Only CV with Hyper paramount\n",
        "# =============================================================================\n",
        "\n",
        "\n",
        "ada_clf = AdaBoostClassifier(random_state=42)\n",
        "\n",
        "param_grid_ada = {\n",
        "    \"n_estimators\": [50, 100],\n",
        "    \"learning_rate\": [0.5, 1.0]\n",
        "}\n",
        "\n",
        "ada_model_manual = manual_cv_search_and_save(\n",
        "    \"AdaBoost_ManualCV\", \n",
        "    ada_clf.__class__, \n",
        "    param_grid_ada, \n",
        "    X_train, y_train, X_test, y_test\n",
        ")\n"
      ]
    },
    {
      "cell_type": "markdown",
      "metadata": {},
      "source": [
        "# Model: LogisticRegression"
      ]
    },
    {
      "cell_type": "code",
      "execution_count": null,
      "metadata": {},
      "outputs": [],
      "source": [
        "# =============================================================================\n",
        "# LogisticRegression Model\n",
        "# =============================================================================\n",
        "print(\"\\n\" + \"=\"*80)\n",
        "print(\"🚀 LogisticRegression Evaluation\")\n",
        "print(\"=\"*80)\n",
        "\n",
        "# =============================================================================\n",
        "# GridSearchCV\n",
        "# =============================================================================\n",
        "\n",
        "\n",
        "# model_LogisticRegression = {\n",
        "#     \"model\": LogisticRegression(max_iter=1000, solver='lbfgs'),\n",
        "#     \"params\": {\n",
        "#         \"C\": [0.01, 10],\n",
        "#         \"class_weight\": [None, 'balanced']\n",
        "#     }\n",
        "# }\n",
        "\n",
        "# lr_model = train_or_load_model(\n",
        "#     \"LogisticRegression\",\n",
        "#     model_LogisticRegression[\"model\"],\n",
        "#     model_LogisticRegression[\"params\"],\n",
        "#     X_train, y_train, X_test, y_test\n",
        "# )\n",
        "\n",
        "\n",
        "# =============================================================================\n",
        "# Only CV with Hyper paramount\n",
        "# =============================================================================\n",
        "\n",
        "\n",
        "lr_clf = LogisticRegression(solver='lbfgs', random_state=42)\n",
        "\n",
        "param_grid_lr = {\n",
        "    \"C\": [0.1, 1.0],\n",
        "    \"max_iter\": [500, 1000]\n",
        "}\n",
        "\n",
        "lr_model_manual = manual_cv_search_and_save(\n",
        "    \"LogisticRegression_ManualCV\", \n",
        "    lr_clf.__class__, \n",
        "    param_grid_lr, \n",
        "    X_train, y_train, X_test, y_test\n",
        ")\n"
      ]
    },
    {
      "cell_type": "markdown",
      "metadata": {},
      "source": [
        "# Model: Extra Tree"
      ]
    },
    {
      "cell_type": "code",
      "execution_count": null,
      "metadata": {},
      "outputs": [],
      "source": [
        "# =============================================================================\n",
        "# Extra Tree\n",
        "# =============================================================================\n",
        "\n",
        "# =============================================================================\n",
        "# Only CV with Hyper paramount\n",
        "# =============================================================================\n",
        "\n",
        "et_clf = ExtraTreesClassifier(random_state=42)\n",
        "\n",
        "param_grid_et = {\n",
        "    \"n_estimators\": [100, 300],\n",
        "    \"max_depth\": [None, 10],\n",
        "    \"max_features\": ['sqrt', 'log2']\n",
        "}\n",
        "\n",
        "et_model_manual = manual_cv_search_and_save(\n",
        "    \"ExtraTrees_ManualCV\", \n",
        "    et_clf.__class__, \n",
        "    param_grid_et, \n",
        "    X_train, y_train, X_test, y_test\n",
        ")\n"
      ]
    },
    {
      "cell_type": "markdown",
      "metadata": {},
      "source": [
        "# Model: Hist Gradient Boosting"
      ]
    },
    {
      "cell_type": "code",
      "execution_count": null,
      "metadata": {},
      "outputs": [],
      "source": [
        "# =============================================================================\n",
        "# Hist Gradient Boosting\n",
        "# =============================================================================\n",
        "\n",
        "# =============================================================================\n",
        "# Only CV with Hyper paramount\n",
        "# =============================================================================\n",
        "\n",
        "hgb_clf = HistGradientBoostingClassifier(random_state=42)\n",
        "\n",
        "param_grid_hist = {\n",
        "    \"max_iter\": [100, 300],\n",
        "    \"learning_rate\": [0.05, 0.1],\n",
        "    \"max_leaf_nodes\": [31, 100]\n",
        "}\n",
        "\n",
        "hgb_model_manual = manual_cv_search_and_save(\n",
        "    \"HistGradientBoosting_ManualCV\", \n",
        "    hgb_clf.__class__, \n",
        "    param_grid_hist, \n",
        "    X_train, y_train, X_test, y_test\n",
        ")\n"
      ]
    },
    {
      "cell_type": "markdown",
      "metadata": {},
      "source": [
        "# Model: Naive bayes"
      ]
    },
    {
      "cell_type": "code",
      "execution_count": null,
      "metadata": {},
      "outputs": [],
      "source": [
        "# =============================================================================\n",
        "# Navie Bayes\n",
        "# =============================================================================\n",
        "\n",
        "# =============================================================================\n",
        "# Only CV with Hyper paramount\n",
        "# =============================================================================\n",
        "\n",
        "nb_clf = GaussianNB()\n",
        "\n",
        "nb_model_manual = manual_cv_search_and_save(\n",
        "    \"NaiveBayes_ManualCV\", \n",
        "    nb_clf.__class__, \n",
        "    {}, \n",
        "    X_train, y_train, X_test, y_test\n",
        ")\n"
      ]
    },
    {
      "cell_type": "markdown",
      "metadata": {},
      "source": [
        "# Model: K Nearest Neighbour"
      ]
    },
    {
      "cell_type": "code",
      "execution_count": null,
      "metadata": {},
      "outputs": [],
      "source": [
        "# =============================================================================\n",
        "# K Nearest Neighbour\n",
        "# =============================================================================\n",
        "\n",
        "# =============================================================================\n",
        "# Only CV with Hyper paramount\n",
        "# =============================================================================\n",
        "\n",
        "knn_clf = KNeighborsClassifier()\n",
        "\n",
        "param_grid_knn = {\n",
        "    \"n_neighbors\": [3, 5, 7],\n",
        "    \"weights\": ['uniform', 'distance']\n",
        "}\n",
        "\n",
        "knn_model_manual = manual_cv_search_and_save(\n",
        "    \"KNN_ManualCV\", \n",
        "    knn_clf.__class__, \n",
        "    param_grid_knn, \n",
        "    X_train, y_train, X_test, y_test\n",
        ")\n"
      ]
    },
    {
      "cell_type": "markdown",
      "metadata": {},
      "source": [
        "# Model: Decision Tree"
      ]
    },
    {
      "cell_type": "code",
      "execution_count": null,
      "metadata": {},
      "outputs": [],
      "source": [
        "# =============================================================================\n",
        "# Decision Tree\n",
        "# =============================================================================\n",
        "\n",
        "# =============================================================================\n",
        "# Only CV with Hyper paramount\n",
        "# =============================================================================\n",
        "\n",
        "dt_clf = DecisionTreeClassifier(random_state=42)\n",
        "\n",
        "param_grid_dt = {\n",
        "    \"max_depth\": [None, 10, 20],\n",
        "    \"min_samples_split\": [2, 5],\n",
        "    \"min_samples_leaf\": [1, 2]\n",
        "}\n",
        "\n",
        "dt_model_manual = manual_cv_search_and_save(\n",
        "    \"DecisionTree_ManualCV\", \n",
        "    dt_clf.__class__, \n",
        "    param_grid_dt, \n",
        "    X_train, y_train, X_test, y_test\n",
        ")\n"
      ]
    },
    {
      "cell_type": "code",
      "execution_count": null,
      "metadata": {},
      "outputs": [],
      "source": [
        "# =============================================================================\n",
        "# Final Results Comparison\n",
        "# =============================================================================\n",
        "print(\"\\n\" + \"=\"*80)\n",
        "print(\"🏆 FINAL MODEL COMPARISON\")\n",
        "print(\"=\"*80)\n",
        "\n",
        "# Create final results dataframe\n",
        "final_results_df = pd.DataFrame(all_results)\n",
        "\n",
        "# Sort by F1 Score\n",
        "final_results_df = final_results_df.sort_values('F1 Score', ascending=False)\n",
        "\n",
        "# Save final results\n",
        "joblib.dump(final_results_df, os.path.join(MODEL_DIR, \"final_results.joblib\"))\n",
        "\n",
        "# Display with styling\n",
        "def highlight_max(s):\n",
        "    is_max = s == s.max()\n",
        "    return ['background-color: yellow' if v else '' for v in is_max]\n",
        "\n",
        "styled_df = final_results_df.style.apply(highlight_max, subset=['F1 Score', 'ROC-AUC'])\\\n",
        "                                  .background_gradient(subset=['F1 Score', 'ROC-AUC'], cmap='YlGn')\\\n",
        "                                  .set_properties(**{'text-align': 'left'})\n",
        "\n",
        "display(styled_df)"
      ]
    },
    {
      "cell_type": "markdown",
      "metadata": {},
      "source": [
        "# Best Model Analysis"
      ]
    },
    {
      "cell_type": "code",
      "execution_count": null,
      "metadata": {},
      "outputs": [],
      "source": [
        "# =============================================================================\n",
        "# Best Model Analysis\n",
        "# =============================================================================\n",
        "best_model_info = final_results_df.iloc[0]\n",
        "best_model = best_model_info['Trained Model']\n",
        "print(f\"\\n⭐ Best Model: {best_model_info['Model']} (F1: {best_model_info['F1 Score']})\")"
      ]
    },
    {
      "cell_type": "code",
      "execution_count": null,
      "metadata": {
        "id": "QwRfs-NllZBJ"
      },
      "outputs": [],
      "source": [
        "# Confusion Matrix\n",
        "y_pred = best_model.predict(X_test)\n",
        "cm = confusion_matrix(y_test, y_pred)\n",
        "ConfusionMatrixDisplay(cm, display_labels=[\"Not Fraud\", \"Fraud\"]).plot(cmap='Blues')\n",
        "plt.title(\"Confusion Matrix\")\n",
        "plt.show()"
      ]
    },
    {
      "cell_type": "code",
      "execution_count": null,
      "metadata": {
        "id": "xfVXII5Yajbk"
      },
      "outputs": [],
      "source": [
        "# Feature Importance (if available)\n",
        "if hasattr(best_model, \"feature_importances_\"):\n",
        "    importances = best_model.feature_importances_\n",
        "    indices = np.argsort(importances)[::-1][:10]\n",
        "    \n",
        "    plt.figure(figsize=(10, 6))\n",
        "    plt.title(\"Top 10 Feature Importances\")\n",
        "    plt.barh(range(10), importances[indices], color='b', align='center')\n",
        "    plt.yticks(range(10), [features[i] for i in indices])\n",
        "    plt.gca().invert_yaxis()\n",
        "    plt.show()"
      ]
    }
  ],
  "metadata": {
    "colab": {
      "provenance": []
    },
    "kernelspec": {
      "display_name": "venv-3.13 (3.13.5)",
      "language": "python",
      "name": "python3"
    },
    "language_info": {
      "codemirror_mode": {
        "name": "ipython",
        "version": 3
      },
      "file_extension": ".py",
      "mimetype": "text/x-python",
      "name": "python",
      "nbconvert_exporter": "python",
      "pygments_lexer": "ipython3",
      "version": "3.13.5"
    }
  },
  "nbformat": 4,
  "nbformat_minor": 0
}
